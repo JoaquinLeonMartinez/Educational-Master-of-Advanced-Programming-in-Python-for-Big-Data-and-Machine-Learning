{
 "cells": [
  {
   "cell_type": "markdown",
   "id": "befd1410",
   "metadata": {},
   "source": [
    "# Clase 2: Librerias para graficas"
   ]
  },
  {
   "cell_type": "markdown",
   "id": "c96b985d",
   "metadata": {},
   "source": [
    "## Primera parte de la Actividad de la Lección 2"
   ]
  },
  {
   "cell_type": "markdown",
   "id": "13b7053d",
   "metadata": {},
   "source": [
    "Para comprobar de alguna manera que el/la alumno ha trabajado el manual, se pedirá que el alumno envíe el archivo .ipynb con la programación paso a paso de todo lo explicado en el manual relacionado con Gráficos rápidos con pandas (punto 3 del manual)"
   ]
  },
  {
   "cell_type": "code",
   "execution_count": 15,
   "id": "d896d03f",
   "metadata": {},
   "outputs": [],
   "source": [
    "import pandas as pd\n",
    "import matplotlib.pyplot as plt"
   ]
  },
  {
   "cell_type": "markdown",
   "id": "7da94ee0",
   "metadata": {},
   "source": [
    "## Ejemplo 1"
   ]
  },
  {
   "cell_type": "code",
   "execution_count": 2,
   "id": "a3953401",
   "metadata": {},
   "outputs": [
    {
     "data": {
      "text/html": [
       "<div>\n",
       "<style scoped>\n",
       "    .dataframe tbody tr th:only-of-type {\n",
       "        vertical-align: middle;\n",
       "    }\n",
       "\n",
       "    .dataframe tbody tr th {\n",
       "        vertical-align: top;\n",
       "    }\n",
       "\n",
       "    .dataframe thead th {\n",
       "        text-align: right;\n",
       "    }\n",
       "</style>\n",
       "<table border=\"1\" class=\"dataframe\">\n",
       "  <thead>\n",
       "    <tr style=\"text-align: right;\">\n",
       "      <th></th>\n",
       "      <th>X</th>\n",
       "      <th>Y</th>\n",
       "    </tr>\n",
       "  </thead>\n",
       "  <tbody>\n",
       "    <tr>\n",
       "      <th>0</th>\n",
       "      <td>10</td>\n",
       "      <td>15</td>\n",
       "    </tr>\n",
       "    <tr>\n",
       "      <th>1</th>\n",
       "      <td>20</td>\n",
       "      <td>5</td>\n",
       "    </tr>\n",
       "    <tr>\n",
       "      <th>2</th>\n",
       "      <td>30</td>\n",
       "      <td>10</td>\n",
       "    </tr>\n",
       "    <tr>\n",
       "      <th>3</th>\n",
       "      <td>40</td>\n",
       "      <td>8</td>\n",
       "    </tr>\n",
       "    <tr>\n",
       "      <th>4</th>\n",
       "      <td>50</td>\n",
       "      <td>6</td>\n",
       "    </tr>\n",
       "  </tbody>\n",
       "</table>\n",
       "</div>"
      ],
      "text/plain": [
       "    X   Y\n",
       "0  10  15\n",
       "1  20   5\n",
       "2  30  10\n",
       "3  40   8\n",
       "4  50   6"
      ]
     },
     "execution_count": 2,
     "metadata": {},
     "output_type": "execute_result"
    }
   ],
   "source": [
    "df = pd.DataFrame({'X': [10, 20, 30, 40, 50], 'Y': [15, 5, 10, 8, 6]})\n",
    "df.head()"
   ]
  },
  {
   "cell_type": "code",
   "execution_count": 3,
   "id": "1023f485",
   "metadata": {},
   "outputs": [
    {
     "data": {
      "text/plain": [
       "<AxesSubplot:>"
      ]
     },
     "execution_count": 3,
     "metadata": {},
     "output_type": "execute_result"
    },
    {
     "data": {
      "image/png": "[encoded data removed]",
      "text/plain": [
       "<Figure size 432x288 with 1 Axes>"
      ]
     },
     "metadata": {
      "needs_background": "light"
     },
     "output_type": "display_data"
    }
   ],
   "source": [
    "df.plot()"
   ]
  },
  {
   "cell_type": "code",
   "execution_count": 4,
   "id": "7970f32e",
   "metadata": {},
   "outputs": [
    {
     "data": {
      "image/png": "[encoded data removed]",
      "text/plain": [
       "<Figure size 432x288 with 1 Axes>"
      ]
     },
     "metadata": {
      "needs_background": "light"
     },
     "output_type": "display_data"
    }
   ],
   "source": [
    "df.plot(kind=\"bar\")\n",
    "plt.show()"
   ]
  },
  {
   "cell_type": "code",
   "execution_count": 5,
   "id": "18d51edc",
   "metadata": {},
   "outputs": [
    {
     "data": {
      "image/png": "[encoded data removed]",
      "text/plain": [
       "<Figure size 432x288 with 1 Axes>"
      ]
     },
     "metadata": {
      "needs_background": "light"
     },
     "output_type": "display_data"
    }
   ],
   "source": [
    "df.plot(kind=\"bar\", stacked=True)\n",
    "plt.show()"
   ]
  },
  {
   "cell_type": "code",
   "execution_count": 6,
   "id": "f7135290",
   "metadata": {},
   "outputs": [
    {
     "data": {
      "image/png": "[encoded data removed]",
      "text/plain": [
       "<Figure size 432x288 with 1 Axes>"
      ]
     },
     "metadata": {
      "needs_background": "light"
     },
     "output_type": "display_data"
    }
   ],
   "source": [
    "df.plot(kind=\"bar\", stacked=True, grid=True, title=\"Grafica de ejemplo\")\n",
    "plt.show()"
   ]
  },
  {
   "cell_type": "code",
   "execution_count": 8,
   "id": "14d5dfbc",
   "metadata": {},
   "outputs": [
    {
     "data": {
      "text/plain": [
       "15    1\n",
       "5     1\n",
       "10    1\n",
       "8     1\n",
       "6     1\n",
       "Name: Y, dtype: int64"
      ]
     },
     "execution_count": 8,
     "metadata": {},
     "output_type": "execute_result"
    }
   ],
   "source": [
    "df.Y.value_counts()"
   ]
  },
  {
   "cell_type": "code",
   "execution_count": 14,
   "id": "7cc48266",
   "metadata": {},
   "outputs": [
    {
     "data": {
      "image/png": "[encoded data removed]",
      "text/plain": [
       "<Figure size 432x288 with 1 Axes>"
      ]
     },
     "metadata": {
      "needs_background": "light"
     },
     "output_type": "display_data"
    }
   ],
   "source": [
    "df.Y.value_counts().plot(kind=\"bar\")\n",
    "plt.show()"
   ]
  },
  {
   "cell_type": "code",
   "execution_count": 10,
   "id": "cec7856e",
   "metadata": {},
   "outputs": [
    {
     "data": {
      "text/html": [
       "<div>\n",
       "<style scoped>\n",
       "    .dataframe tbody tr th:only-of-type {\n",
       "        vertical-align: middle;\n",
       "    }\n",
       "\n",
       "    .dataframe tbody tr th {\n",
       "        vertical-align: top;\n",
       "    }\n",
       "\n",
       "    .dataframe thead th {\n",
       "        text-align: right;\n",
       "    }\n",
       "</style>\n",
       "<table border=\"1\" class=\"dataframe\">\n",
       "  <thead>\n",
       "    <tr style=\"text-align: right;\">\n",
       "      <th></th>\n",
       "      <th>X</th>\n",
       "      <th>Y</th>\n",
       "    </tr>\n",
       "  </thead>\n",
       "  <tbody>\n",
       "    <tr>\n",
       "      <th>0</th>\n",
       "      <td>10</td>\n",
       "      <td>12</td>\n",
       "    </tr>\n",
       "    <tr>\n",
       "      <th>1</th>\n",
       "      <td>38</td>\n",
       "      <td>20</td>\n",
       "    </tr>\n",
       "    <tr>\n",
       "      <th>2</th>\n",
       "      <td>23</td>\n",
       "      <td>14</td>\n",
       "    </tr>\n",
       "    <tr>\n",
       "      <th>3</th>\n",
       "      <td>8</td>\n",
       "      <td>35</td>\n",
       "    </tr>\n",
       "    <tr>\n",
       "      <th>4</th>\n",
       "      <td>54</td>\n",
       "      <td>6</td>\n",
       "    </tr>\n",
       "  </tbody>\n",
       "</table>\n",
       "</div>"
      ],
      "text/plain": [
       "    X   Y\n",
       "0  10  12\n",
       "1  38  20\n",
       "2  23  14\n",
       "3   8  35\n",
       "4  54   6"
      ]
     },
     "execution_count": 10,
     "metadata": {},
     "output_type": "execute_result"
    }
   ],
   "source": [
    "df2 = pd.DataFrame({'X': [10, 38, 23, 8, 54, 15, 5, 10, 8, 6], 'Y': [12, 20, 14, 35, 6, 22, 20, 64, 38, 21]})\n",
    "df2.head()"
   ]
  },
  {
   "cell_type": "code",
   "execution_count": 13,
   "id": "2007c243",
   "metadata": {},
   "outputs": [
    {
     "data": {
      "image/png": "[encoded data removed]",
      "text/plain": [
       "<Figure size 432x288 with 1 Axes>"
      ]
     },
     "metadata": {
      "needs_background": "light"
     },
     "output_type": "display_data"
    }
   ],
   "source": [
    "df2.Y.value_counts().plot(kind=\"bar\", color=[\"green\", \"orange\"])\n",
    "plt.show()"
   ]
  },
  {
   "cell_type": "markdown",
   "id": "d60297c7",
   "metadata": {},
   "source": [
    "## Ejemplo 2"
   ]
  },
  {
   "cell_type": "code",
   "execution_count": 2,
   "id": "a434a1ba",
   "metadata": {},
   "outputs": [],
   "source": [
    "import pandas as pd\n",
    "import matplotlib.pyplot as plt\n",
    "import numpy as np\n",
    "import seaborn as sns"
   ]
  },
  {
   "cell_type": "code",
   "execution_count": 17,
   "id": "832d5c67",
   "metadata": {},
   "outputs": [
    {
     "data": {
      "text/html": [
       "<div>\n",
       "<style scoped>\n",
       "    .dataframe tbody tr th:only-of-type {\n",
       "        vertical-align: middle;\n",
       "    }\n",
       "\n",
       "    .dataframe tbody tr th {\n",
       "        vertical-align: top;\n",
       "    }\n",
       "\n",
       "    .dataframe thead th {\n",
       "        text-align: right;\n",
       "    }\n",
       "</style>\n",
       "<table border=\"1\" class=\"dataframe\">\n",
       "  <thead>\n",
       "    <tr style=\"text-align: right;\">\n",
       "      <th></th>\n",
       "      <th>Id</th>\n",
       "      <th>SepalLengthCm</th>\n",
       "      <th>SepalWidthCm</th>\n",
       "      <th>PetalLengthCm</th>\n",
       "      <th>PetalWidthCm</th>\n",
       "      <th>Species</th>\n",
       "    </tr>\n",
       "  </thead>\n",
       "  <tbody>\n",
       "    <tr>\n",
       "      <th>0</th>\n",
       "      <td>1</td>\n",
       "      <td>5.1</td>\n",
       "      <td>3.5</td>\n",
       "      <td>1.4</td>\n",
       "      <td>0.2</td>\n",
       "      <td>Iris-setosa</td>\n",
       "    </tr>\n",
       "    <tr>\n",
       "      <th>1</th>\n",
       "      <td>2</td>\n",
       "      <td>4.9</td>\n",
       "      <td>3.0</td>\n",
       "      <td>1.4</td>\n",
       "      <td>0.2</td>\n",
       "      <td>Iris-setosa</td>\n",
       "    </tr>\n",
       "    <tr>\n",
       "      <th>2</th>\n",
       "      <td>3</td>\n",
       "      <td>4.7</td>\n",
       "      <td>3.2</td>\n",
       "      <td>1.3</td>\n",
       "      <td>0.2</td>\n",
       "      <td>Iris-setosa</td>\n",
       "    </tr>\n",
       "    <tr>\n",
       "      <th>3</th>\n",
       "      <td>4</td>\n",
       "      <td>4.6</td>\n",
       "      <td>3.1</td>\n",
       "      <td>1.5</td>\n",
       "      <td>0.2</td>\n",
       "      <td>Iris-setosa</td>\n",
       "    </tr>\n",
       "    <tr>\n",
       "      <th>4</th>\n",
       "      <td>5</td>\n",
       "      <td>5.0</td>\n",
       "      <td>3.6</td>\n",
       "      <td>1.4</td>\n",
       "      <td>0.2</td>\n",
       "      <td>Iris-setosa</td>\n",
       "    </tr>\n",
       "  </tbody>\n",
       "</table>\n",
       "</div>"
      ],
      "text/plain": [
       "   Id  SepalLengthCm  SepalWidthCm  PetalLengthCm  PetalWidthCm      Species\n",
       "0   1            5.1           3.5            1.4           0.2  Iris-setosa\n",
       "1   2            4.9           3.0            1.4           0.2  Iris-setosa\n",
       "2   3            4.7           3.2            1.3           0.2  Iris-setosa\n",
       "3   4            4.6           3.1            1.5           0.2  Iris-setosa\n",
       "4   5            5.0           3.6            1.4           0.2  Iris-setosa"
      ]
     },
     "execution_count": 17,
     "metadata": {},
     "output_type": "execute_result"
    }
   ],
   "source": [
    "df = pd.read_csv(\"IrisSpecies.csv\")\n",
    "df.head()"
   ]
  },
  {
   "cell_type": "code",
   "execution_count": 22,
   "id": "fe2ee029",
   "metadata": {},
   "outputs": [
    {
     "data": {
      "image/png": "[encoded data removed]",
      "text/plain": [
       "<Figure size 460.8x460.8 with 1 Axes>"
      ]
     },
     "metadata": {
      "needs_background": "light"
     },
     "output_type": "display_data"
    }
   ],
   "source": [
    "figura = df[df.Species == 'Iris-setosa'].plot(kind='scatter', \n",
    "                                              x = 'PetalLengthCm', y='PetalWidthCm', \n",
    "                                              color='blue', label='Setosa', \n",
    "                                              figsize=(6.4,6.4))\n",
    "df[df.Species == 'Iris-versicolor'].plot(kind='scatter', \n",
    "                                              x = 'PetalLengthCm', y='PetalWidthCm', \n",
    "                                              color='orange', label='Versicolor', \n",
    "                                              ax=figura)\n",
    "df[df.Species == 'Iris-virginica'].plot(kind='scatter', \n",
    "                                              x = 'PetalLengthCm', y='PetalWidthCm', \n",
    "                                              color='green', label='Virginica', \n",
    "                                              ax=figura)\n",
    "figura.set_xlabel('Longitud')\n",
    "figura.set_ylabel('Anchura')\n",
    "figura.set_title('Grafica del petalo con pandas')\n",
    "plt.show()"
   ]
  },
  {
   "cell_type": "code",
   "execution_count": 23,
   "id": "7ccd21a6",
   "metadata": {},
   "outputs": [
    {
     "data": {
      "image/png": "[encoded data removed]",
      "text/plain": [
       "<Figure size 432x288 with 1 Axes>"
      ]
     },
     "metadata": {
      "needs_background": "light"
     },
     "output_type": "display_data"
    }
   ],
   "source": [
    "# Mathplotlib\n",
    "setosa = df[df.Species == 'Iris-setosa']\n",
    "versicolor = df[df.Species == 'Iris-versicolor']\n",
    "virginica = df[df.Species == 'Iris-virginica']\n",
    "\n",
    "plt.scatter(setosa.PetalLengthCm, setosa.PetalWidthCm, color='blue', label='Setosa')\n",
    "plt.scatter(versicolor.PetalLengthCm, versicolor.PetalWidthCm, color='orange', label='Versicolor')\n",
    "plt.scatter(virginica.PetalLengthCm, virginica.PetalWidthCm, color='green', label='Virginica')\n",
    "\n",
    "\n",
    "plt.xlabel('Longitud')\n",
    "plt.ylabel('Anchura')\n",
    "plt.title('Gráfica del pétalo con Matplotlib')\n",
    "\n",
    "plt.legend()\n",
    "\n",
    "\n",
    "plt.show()"
   ]
  },
  {
   "cell_type": "code",
   "execution_count": 24,
   "id": "db0ec187",
   "metadata": {},
   "outputs": [
    {
     "data": {
      "image/png": "[encoded data removed]",
      "text/plain": [
       "<Figure size 432x288 with 1 Axes>"
      ]
     },
     "metadata": {
      "needs_background": "light"
     },
     "output_type": "display_data"
    }
   ],
   "source": [
    "# Seaborn\n",
    "sns.scatterplot(x='PetalLengthCm', y='PetalWidthCm', hue='Species', data=df)\n",
    "\n",
    "\n",
    "plt.xlabel('Longitud')\n",
    "plt.ylabel('Anchura')\n",
    "plt.title('Gráfica del pétalo con Seaborn')\n",
    "\n",
    "plt.show()"
   ]
  },
  {
   "cell_type": "markdown",
   "id": "7c65a646",
   "metadata": {},
   "source": [
    "## 2.1 Ahora con los sepalos"
   ]
  },
  {
   "cell_type": "code",
   "execution_count": 25,
   "id": "ea9a01ca",
   "metadata": {},
   "outputs": [
    {
     "data": {
      "image/png": "[encoded data removed]",
      "text/plain": [
       "<Figure size 460.8x460.8 with 1 Axes>"
      ]
     },
     "metadata": {
      "needs_background": "light"
     },
     "output_type": "display_data"
    }
   ],
   "source": [
    "figura = df[df.Species == 'Iris-setosa'].plot(kind='scatter', \n",
    "                                              x = 'SepalLengthCm', y='SepalWidthCm', \n",
    "                                              color='blue', label='Setosa', \n",
    "                                              figsize=(6.4,6.4))\n",
    "df[df.Species == 'Iris-versicolor'].plot(kind='scatter', \n",
    "                                              x = 'SepalLengthCm', y='SepalWidthCm', \n",
    "                                              color='orange', label='Versicolor', \n",
    "                                              ax=figura)\n",
    "df[df.Species == 'Iris-virginica'].plot(kind='scatter', \n",
    "                                              x = 'SepalLengthCm', y='SepalWidthCm', \n",
    "                                              color='green', label='Virginica', \n",
    "                                              ax=figura)\n",
    "figura.set_xlabel('Longitud')\n",
    "figura.set_ylabel('Anchura')\n",
    "figura.set_title('Grafica del petalo con pandas')\n",
    "plt.show()"
   ]
  },
  {
   "cell_type": "code",
   "execution_count": 26,
   "id": "fcb53827",
   "metadata": {},
   "outputs": [
    {
     "data": {
      "image/png": "[encoded data removed]",
      "text/plain": [
       "<Figure size 432x288 with 1 Axes>"
      ]
     },
     "metadata": {
      "needs_background": "light"
     },
     "output_type": "display_data"
    }
   ],
   "source": [
    "# Mathplotlib\n",
    "setosa = df[df.Species == 'Iris-setosa']\n",
    "versicolor = df[df.Species == 'Iris-versicolor']\n",
    "virginica = df[df.Species == 'Iris-virginica']\n",
    "\n",
    "plt.scatter(setosa.SepalLengthCm, setosa.SepalWidthCm, color='blue', label='Setosa')\n",
    "plt.scatter(versicolor.SepalLengthCm, versicolor.SepalWidthCm, color='orange', label='Versicolor')\n",
    "plt.scatter(virginica.SepalLengthCm, virginica.SepalWidthCm, color='green', label='Virginica')\n",
    "\n",
    "\n",
    "plt.xlabel('Longitud')\n",
    "plt.ylabel('Anchura')\n",
    "plt.title('Gráfica del pétalo con Matplotlib')\n",
    "\n",
    "plt.legend()\n",
    "\n",
    "\n",
    "plt.show()"
   ]
  },
  {
   "cell_type": "code",
   "execution_count": 27,
   "id": "0d1dd29b",
   "metadata": {},
   "outputs": [
    {
     "data": {
      "image/png": "[encoded data removed]",
      "text/plain": [
       "<Figure size 432x288 with 1 Axes>"
      ]
     },
     "metadata": {
      "needs_background": "light"
     },
     "output_type": "display_data"
    }
   ],
   "source": [
    "# Seaborn\n",
    "sns.scatterplot(x='SepalLengthCm', y='SepalWidthCm', hue='Species', data=df)\n",
    "\n",
    "\n",
    "plt.xlabel('Longitud')\n",
    "plt.ylabel('Anchura')\n",
    "plt.title('Gráfica del pétalo con Seaborn')\n",
    "\n",
    "plt.show()"
   ]
  },
  {
   "cell_type": "code",
   "execution_count": null,
   "id": "5687fe22",
   "metadata": {},
   "outputs": [],
   "source": []
  },
  {
   "cell_type": "markdown",
   "id": "a41961b0",
   "metadata": {},
   "source": [
    "## Segunda parte de la Actividad de la Lección 2"
   ]
  },
  {
   "cell_type": "markdown",
   "id": "6b1b5f3c",
   "metadata": {},
   "source": [
    "Ggplot es una librería muy importante en “R” (lenguaje de programación).\n",
    "En el caso de Python, lo que se va a pedir es que se aprenda de forma autodidacta a hacer las gráficas para Iris Dataset con “plotnine”.\n",
    "Los colores no necesitan coincidir, pero la gráfica debería ser la misma.\n",
    "(pétalo y/o sépalo)\n",
    "Si fueras capaz de aprender algo de esta librería, pero, tal y como se ha comentado, no has sido capaz de hacer esas gráficas podrías perfectamente comentar en una celda de Jupyter qué has aprendido de forma autodidacta, y puedes añadir esas líneas de código, gráficas, para que se vea el esfuerzo y el aprendizaje realizado."
   ]
  },
  {
   "cell_type": "code",
   "execution_count": 1,
   "id": "66b030ba",
   "metadata": {},
   "outputs": [
    {
     "name": "stdout",
     "output_type": "stream",
     "text": [
      "Collecting plotnine\n",
      "  Using cached plotnine-0.12.1-py3-none-any.whl (1.3 MB)\n",
      "Collecting mizani>=0.9.0\n",
      "  Using cached mizani-0.9.0-py3-none-any.whl (73 kB)\n",
      "Requirement already satisfied: numpy>=1.23.0 in c:\\users\\joaquinleon\\appdata\\local\\programs\\python\\python310\\lib\\site-packages (from plotnine) (1.24.3)\n",
      "Requirement already satisfied: pandas>=1.5.0 in c:\\users\\joaquinleon\\appdata\\local\\programs\\python\\python310\\lib\\site-packages (from plotnine) (2.0.1)\n",
      "Requirement already satisfied: scipy>=1.5.0 in c:\\users\\joaquinleon\\appdata\\local\\programs\\python\\python310\\lib\\site-packages (from plotnine) (1.9.3)\n",
      "Collecting matplotlib>=3.6.0\n",
      "  Using cached matplotlib-3.7.1-cp310-cp310-win_amd64.whl (7.6 MB)\n",
      "Collecting statsmodels>=0.14.0\n",
      "  Using cached statsmodels-0.14.0-cp310-cp310-win_amd64.whl (9.2 MB)\n",
      "Requirement already satisfied: patsy>=0.5.1 in c:\\users\\joaquinleon\\appdata\\local\\programs\\python\\python310\\lib\\site-packages (from plotnine) (0.5.3)\n",
      "Requirement already satisfied: contourpy>=1.0.1 in c:\\users\\joaquinleon\\appdata\\local\\programs\\python\\python310\\lib\\site-packages (from matplotlib>=3.6.0->plotnine) (1.0.7)\n",
      "Requirement already satisfied: pyparsing>=2.3.1 in c:\\users\\joaquinleon\\appdata\\local\\programs\\python\\python310\\lib\\site-packages (from matplotlib>=3.6.0->plotnine) (3.0.7)\n",
      "Requirement already satisfied: python-dateutil>=2.7 in c:\\users\\joaquinleon\\appdata\\local\\programs\\python\\python310\\lib\\site-packages (from matplotlib>=3.6.0->plotnine) (2.8.2)\n",
      "Requirement already satisfied: packaging>=20.0 in c:\\users\\joaquinleon\\appdata\\local\\programs\\python\\python310\\lib\\site-packages (from matplotlib>=3.6.0->plotnine) (21.3)\n",
      "Requirement already satisfied: kiwisolver>=1.0.1 in c:\\users\\joaquinleon\\appdata\\local\\programs\\python\\python310\\lib\\site-packages (from matplotlib>=3.6.0->plotnine) (1.3.2)\n",
      "Requirement already satisfied: pillow>=6.2.0 in c:\\users\\joaquinleon\\appdata\\local\\programs\\python\\python310\\lib\\site-packages (from matplotlib>=3.6.0->plotnine) (9.0.1)\n",
      "Requirement already satisfied: cycler>=0.10 in c:\\users\\joaquinleon\\appdata\\local\\programs\\python\\python310\\lib\\site-packages (from matplotlib>=3.6.0->plotnine) (0.11.0)\n",
      "Requirement already satisfied: fonttools>=4.22.0 in c:\\users\\joaquinleon\\appdata\\local\\programs\\python\\python310\\lib\\site-packages (from matplotlib>=3.6.0->plotnine) (4.29.1)\n",
      "Requirement already satisfied: tzdata in c:\\users\\joaquinleon\\appdata\\local\\programs\\python\\python310\\lib\\site-packages (from mizani>=0.9.0->plotnine) (2022.5)\n",
      "Requirement already satisfied: pytz>=2020.1 in c:\\users\\joaquinleon\\appdata\\local\\programs\\python\\python310\\lib\\site-packages (from pandas>=1.5.0->plotnine) (2022.7.1)\n",
      "Requirement already satisfied: six in c:\\users\\joaquinleon\\appdata\\local\\programs\\python\\python310\\lib\\site-packages (from patsy>=0.5.1->plotnine) (1.16.0)\n",
      "Installing collected packages: matplotlib, statsmodels, mizani, plotnine\n",
      "Note: you may need to restart the kernel to use updated packages.\n"
     ]
    },
    {
     "name": "stderr",
     "output_type": "stream",
     "text": [
      "WARNING: Ignoring invalid distribution -atplotlib (c:\\users\\joaquinleon\\appdata\\local\\programs\\python\\python310\\lib\\site-packages)\n",
      "WARNING: Ignoring invalid distribution -atplotlib (c:\\users\\joaquinleon\\appdata\\local\\programs\\python\\python310\\lib\\site-packages)\n",
      "WARNING: Ignoring invalid distribution -atplotlib (c:\\users\\joaquinleon\\appdata\\local\\programs\\python\\python310\\lib\\site-packages)\n",
      "ERROR: Could not install packages due to an OSError: [WinError 5] Access is denied: 'C:\\\\Users\\\\JoaquinLeon\\\\AppData\\\\Local\\\\Programs\\\\Python\\\\Python310\\\\Lib\\\\site-packages\\\\matplotlib\\\\ft2font.cp310-win_amd64.pyd'\n",
      "Consider using the `--user` option or check the permissions.\n",
      "\n",
      "WARNING: Ignoring invalid distribution -atplotlib (c:\\users\\joaquinleon\\appdata\\local\\programs\\python\\python310\\lib\\site-packages)\n",
      "WARNING: Ignoring invalid distribution -atplotlib (c:\\users\\joaquinleon\\appdata\\local\\programs\\python\\python310\\lib\\site-packages)\n",
      "WARNING: Ignoring invalid distribution -atplotlib (c:\\users\\joaquinleon\\appdata\\local\\programs\\python\\python310\\lib\\site-packages)\n",
      "\n",
      "[notice] A new release of pip available: 22.3 -> 23.1.2\n",
      "[notice] To update, run: C:\\Users\\JoaquinLeon\\AppData\\Local\\Programs\\Python\\Python310\\python.exe -m pip install --upgrade pip\n"
     ]
    }
   ],
   "source": [
    "pip install plotnine"
   ]
  },
  {
   "cell_type": "code",
   "execution_count": 2,
   "id": "cfaec026",
   "metadata": {},
   "outputs": [
    {
     "ename": "ModuleNotFoundError",
     "evalue": "No module named 'plotnine'",
     "output_type": "error",
     "traceback": [
      "\u001b[1;31m---------------------------------------------------------------------------\u001b[0m",
      "\u001b[1;31mModuleNotFoundError\u001b[0m                       Traceback (most recent call last)",
      "Input \u001b[1;32mIn [2]\u001b[0m, in \u001b[0;36m<module>\u001b[1;34m\u001b[0m\n\u001b[1;32m----> 1\u001b[0m \u001b[38;5;28;01mfrom\u001b[39;00m \u001b[38;5;21;01mplotnine\u001b[39;00m \u001b[38;5;28;01mimport\u001b[39;00m \u001b[38;5;241m*\u001b[39m\n",
      "\u001b[1;31mModuleNotFoundError\u001b[0m: No module named 'plotnine'"
     ]
    }
   ],
   "source": [
    "from plotnine import *"
   ]
  },
  {
   "cell_type": "code",
   "execution_count": 8,
   "id": "0767be7f",
   "metadata": {},
   "outputs": [
    {
     "ename": "NameError",
     "evalue": "name 'ggplot' is not defined",
     "output_type": "error",
     "traceback": [
      "\u001b[1;31m---------------------------------------------------------------------------\u001b[0m",
      "\u001b[1;31mNameError\u001b[0m                                 Traceback (most recent call last)",
      "Input \u001b[1;32mIn [8]\u001b[0m, in \u001b[0;36m<module>\u001b[1;34m\u001b[0m\n\u001b[0;32m      5\u001b[0m versicolor \u001b[38;5;241m=\u001b[39m df[df\u001b[38;5;241m.\u001b[39mSpecies \u001b[38;5;241m==\u001b[39m \u001b[38;5;124m'\u001b[39m\u001b[38;5;124mIris-versicolor\u001b[39m\u001b[38;5;124m'\u001b[39m]\n\u001b[0;32m      6\u001b[0m virginica \u001b[38;5;241m=\u001b[39m df[df\u001b[38;5;241m.\u001b[39mSpecies \u001b[38;5;241m==\u001b[39m \u001b[38;5;124m'\u001b[39m\u001b[38;5;124mIris-virginica\u001b[39m\u001b[38;5;124m'\u001b[39m]\n\u001b[1;32m----> 8\u001b[0m \u001b[43mggplot\u001b[49m() \u001b[38;5;241m+\u001b[39m \\\n\u001b[0;32m      9\u001b[0m   geom_point(aes(x\u001b[38;5;241m=\u001b[39m\u001b[38;5;124m'\u001b[39m\u001b[38;5;124mPetalLengthCm\u001b[39m\u001b[38;5;124m'\u001b[39m, y\u001b[38;5;241m=\u001b[39m\u001b[38;5;124m'\u001b[39m\u001b[38;5;124mPetalWidthCm\u001b[39m\u001b[38;5;124m'\u001b[39m, color\u001b[38;5;241m=\u001b[39m\u001b[38;5;124m'\u001b[39m\u001b[38;5;124mSpecies\u001b[39m\u001b[38;5;124m'\u001b[39m), data\u001b[38;5;241m=\u001b[39msetosa) \u001b[38;5;241m+\u001b[39m \\\n\u001b[0;32m     10\u001b[0m   geom_point(aes(x\u001b[38;5;241m=\u001b[39m\u001b[38;5;124m'\u001b[39m\u001b[38;5;124mPetalLengthCm\u001b[39m\u001b[38;5;124m'\u001b[39m, y\u001b[38;5;241m=\u001b[39m\u001b[38;5;124m'\u001b[39m\u001b[38;5;124mPetalWidthCm\u001b[39m\u001b[38;5;124m'\u001b[39m, color\u001b[38;5;241m=\u001b[39m\u001b[38;5;124m'\u001b[39m\u001b[38;5;124mSpecies\u001b[39m\u001b[38;5;124m'\u001b[39m), data\u001b[38;5;241m=\u001b[39mversicolor) \u001b[38;5;241m+\u001b[39m \\\n\u001b[0;32m     11\u001b[0m   geom_point(aes(x\u001b[38;5;241m=\u001b[39m\u001b[38;5;124m'\u001b[39m\u001b[38;5;124mPetalLengthCm\u001b[39m\u001b[38;5;124m'\u001b[39m, y\u001b[38;5;241m=\u001b[39m\u001b[38;5;124m'\u001b[39m\u001b[38;5;124mPetalWidthCm\u001b[39m\u001b[38;5;124m'\u001b[39m, color\u001b[38;5;241m=\u001b[39m\u001b[38;5;124m'\u001b[39m\u001b[38;5;124mSpecies\u001b[39m\u001b[38;5;124m'\u001b[39m), data\u001b[38;5;241m=\u001b[39mvirginica) \u001b[38;5;241m+\u001b[39m \\\n\u001b[0;32m     12\u001b[0m   labs(x\u001b[38;5;241m=\u001b[39m\u001b[38;5;124m'\u001b[39m\u001b[38;5;124mLongitud\u001b[39m\u001b[38;5;124m'\u001b[39m, y\u001b[38;5;241m=\u001b[39m\u001b[38;5;124m'\u001b[39m\u001b[38;5;124mAnchura\u001b[39m\u001b[38;5;124m'\u001b[39m, title\u001b[38;5;241m=\u001b[39m\u001b[38;5;124m'\u001b[39m\u001b[38;5;124mGráfica del pétalo con plotnine\u001b[39m\u001b[38;5;124m'\u001b[39m) \u001b[38;5;241m+\u001b[39m \\\n\u001b[0;32m     13\u001b[0m   scale_color_manual(values\u001b[38;5;241m=\u001b[39m[\u001b[38;5;124m'\u001b[39m\u001b[38;5;124mblue\u001b[39m\u001b[38;5;124m'\u001b[39m, \u001b[38;5;124m'\u001b[39m\u001b[38;5;124morange\u001b[39m\u001b[38;5;124m'\u001b[39m, \u001b[38;5;124m'\u001b[39m\u001b[38;5;124mgreen\u001b[39m\u001b[38;5;124m'\u001b[39m]) \u001b[38;5;241m+\u001b[39m \\\n\u001b[0;32m     14\u001b[0m   theme_classic()\n",
      "\u001b[1;31mNameError\u001b[0m: name 'ggplot' is not defined"
     ]
    }
   ],
   "source": [
    "df = pd.read_csv(\"IrisSpecies.csv\")\n",
    "\n",
    "\n",
    "setosa = df[df.Species == 'Iris-setosa']\n",
    "versicolor = df[df.Species == 'Iris-versicolor']\n",
    "virginica = df[df.Species == 'Iris-virginica']\n",
    "\n",
    "ggplot() + \\\n",
    "  geom_point(aes(x='PetalLengthCm', y='PetalWidthCm', color='Species'), data=setosa) + \\\n",
    "  geom_point(aes(x='PetalLengthCm', y='PetalWidthCm', color='Species'), data=versicolor) + \\\n",
    "  geom_point(aes(x='PetalLengthCm', y='PetalWidthCm', color='Species'), data=virginica) + \\\n",
    "  labs(x='Longitud', y='Anchura', title='Gráfica del pétalo con plotnine') + \\\n",
    "  scale_color_manual(values=['blue', 'orange', 'green']) + \\\n",
    "  theme_classic()"
   ]
  },
  {
   "cell_type": "markdown",
   "id": "03c75088",
   "metadata": {},
   "source": [
    "Conclusión: He intentado instalar la libreria \"plotnine\" y a la hora de la instalacion no hay problema pero a la hora de importarla en el fichero no se detecta. La he instalado en diferentes entornos virtuales y en mi maquina pero en ninguno de los casos ha llegado a funcionar. \n",
    "\n",
    "No puedo probar el codigo de la celda anterior ya que no se importa la libreria, pero en principio deberia ser el adecuado para generar la grafica que queremos.\n",
    "\n",
    "He buscado informacion en internet al respecto pero no acabo de dar con la solucion y me esta consumiendo bastante tiempo este apartado. He probado con doferentes versiones de python tambien pero el resultado sigue siendo el mismo ¿puede ser que haya algo que se me este escapando?"
   ]
  },
  {
   "cell_type": "markdown",
   "id": "bdf51e73",
   "metadata": {},
   "source": [
    "## Tercera parte de la Actividad de la Lección 2"
   ]
  },
  {
   "cell_type": "markdown",
   "id": "b69bd52c",
   "metadata": {},
   "source": [
    "\n",
    "Tableau es una herramienta mencionada en los apuntes.\n",
    "¿ Existe alguna forma de programar, o de integrar Python con Tableau ?\n",
    "Si no hay librería alguna que de alguna forma me relacione Tableau con Python como decimos de la forma que sea, indica este propio enunciado (en una celda) y como respuesta (en la celda siguiente): comenta brevemente tu comentario: “no hay nada de Python relacionado con Tableau”.\n",
    "Si es que sí, indicar el nombre de la herramienta, y una breve explicación.\n",
    "Puedes añadir incluso un ejemplo."
   ]
  },
  {
   "cell_type": "markdown",
   "id": "20af377c",
   "metadata": {},
   "source": [
    "En base a la informacion que he encontrado, es posible integrar Tableau en Python utilizando la biblioteca \"tableauhyperapi\". Esta biblioteca permite leer y escribir archivos de datos de Tableau directamente desde Python.\n",
    "\n",
    "Adicionalmente, también se puede utilizar la biblioteca tabcmd, que permite automatizar las tareas de Tableau Server desde Python. Con esta biblioteca, puede realizar operaciones como publicar libros de trabajo, extraer datos de fuentes de datos y programar actualizaciones."
   ]
  },
  {
   "cell_type": "markdown",
   "id": "2a8b7039",
   "metadata": {},
   "source": [
    "Ejemplo: \n",
    "\n",
    "1 - Instalar el paquete:\n",
    "pip install tableauhyperapi"
   ]
  },
  {
   "cell_type": "markdown",
   "id": "a568729a",
   "metadata": {},
   "source": [
    "2 - Ejemplo de codigo:"
   ]
  },
  {
   "cell_type": "code",
   "execution_count": null,
   "id": "857b87c4",
   "metadata": {},
   "outputs": [],
   "source": [
    "from tableauhyperapi import *\n",
    "\n",
    "import os\n",
    "#Ruta donde se guardará el archivo .hyper\n",
    "output_dir = os.getcwd()\n",
    "output_hyper_file = os.path.join(output_dir, 'ejemplo.hyper')\n",
    "\n",
    "#Especificar esquema y tabla\n",
    "table_definition = TableDefinition('test', default_table_metadata=TableMetadata())\n",
    "\n",
    "#Agregar columnas a la tabla\n",
    "table_definition.add_column('id', Type.int())\n",
    "table_definition.add_column('name', Type.text())\n",
    "\n",
    "#Escribir datos en la tabla\n",
    "with HyperProcess(Telemetry.DO_NOT_SEND_USAGE_DATA_TO_TABLEAU) as hyper:\n",
    "    with Connection(hyper.endpoint, output_hyper_file) as connection:\n",
    "        connection.catalog.create_schema('test')\n",
    "        connection.catalog.create_table(table_definition)\n",
    "        with Inserter(connection, table_definition) as inserter:\n",
    "            inserter.add_row((1, 'Juan'))\n",
    "            inserter.add_row((2, 'Ana'))\n",
    "            inserter.add_row((3, 'Pedro'))"
   ]
  },
  {
   "cell_type": "code",
   "execution_count": null,
   "id": "2a7f49d8",
   "metadata": {},
   "outputs": [],
   "source": []
  },
  {
   "cell_type": "markdown",
   "id": "11721daa",
   "metadata": {},
   "source": [
    "## Cuarta parte de la Actividad de la Lección 2"
   ]
  },
  {
   "cell_type": "markdown",
   "id": "1666bc38",
   "metadata": {},
   "source": [
    "Se han mencionado más cosas.\n",
    "Se pedirá en este caso que se tome uno de ellos, y se trate de aprender de forma autodidacta, se pedirá que en el mismo archivo .ipynb se presente algo relacionado con Bokeh preferentemente, o de Power BI.\n",
    "No es importante la elección, pudiera ser Folium, Savvy, o incluso alguna cosa no vista.\n",
    "Pista: No tiene por qué ser algo complejo. Podría ser algo relacionado, similar a la información que te encontrarás en sus respectivos sitios web."
   ]
  },
  {
   "cell_type": "markdown",
   "id": "125aa153",
   "metadata": {},
   "source": [
    "# Power BI:"
   ]
  },
  {
   "cell_type": "markdown",
   "id": "b104341c",
   "metadata": {},
   "source": [
    "Como ya hemos comentado brevemente en clase, Power BI es una herramienta de inteligencia empresarial desarrollada por Microsoft que permite a los usuarios conectarse a diferentes fuentes de datos, transformar y modelar datos, y crear visualizaciones y paneles interactivos para obtener información útil de los datos. Es ampliamente utilizada en el entorno empresarial por su gran utilidad y en gran medida por pertenecer a Microsoft y todo lo que ello implica. \n",
    "\n",
    "Ademas de los comentado anteriormente, los usuarios pueden compartir sus informes y paneles con otros y colaborar en tiempo real en la toma de decisiones basadas en los datos. Power BI ofrece una amplia gama de características, desde la creación de informes básicos hasta el análisis avanzado de datos y el aprendizaje automático.\n",
    "\n",
    "Iniciarse en esta herramienta no es demasiado complejo, a continuacion dejo un ejemplo de código de cómo crear un informe sencillo.\n",
    "\n",
    "El codigo no esta ejecutado ya que se me solicita tener una cuenta perteneciente a una organizacion y ahora mismo la unica que tengo es la del trabajo."
   ]
  },
  {
   "cell_type": "code",
   "execution_count": 6,
   "id": "db12bec0",
   "metadata": {},
   "outputs": [
    {
     "name": "stdout",
     "output_type": "stream",
     "text": [
      "Collecting powerbiclient\n",
      "  Downloading powerbiclient-3.0.0-py2.py3-none-any.whl (672 kB)\n",
      "     -------------------------------------- 672.9/672.9 kB 2.8 MB/s eta 0:00:00\n",
      "Collecting msal>=1.8.0\n",
      "  Downloading msal-1.22.0-py2.py3-none-any.whl (90 kB)\n",
      "     ---------------------------------------- 90.0/90.0 kB 2.6 MB/s eta 0:00:00\n",
      "Requirement already satisfied: pandas in c:\\users\\joaquinleon\\appdata\\local\\programs\\python\\python310\\lib\\site-packages (from powerbiclient) (2.0.1)\n",
      "Requirement already satisfied: requests>=2.25.1 in c:\\users\\joaquinleon\\appdata\\local\\programs\\python\\python310\\lib\\site-packages (from powerbiclient) (2.28.1)\n",
      "Collecting jupyter-ui-poll>=0.1.2\n",
      "  Downloading jupyter_ui_poll-0.2.2-py2.py3-none-any.whl (9.0 kB)\n",
      "Requirement already satisfied: ipywidgets>=7.0.0 in c:\\users\\joaquinleon\\appdata\\local\\programs\\python\\python310\\lib\\site-packages (from powerbiclient) (7.6.5)\n",
      "Requirement already satisfied: ipython>=4.0.0 in c:\\users\\joaquinleon\\appdata\\local\\programs\\python\\python310\\lib\\site-packages (from ipywidgets>=7.0.0->powerbiclient) (8.0.1)\n",
      "Requirement already satisfied: ipython-genutils~=0.2.0 in c:\\users\\joaquinleon\\appdata\\local\\programs\\python\\python310\\lib\\site-packages (from ipywidgets>=7.0.0->powerbiclient) (0.2.0)\n",
      "Requirement already satisfied: ipykernel>=4.5.1 in c:\\users\\joaquinleon\\appdata\\local\\programs\\python\\python310\\lib\\site-packages (from ipywidgets>=7.0.0->powerbiclient) (6.8.0)\n",
      "Requirement already satisfied: widgetsnbextension~=3.5.0 in c:\\users\\joaquinleon\\appdata\\local\\programs\\python\\python310\\lib\\site-packages (from ipywidgets>=7.0.0->powerbiclient) (3.5.2)\n",
      "Requirement already satisfied: traitlets>=4.3.1 in c:\\users\\joaquinleon\\appdata\\local\\programs\\python\\python310\\lib\\site-packages (from ipywidgets>=7.0.0->powerbiclient) (5.1.1)\n",
      "Requirement already satisfied: jupyterlab-widgets>=1.0.0 in c:\\users\\joaquinleon\\appdata\\local\\programs\\python\\python310\\lib\\site-packages (from ipywidgets>=7.0.0->powerbiclient) (1.0.2)\n",
      "Requirement already satisfied: nbformat>=4.2.0 in c:\\users\\joaquinleon\\appdata\\local\\programs\\python\\python310\\lib\\site-packages (from ipywidgets>=7.0.0->powerbiclient) (5.1.3)\n",
      "Requirement already satisfied: cryptography<43,>=0.6 in c:\\users\\joaquinleon\\appdata\\local\\programs\\python\\python310\\lib\\site-packages (from msal>=1.8.0->powerbiclient) (39.0.1)\n",
      "Collecting PyJWT[crypto]<3,>=1.0.0\n",
      "  Downloading PyJWT-2.7.0-py3-none-any.whl (22 kB)\n",
      "Requirement already satisfied: certifi>=2017.4.17 in c:\\users\\joaquinleon\\appdata\\local\\programs\\python\\python310\\lib\\site-packages (from requests>=2.25.1->powerbiclient) (2022.6.15)\n",
      "Requirement already satisfied: urllib3<1.27,>=1.21.1 in c:\\users\\joaquinleon\\appdata\\local\\programs\\python\\python310\\lib\\site-packages (from requests>=2.25.1->powerbiclient) (1.26.11)\n",
      "Requirement already satisfied: idna<4,>=2.5 in c:\\users\\joaquinleon\\appdata\\local\\programs\\python\\python310\\lib\\site-packages (from requests>=2.25.1->powerbiclient) (3.3)\n",
      "Requirement already satisfied: charset-normalizer<3,>=2 in c:\\users\\joaquinleon\\appdata\\local\\programs\\python\\python310\\lib\\site-packages (from requests>=2.25.1->powerbiclient) (2.1.0)\n",
      "Requirement already satisfied: pytz>=2020.1 in c:\\users\\joaquinleon\\appdata\\local\\programs\\python\\python310\\lib\\site-packages (from pandas->powerbiclient) (2022.7.1)\n",
      "Requirement already satisfied: numpy>=1.21.0 in c:\\users\\joaquinleon\\appdata\\local\\programs\\python\\python310\\lib\\site-packages (from pandas->powerbiclient) (1.24.3)\n",
      "Requirement already satisfied: tzdata>=2022.1 in c:\\users\\joaquinleon\\appdata\\local\\programs\\python\\python310\\lib\\site-packages (from pandas->powerbiclient) (2022.5)\n",
      "Requirement already satisfied: python-dateutil>=2.8.2 in c:\\users\\joaquinleon\\appdata\\local\\programs\\python\\python310\\lib\\site-packages (from pandas->powerbiclient) (2.8.2)\n",
      "Requirement already satisfied: cffi>=1.12 in c:\\users\\joaquinleon\\appdata\\local\\programs\\python\\python310\\lib\\site-packages (from cryptography<43,>=0.6->msal>=1.8.0->powerbiclient) (1.15.0)\n",
      "Requirement already satisfied: tornado<7.0,>=4.2 in c:\\users\\joaquinleon\\appdata\\local\\programs\\python\\python310\\lib\\site-packages (from ipykernel>=4.5.1->ipywidgets>=7.0.0->powerbiclient) (6.1)\n",
      "Requirement already satisfied: debugpy<2.0,>=1.0.0 in c:\\users\\joaquinleon\\appdata\\local\\programs\\python\\python310\\lib\\site-packages (from ipykernel>=4.5.1->ipywidgets>=7.0.0->powerbiclient) (1.5.1)\n",
      "Requirement already satisfied: matplotlib-inline<0.2.0,>=0.1.0 in c:\\users\\joaquinleon\\appdata\\local\\programs\\python\\python310\\lib\\site-packages (from ipykernel>=4.5.1->ipywidgets>=7.0.0->powerbiclient) (0.1.3)\n",
      "Requirement already satisfied: jupyter-client<8.0 in c:\\users\\joaquinleon\\appdata\\local\\programs\\python\\python310\\lib\\site-packages (from ipykernel>=4.5.1->ipywidgets>=7.0.0->powerbiclient) (7.1.2)\n",
      "Requirement already satisfied: nest-asyncio in c:\\users\\joaquinleon\\appdata\\local\\programs\\python\\python310\\lib\\site-packages (from ipykernel>=4.5.1->ipywidgets>=7.0.0->powerbiclient) (1.5.4)\n",
      "Requirement already satisfied: decorator in c:\\users\\joaquinleon\\appdata\\local\\programs\\python\\python310\\lib\\site-packages (from ipython>=4.0.0->ipywidgets>=7.0.0->powerbiclient) (4.4.2)\n",
      "Requirement already satisfied: prompt-toolkit!=3.0.0,!=3.0.1,<3.1.0,>=2.0.0 in c:\\users\\joaquinleon\\appdata\\local\\programs\\python\\python310\\lib\\site-packages (from ipython>=4.0.0->ipywidgets>=7.0.0->powerbiclient) (3.0.26)\n",
      "Requirement already satisfied: stack-data in c:\\users\\joaquinleon\\appdata\\local\\programs\\python\\python310\\lib\\site-packages (from ipython>=4.0.0->ipywidgets>=7.0.0->powerbiclient) (0.1.4)\n",
      "Requirement already satisfied: jedi>=0.16 in c:\\users\\joaquinleon\\appdata\\local\\programs\\python\\python310\\lib\\site-packages (from ipython>=4.0.0->ipywidgets>=7.0.0->powerbiclient) (0.18.1)\n",
      "Requirement already satisfied: backcall in c:\\users\\joaquinleon\\appdata\\local\\programs\\python\\python310\\lib\\site-packages (from ipython>=4.0.0->ipywidgets>=7.0.0->powerbiclient) (0.2.0)\n",
      "Requirement already satisfied: pygments in c:\\users\\joaquinleon\\appdata\\local\\programs\\python\\python310\\lib\\site-packages (from ipython>=4.0.0->ipywidgets>=7.0.0->powerbiclient) (2.11.2)\n",
      "Requirement already satisfied: colorama in c:\\users\\joaquinleon\\appdata\\local\\programs\\python\\python310\\lib\\site-packages (from ipython>=4.0.0->ipywidgets>=7.0.0->powerbiclient) (0.4.4)\n",
      "Requirement already satisfied: black in c:\\users\\joaquinleon\\appdata\\local\\programs\\python\\python310\\lib\\site-packages (from ipython>=4.0.0->ipywidgets>=7.0.0->powerbiclient) (22.1.0)\n",
      "Requirement already satisfied: setuptools>=18.5 in c:\\users\\joaquinleon\\appdata\\local\\programs\\python\\python310\\lib\\site-packages (from ipython>=4.0.0->ipywidgets>=7.0.0->powerbiclient) (65.5.0)\n",
      "Requirement already satisfied: pickleshare in c:\\users\\joaquinleon\\appdata\\local\\programs\\python\\python310\\lib\\site-packages (from ipython>=4.0.0->ipywidgets>=7.0.0->powerbiclient) (0.7.5)\n",
      "Requirement already satisfied: jsonschema!=2.5.0,>=2.4 in c:\\users\\joaquinleon\\appdata\\local\\programs\\python\\python310\\lib\\site-packages (from nbformat>=4.2.0->ipywidgets>=7.0.0->powerbiclient) (4.4.0)\n",
      "Requirement already satisfied: jupyter-core in c:\\users\\joaquinleon\\appdata\\local\\programs\\python\\python310\\lib\\site-packages (from nbformat>=4.2.0->ipywidgets>=7.0.0->powerbiclient) (4.9.1)\n",
      "Requirement already satisfied: six>=1.5 in c:\\users\\joaquinleon\\appdata\\local\\programs\\python\\python310\\lib\\site-packages (from python-dateutil>=2.8.2->pandas->powerbiclient) (1.16.0)\n",
      "Requirement already satisfied: notebook>=4.4.1 in c:\\users\\joaquinleon\\appdata\\local\\programs\\python\\python310\\lib\\site-packages (from widgetsnbextension~=3.5.0->ipywidgets>=7.0.0->powerbiclient) (6.4.8)\n",
      "Requirement already satisfied: pycparser in c:\\users\\joaquinleon\\appdata\\local\\programs\\python\\python310\\lib\\site-packages (from cffi>=1.12->cryptography<43,>=0.6->msal>=1.8.0->powerbiclient) (2.21)\n",
      "Requirement already satisfied: parso<0.9.0,>=0.8.0 in c:\\users\\joaquinleon\\appdata\\local\\programs\\python\\python310\\lib\\site-packages (from jedi>=0.16->ipython>=4.0.0->ipywidgets>=7.0.0->powerbiclient) (0.8.3)\n",
      "Requirement already satisfied: attrs>=17.4.0 in c:\\users\\joaquinleon\\appdata\\local\\programs\\python\\python310\\lib\\site-packages (from jsonschema!=2.5.0,>=2.4->nbformat>=4.2.0->ipywidgets>=7.0.0->powerbiclient) (21.4.0)\n",
      "Requirement already satisfied: pyrsistent!=0.17.0,!=0.17.1,!=0.17.2,>=0.14.0 in c:\\users\\joaquinleon\\appdata\\local\\programs\\python\\python310\\lib\\site-packages (from jsonschema!=2.5.0,>=2.4->nbformat>=4.2.0->ipywidgets>=7.0.0->powerbiclient) (0.18.1)\n",
      "Requirement already satisfied: entrypoints in c:\\users\\joaquinleon\\appdata\\local\\programs\\python\\python310\\lib\\site-packages (from jupyter-client<8.0->ipykernel>=4.5.1->ipywidgets>=7.0.0->powerbiclient) (0.4)\n",
      "Requirement already satisfied: pyzmq>=13 in c:\\users\\joaquinleon\\appdata\\local\\programs\\python\\python310\\lib\\site-packages (from jupyter-client<8.0->ipykernel>=4.5.1->ipywidgets>=7.0.0->powerbiclient) (22.3.0)\n",
      "Requirement already satisfied: pywin32>=1.0 in c:\\users\\joaquinleon\\appdata\\local\\programs\\python\\python310\\lib\\site-packages (from jupyter-core->nbformat>=4.2.0->ipywidgets>=7.0.0->powerbiclient) (303)\n",
      "Requirement already satisfied: terminado>=0.8.3 in c:\\users\\joaquinleon\\appdata\\local\\programs\\python\\python310\\lib\\site-packages (from notebook>=4.4.1->widgetsnbextension~=3.5.0->ipywidgets>=7.0.0->powerbiclient) (0.13.1)\n",
      "Requirement already satisfied: nbconvert in c:\\users\\joaquinleon\\appdata\\local\\programs\\python\\python310\\lib\\site-packages (from notebook>=4.4.1->widgetsnbextension~=3.5.0->ipywidgets>=7.0.0->powerbiclient) (6.4.1)\n",
      "Requirement already satisfied: Send2Trash>=1.8.0 in c:\\users\\joaquinleon\\appdata\\local\\programs\\python\\python310\\lib\\site-packages (from notebook>=4.4.1->widgetsnbextension~=3.5.0->ipywidgets>=7.0.0->powerbiclient) (1.8.0)\n",
      "Requirement already satisfied: jinja2 in c:\\users\\joaquinleon\\appdata\\local\\programs\\python\\python310\\lib\\site-packages (from notebook>=4.4.1->widgetsnbextension~=3.5.0->ipywidgets>=7.0.0->powerbiclient) (3.0.3)\n",
      "Requirement already satisfied: prometheus-client in c:\\users\\joaquinleon\\appdata\\local\\programs\\python\\python310\\lib\\site-packages (from notebook>=4.4.1->widgetsnbextension~=3.5.0->ipywidgets>=7.0.0->powerbiclient) (0.13.1)\n",
      "Requirement already satisfied: argon2-cffi in c:\\users\\joaquinleon\\appdata\\local\\programs\\python\\python310\\lib\\site-packages (from notebook>=4.4.1->widgetsnbextension~=3.5.0->ipywidgets>=7.0.0->powerbiclient) (21.3.0)\n",
      "Requirement already satisfied: wcwidth in c:\\users\\joaquinleon\\appdata\\local\\programs\\python\\python310\\lib\\site-packages (from prompt-toolkit!=3.0.0,!=3.0.1,<3.1.0,>=2.0.0->ipython>=4.0.0->ipywidgets>=7.0.0->powerbiclient) (0.2.5)\n",
      "Requirement already satisfied: tomli>=1.1.0 in c:\\users\\joaquinleon\\appdata\\local\\programs\\python\\python310\\lib\\site-packages (from black->ipython>=4.0.0->ipywidgets>=7.0.0->powerbiclient) (2.0.0)\n",
      "Requirement already satisfied: mypy-extensions>=0.4.3 in c:\\users\\joaquinleon\\appdata\\local\\programs\\python\\python310\\lib\\site-packages (from black->ipython>=4.0.0->ipywidgets>=7.0.0->powerbiclient) (0.4.3)\n",
      "Requirement already satisfied: pathspec>=0.9.0 in c:\\users\\joaquinleon\\appdata\\local\\programs\\python\\python310\\lib\\site-packages (from black->ipython>=4.0.0->ipywidgets>=7.0.0->powerbiclient) (0.9.0)\n",
      "Requirement already satisfied: platformdirs>=2 in c:\\users\\joaquinleon\\appdata\\local\\programs\\python\\python310\\lib\\site-packages (from black->ipython>=4.0.0->ipywidgets>=7.0.0->powerbiclient) (2.4.1)\n",
      "Requirement already satisfied: click>=8.0.0 in c:\\users\\joaquinleon\\appdata\\local\\programs\\python\\python310\\lib\\site-packages (from black->ipython>=4.0.0->ipywidgets>=7.0.0->powerbiclient) (8.0.3)\n",
      "Requirement already satisfied: executing in c:\\users\\joaquinleon\\appdata\\local\\programs\\python\\python310\\lib\\site-packages (from stack-data->ipython>=4.0.0->ipywidgets>=7.0.0->powerbiclient) (0.8.2)\n",
      "Requirement already satisfied: pure-eval in c:\\users\\joaquinleon\\appdata\\local\\programs\\python\\python310\\lib\\site-packages (from stack-data->ipython>=4.0.0->ipywidgets>=7.0.0->powerbiclient) (0.2.2)\n",
      "Requirement already satisfied: asttokens in c:\\users\\joaquinleon\\appdata\\local\\programs\\python\\python310\\lib\\site-packages (from stack-data->ipython>=4.0.0->ipywidgets>=7.0.0->powerbiclient) (2.0.5)\n",
      "Requirement already satisfied: pywinpty>=1.1.0 in c:\\users\\joaquinleon\\appdata\\local\\programs\\python\\python310\\lib\\site-packages (from terminado>=0.8.3->notebook>=4.4.1->widgetsnbextension~=3.5.0->ipywidgets>=7.0.0->powerbiclient) (2.0.2)\n",
      "Requirement already satisfied: argon2-cffi-bindings in c:\\users\\joaquinleon\\appdata\\local\\programs\\python\\python310\\lib\\site-packages (from argon2-cffi->notebook>=4.4.1->widgetsnbextension~=3.5.0->ipywidgets>=7.0.0->powerbiclient) (21.2.0)\n",
      "Requirement already satisfied: MarkupSafe>=2.0 in c:\\users\\joaquinleon\\appdata\\local\\programs\\python\\python310\\lib\\site-packages (from jinja2->notebook>=4.4.1->widgetsnbextension~=3.5.0->ipywidgets>=7.0.0->powerbiclient) (2.1.2)\n",
      "Requirement already satisfied: testpath in c:\\users\\joaquinleon\\appdata\\local\\programs\\python\\python310\\lib\\site-packages (from nbconvert->notebook>=4.4.1->widgetsnbextension~=3.5.0->ipywidgets>=7.0.0->powerbiclient) (0.5.0)\n",
      "Requirement already satisfied: bleach in c:\\users\\joaquinleon\\appdata\\local\\programs\\python\\python310\\lib\\site-packages (from nbconvert->notebook>=4.4.1->widgetsnbextension~=3.5.0->ipywidgets>=7.0.0->powerbiclient) (4.1.0)\n",
      "Requirement already satisfied: nbclient<0.6.0,>=0.5.0 in c:\\users\\joaquinleon\\appdata\\local\\programs\\python\\python310\\lib\\site-packages (from nbconvert->notebook>=4.4.1->widgetsnbextension~=3.5.0->ipywidgets>=7.0.0->powerbiclient) (0.5.10)\n",
      "Requirement already satisfied: pandocfilters>=1.4.1 in c:\\users\\joaquinleon\\appdata\\local\\programs\\python\\python310\\lib\\site-packages (from nbconvert->notebook>=4.4.1->widgetsnbextension~=3.5.0->ipywidgets>=7.0.0->powerbiclient) (1.5.0)\n",
      "Requirement already satisfied: mistune<2,>=0.8.1 in c:\\users\\joaquinleon\\appdata\\local\\programs\\python\\python310\\lib\\site-packages (from nbconvert->notebook>=4.4.1->widgetsnbextension~=3.5.0->ipywidgets>=7.0.0->powerbiclient) (0.8.4)\n",
      "Requirement already satisfied: defusedxml in c:\\users\\joaquinleon\\appdata\\local\\programs\\python\\python310\\lib\\site-packages (from nbconvert->notebook>=4.4.1->widgetsnbextension~=3.5.0->ipywidgets>=7.0.0->powerbiclient) (0.7.1)\n",
      "Requirement already satisfied: jupyterlab-pygments in c:\\users\\joaquinleon\\appdata\\local\\programs\\python\\python310\\lib\\site-packages (from nbconvert->notebook>=4.4.1->widgetsnbextension~=3.5.0->ipywidgets>=7.0.0->powerbiclient) (0.1.2)\n",
      "Requirement already satisfied: packaging in c:\\users\\joaquinleon\\appdata\\local\\programs\\python\\python310\\lib\\site-packages (from bleach->nbconvert->notebook>=4.4.1->widgetsnbextension~=3.5.0->ipywidgets>=7.0.0->powerbiclient) (21.3)\n",
      "Requirement already satisfied: webencodings in c:\\users\\joaquinleon\\appdata\\local\\programs\\python\\python310\\lib\\site-packages (from bleach->nbconvert->notebook>=4.4.1->widgetsnbextension~=3.5.0->ipywidgets>=7.0.0->powerbiclient) (0.5.1)\n",
      "Requirement already satisfied: pyparsing!=3.0.5,>=2.0.2 in c:\\users\\joaquinleon\\appdata\\local\\programs\\python\\python310\\lib\\site-packages (from packaging->bleach->nbconvert->notebook>=4.4.1->widgetsnbextension~=3.5.0->ipywidgets>=7.0.0->powerbiclient) (3.0.7)\n",
      "Installing collected packages: PyJWT, msal, jupyter-ui-poll, powerbiclient\n",
      "Successfully installed PyJWT-2.7.0 jupyter-ui-poll-0.2.2 msal-1.22.0 powerbiclient-3.0.0\n",
      "Note: you may need to restart the kernel to use updated packages.\n"
     ]
    },
    {
     "name": "stderr",
     "output_type": "stream",
     "text": [
      "WARNING: Ignoring invalid distribution -atplotlib (c:\\users\\joaquinleon\\appdata\\local\\programs\\python\\python310\\lib\\site-packages)\n",
      "WARNING: Ignoring invalid distribution -atplotlib (c:\\users\\joaquinleon\\appdata\\local\\programs\\python\\python310\\lib\\site-packages)\n",
      "WARNING: Ignoring invalid distribution -atplotlib (c:\\users\\joaquinleon\\appdata\\local\\programs\\python\\python310\\lib\\site-packages)\n",
      "WARNING: Ignoring invalid distribution -atplotlib (c:\\users\\joaquinleon\\appdata\\local\\programs\\python\\python310\\lib\\site-packages)\n",
      "WARNING: Ignoring invalid distribution -atplotlib (c:\\users\\joaquinleon\\appdata\\local\\programs\\python\\python310\\lib\\site-packages)\n",
      "WARNING: Ignoring invalid distribution -atplotlib (c:\\users\\joaquinleon\\appdata\\local\\programs\\python\\python310\\lib\\site-packages)\n",
      "WARNING: Ignoring invalid distribution -atplotlib (c:\\users\\joaquinleon\\appdata\\local\\programs\\python\\python310\\lib\\site-packages)\n",
      "WARNING: Ignoring invalid distribution -atplotlib (c:\\users\\joaquinleon\\appdata\\local\\programs\\python\\python310\\lib\\site-packages)\n",
      "WARNING: Ignoring invalid distribution -atplotlib (c:\\users\\joaquinleon\\appdata\\local\\programs\\python\\python310\\lib\\site-packages)\n",
      "WARNING: Ignoring invalid distribution -atplotlib (c:\\users\\joaquinleon\\appdata\\local\\programs\\python\\python310\\lib\\site-packages)\n",
      "\n",
      "[notice] A new release of pip available: 22.3 -> 23.1.2\n",
      "[notice] To update, run: C:\\Users\\JoaquinLeon\\AppData\\Local\\Programs\\Python\\Python310\\python.exe -m pip install --upgrade pip\n"
     ]
    }
   ],
   "source": [
    "pip install powerbiclient"
   ]
  },
  {
   "cell_type": "code",
   "execution_count": null,
   "id": "2bff5b68",
   "metadata": {},
   "outputs": [
    {
     "name": "stdout",
     "output_type": "stream",
     "text": [
      "Performing device flow authentication. Please follow the instructions below.\n",
      "To sign in, use a web browser to open the page https://microsoft.com/devicelogin and enter the code PLYFXCGT3 to authenticate.\n"
     ]
    }
   ],
   "source": [
    "from powerbiclient import Report, models\n",
    "from powerbiclient.authentication import DeviceCodeLoginAuthentication\n",
    "from pandas import DataFrame\n",
    "\n",
    "# Credenciales de autenticación\n",
    "auth = DeviceCodeLoginAuthentication()\n",
    "\n",
    "# Conexión al servicio de Power BI\n",
    "reports_api = Report(authentication=auth)\n",
    "\n",
    "# Creación del dataframe con los datos\n",
    "data = {'Ciudad': ['Madrid', 'Barcelona', 'Sevilla', 'Valencia'],\n",
    "        'Ventas': [12000, 15000, 8000, 10000]}\n",
    "df = DataFrame(data)\n",
    "\n",
    "# Creación de un informe nuevo\n",
    "report = models.Report()\n",
    "report.name = 'Ventas por ciudad'\n",
    "report_dataset = models.Dataset()\n",
    "report_dataset.name = 'Ventas'\n",
    "report_dataset.tables = [models.Table(name='Tabla1', columns=[models.Column(name='Ciudad', data_type=models.DataType.String),\n",
    "                                                               models.Column(name='Ventas', data_type=models.DataType.Int64)])]\n",
    "report.datasets = [report_dataset]\n",
    "new_report = reports_api.reports.create(report)\n",
    "\n",
    "# Obtener el identificador del informe creado\n",
    "report_id = new_report.id\n",
    "\n",
    "# Obtener el dataset\n",
    "dataset_id = reports_api.datasets.get_by_name(report_id=report_id, dataset_name='Ventas').id\n",
    "\n",
    "# Carga de datos en el dataset\n",
    "reports_api.datasets.add_rows(report_id, dataset_id, df)\n",
    "\n",
    "# Actualizar el informe para que se muestren los nuevos datos\n",
    "reports_api.reports.refresh(report_id)\n",
    "\n",
    "# Publicar el informe\n",
    "reports_api.reports.publish(report_id)"
   ]
  },
  {
   "cell_type": "code",
   "execution_count": null,
   "id": "49b1f3fe",
   "metadata": {},
   "outputs": [],
   "source": []
  }
 ],
 "metadata": {
  "kernelspec": {
   "display_name": "Python 3 (ipykernel)",
   "language": "python",
   "name": "python3"
  },
  "language_info": {
   "codemirror_mode": {
    "name": "ipython",
    "version": 3
   },
   "file_extension": ".py",
   "mimetype": "text/x-python",
   "name": "python",
   "nbconvert_exporter": "python",
   "pygments_lexer": "ipython3",
   "version": "3.10.2"
  }
 },
 "nbformat": 4,
 "nbformat_minor": 5
}
