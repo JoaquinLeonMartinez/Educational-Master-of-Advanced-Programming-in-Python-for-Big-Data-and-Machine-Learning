{
 "cells": [
  {
   "cell_type": "markdown",
   "id": "26f53834",
   "metadata": {},
   "source": [
    "# Actividad 5 Aprendizaje no supervisado - Clustering"
   ]
  },
  {
   "cell_type": "markdown",
   "id": "de093287",
   "metadata": {},
   "source": [
    "## 5.1 Problema I"
   ]
  },
  {
   "cell_type": "markdown",
   "id": "1896a78a",
   "metadata": {},
   "source": [
    "Se pide agrupar un total de 8 patrones bidimensionales en tres clusters (𝑘=3). Los patrones son los siguientes: A1 (2,10), A2(2,5), A3(8,4), A4(5,8), A5(7,5), A6(6,4), A7(1,2) y A8(4,9). Los centroides iniciales son los puntos A1, A3 y A4. La métrica de distancia utilizada será la distancia euclídea"
   ]
  },
  {
   "cell_type": "markdown",
   "id": "8165a795",
   "metadata": {},
   "source": [
    "<img src=\"Screenshot_1.png\">"
   ]
  },
  {
   "cell_type": "markdown",
   "id": "5f0612f5",
   "metadata": {},
   "source": [
    "### 5.1.1 Representar los clusters creados y la posición de los centroides después de cada iteración"
   ]
  },
  {
   "cell_type": "code",
   "execution_count": 1,
   "id": "7f73fb20",
   "metadata": {},
   "outputs": [],
   "source": [
    "# imports # NOTA: Entendi que habia que hacer 3 iteraciones, me di cuenta de que no demasiado tarde.\n",
    "import math\n",
    "import matplotlib.pyplot as plt\n",
    "from matplotlib.patches import Circle"
   ]
  },
  {
   "cell_type": "code",
   "execution_count": 2,
   "id": "90c7f20b",
   "metadata": {},
   "outputs": [],
   "source": [
    "# funciones\n",
    "def distancia_euclidiana(p1, p2):\n",
    "    x1, y1 = p1\n",
    "    x2, y2 = p2\n",
    "    return math.sqrt((x2 - x1)**2 + (y2 - y1)**2)\n",
    "\n",
    "def calcular_clusters(puntos, centros):\n",
    "    clusters = {}\n",
    "    for punto in puntos:\n",
    "        distancias = []\n",
    "        for centro in centros:\n",
    "            dist = distancia_euclidiana(punto, centro)\n",
    "            distancias.append(dist)\n",
    "        print(\"Distancias del punto\", punto, \"a los clusters:\", distancias)\n",
    "        centro_mas_cercano = distancias.index(min(distancias))\n",
    "        if centro_mas_cercano in clusters:\n",
    "            clusters[centro_mas_cercano].append(punto)\n",
    "        else:\n",
    "            clusters[centro_mas_cercano] = [punto]\n",
    "\n",
    "    for centro, puntos in clusters.items():\n",
    "        print(\"Cluster: \", centros[centro], \" Puntos del cluster: \", puntos)\n",
    "    return clusters\n",
    "\n",
    "# Definimmos la funcion para utilizarla mas adelante\n",
    "def calcularGrafica(clusters):\n",
    "    colores = ['red', 'blue', 'green']\n",
    "    for centro, puntos in clusters.items():\n",
    "        x, y = zip(*puntos)\n",
    "        plt.scatter(x, y, color=colores[centro], label='Centro ' + str(centro+1))\n",
    "\n",
    "        # Calcular el centroide del grupo\n",
    "        centroid_x = sum([p[0] for p in puntos]) / len(puntos)\n",
    "        centroid_y = sum([p[1] for p in puntos]) / len(puntos)\n",
    "        plt.scatter(centroid_x, centroid_y, color='black', marker='x', label='Centros')\n",
    "        # Calcular el radio máximo\n",
    "        max_dist = max([distancia_euclidiana((centroid_x, centroid_y), p) for p in puntos])\n",
    "    \n",
    "        # Dibujar el círculo\n",
    "        circle = Circle((centroid_x, centroid_y), max_dist, fill=False, color=colores[centro], linestyle='dashed')\n",
    "        plt.gca().add_patch(circle)\n",
    "\n",
    "    plt.xlabel('Eje X')\n",
    "    plt.ylabel('Eje Y')\n",
    "    plt.title('Agrupación de puntos por centros')\n",
    "    plt.legend()\n",
    "    plt.axis('equal')\n",
    "    plt.show()\n",
    "    \n",
    "# Casi que esto lo podria haber hecho antes de graficar y me ahorraba el coste computacional de hacerlo dos veces\n",
    "def recalcular_centros(clusters):\n",
    "    centros_reales = []\n",
    "    for cluster in clusters.values():\n",
    "        centroid_x = sum([p[0] for p in cluster]) / len(cluster)\n",
    "        centroid_y = sum([p[1] for p in cluster]) / len(cluster)\n",
    "        centros_reales.append((centroid_x, centroid_y))\n",
    "    print(centros_reales)\n",
    "    return centros_reales"
   ]
  },
  {
   "cell_type": "code",
   "execution_count": 3,
   "id": "851fcbae",
   "metadata": {},
   "outputs": [
    {
     "name": "stdout",
     "output_type": "stream",
     "text": [
      "Distancias del punto (2, 10) a los clusters: [0.0, 8.48528137423857, 3.605551275463989]\n",
      "Distancias del punto (2, 5) a los clusters: [5.0, 6.082762530298219, 4.242640687119285]\n",
      "Distancias del punto (8, 4) a los clusters: [8.48528137423857, 0.0, 5.0]\n",
      "Distancias del punto (5, 8) a los clusters: [3.605551275463989, 5.0, 0.0]\n",
      "Distancias del punto (7, 5) a los clusters: [7.0710678118654755, 1.4142135623730951, 3.605551275463989]\n",
      "Distancias del punto (6, 4) a los clusters: [7.211102550927978, 2.0, 4.123105625617661]\n",
      "Distancias del punto (1, 2) a los clusters: [8.06225774829855, 7.280109889280518, 7.211102550927978]\n",
      "Distancias del punto (4, 9) a los clusters: [2.23606797749979, 6.4031242374328485, 1.4142135623730951]\n",
      "Cluster:  (2, 10)  Puntos del cluster:  [(2, 10)]\n",
      "Cluster:  (5, 8)  Puntos del cluster:  [(2, 5), (5, 8), (1, 2), (4, 9)]\n",
      "Cluster:  (8, 4)  Puntos del cluster:  [(8, 4), (7, 5), (6, 4)]\n"
     ]
    }
   ],
   "source": [
    "# Calcular distancia de cada punto a cada cluster para la primera iteracion\n",
    "# ACLARACION: Podria haber hecho todo en un bucle por iteraciones pero qureo que asi es mas grafico.\n",
    "\n",
    "# Puntos:  A1 (2,10), A2(2,5), A3(8,4), A4(5,8), A5(7,5), A6(6,4), A7(1,2) y A8(4,9)\n",
    "# Clusters (centros):  C1(2,10),  C2(8,4),  C3(5,8)\n",
    "\n",
    "puntos = [(2, 10), (2, 5), (8, 4), (5, 8), (7, 5), (6, 4), (1, 2), (4, 9)]\n",
    "centros = [(2, 10), (8, 4), (5, 8)]\n",
    "        \n",
    "clusters = calcular_clusters(puntos, centros)"
   ]
  },
  {
   "cell_type": "code",
   "execution_count": 4,
   "id": "ed8c8871",
   "metadata": {},
   "outputs": [
    {
     "data": {
      "image/png": "[encoded data removed]",
      "text/plain": [
       "<Figure size 432x288 with 1 Axes>"
      ]
     },
     "metadata": {
      "needs_background": "light"
     },
     "output_type": "display_data"
    }
   ],
   "source": [
    "# Mostrammos de nuevo esta vez con los circulos definidos \n",
    "calcularGrafica(clusters)"
   ]
  },
  {
   "cell_type": "code",
   "execution_count": 5,
   "id": "6f504e26",
   "metadata": {},
   "outputs": [
    {
     "name": "stdout",
     "output_type": "stream",
     "text": [
      "[(2.0, 10.0), (3.0, 6.0), (7.0, 4.333333333333333)]\n"
     ]
    }
   ],
   "source": [
    "# Recalcular centros para sa segunda iteracion\n",
    "centros_actualizados = recalcular_centros(clusters)"
   ]
  },
  {
   "cell_type": "code",
   "execution_count": 7,
   "id": "8fbf2809",
   "metadata": {},
   "outputs": [
    {
     "name": "stdout",
     "output_type": "stream",
     "text": [
      "Distancias del punto (2, 10) a los clusters: [0.0, 4.123105625617661, 7.557189365836423]\n",
      "Distancias del punto (2, 5) a los clusters: [5.0, 1.4142135623730951, 5.044248650140519]\n",
      "Distancias del punto (8, 4) a los clusters: [8.48528137423857, 5.385164807134504, 1.0540925533894596]\n",
      "Distancias del punto (5, 8) a los clusters: [3.605551275463989, 2.8284271247461903, 4.176654695380556]\n",
      "Distancias del punto (7, 5) a los clusters: [7.0710678118654755, 4.123105625617661, 0.666666666666667]\n",
      "Distancias del punto (6, 4) a los clusters: [7.211102550927978, 3.605551275463989, 1.0540925533894596]\n",
      "Distancias del punto (1, 2) a los clusters: [8.06225774829855, 4.47213595499958, 6.437735971942655]\n",
      "Distancias del punto (4, 9) a los clusters: [2.23606797749979, 3.1622776601683795, 5.547772325697746]\n",
      "Cluster:  (2.0, 10.0)  Puntos del cluster:  [(2, 10), (4, 9)]\n",
      "Cluster:  (3.0, 6.0)  Puntos del cluster:  [(2, 5), (5, 8), (1, 2)]\n",
      "Cluster:  (7.0, 4.333333333333333)  Puntos del cluster:  [(8, 4), (7, 5), (6, 4)]\n"
     ]
    }
   ],
   "source": [
    "# Calcular distancia de cada punto a cada cluster para la segunda iteracion\n",
    "clusters = calcular_clusters(puntos, centros_actualizados)"
   ]
  },
  {
   "cell_type": "code",
   "execution_count": 8,
   "id": "2bab110b",
   "metadata": {},
   "outputs": [
    {
     "data": {
      "image/png": "[encoded data removed]",
      "text/plain": [
       "<Figure size 432x288 with 1 Axes>"
      ]
     },
     "metadata": {
      "needs_background": "light"
     },
     "output_type": "display_data"
    }
   ],
   "source": [
    "# Mostramos\n",
    "calcularGrafica(clusters)"
   ]
  },
  {
   "cell_type": "code",
   "execution_count": 10,
   "id": "12a1b5c3",
   "metadata": {},
   "outputs": [
    {
     "name": "stdout",
     "output_type": "stream",
     "text": [
      "[(3.0, 9.5), (2.6666666666666665, 5.0), (7.0, 4.333333333333333)]\n"
     ]
    }
   ],
   "source": [
    "# Recalculamos centros\n",
    "centros_actualizados = recalcular_centros(clusters)"
   ]
  },
  {
   "cell_type": "code",
   "execution_count": 11,
   "id": "0c82468e",
   "metadata": {},
   "outputs": [
    {
     "name": "stdout",
     "output_type": "stream",
     "text": [
      "Distancias del punto (2, 10) a los clusters: [1.118033988749895, 5.044248650140519, 7.557189365836423]\n",
      "Distancias del punto (2, 5) a los clusters: [4.6097722286464435, 0.6666666666666665, 5.044248650140519]\n",
      "Distancias del punto (8, 4) a los clusters: [7.433034373659253, 5.426273532033236, 1.0540925533894596]\n",
      "Distancias del punto (5, 8) a los clusters: [2.5, 3.80058475033046, 4.176654695380556]\n",
      "Distancias del punto (7, 5) a los clusters: [6.020797289396148, 4.333333333333334, 0.666666666666667]\n",
      "Distancias del punto (6, 4) a los clusters: [6.264982043070834, 3.4801021696368504, 1.0540925533894596]\n",
      "Distancias del punto (1, 2) a los clusters: [7.762087348130012, 3.431876713662333, 6.437735971942655]\n",
      "Distancias del punto (4, 9) a los clusters: [1.118033988749895, 4.216370213557839, 5.547772325697746]\n",
      "Cluster:  (3.0, 9.5)  Puntos del cluster:  [(2, 10), (5, 8), (4, 9)]\n",
      "Cluster:  (2.6666666666666665, 5.0)  Puntos del cluster:  [(2, 5), (1, 2)]\n",
      "Cluster:  (7.0, 4.333333333333333)  Puntos del cluster:  [(8, 4), (7, 5), (6, 4)]\n"
     ]
    }
   ],
   "source": [
    "# Calcular distancia de cada punto a cada cluster para la tercera iteracion\n",
    "clusters = calcular_clusters(puntos, centros_actualizados)"
   ]
  },
  {
   "cell_type": "code",
   "execution_count": 13,
   "id": "c8e712a0",
   "metadata": {},
   "outputs": [
    {
     "name": "stdout",
     "output_type": "stream",
     "text": [
      "[(3.6666666666666665, 9.0), (1.5, 3.5), (7.0, 4.333333333333333)]\n"
     ]
    },
    {
     "data": {
      "image/png": "[encoded data removed]",
      "text/plain": [
       "<Figure size 432x288 with 1 Axes>"
      ]
     },
     "metadata": {
      "needs_background": "light"
     },
     "output_type": "display_data"
    }
   ],
   "source": [
    "# No estoy seguro de si esto corresponbderia a esta iteracion o si ya seria de la siguiente (ya que esto afectara al SSE)\n",
    "centros_actualizados = recalcular_centros(clusters) \n",
    "# Mostramos\n",
    "calcularGrafica(clusters)"
   ]
  },
  {
   "cell_type": "markdown",
   "id": "8c4acfb9",
   "metadata": {},
   "source": [
    "### 5.1.2 El valor de la métrica SSE"
   ]
  },
  {
   "cell_type": "code",
   "execution_count": 14,
   "id": "6cefb649",
   "metadata": {},
   "outputs": [
    {
     "name": "stdout",
     "output_type": "stream",
     "text": [
      "1.9436506316151\n",
      "1.6666666666666667\n",
      "0.3333333333333335\n",
      "1.5811388300841898\n",
      "1.5811388300841898\n",
      "1.0540925533894596\n",
      "0.666666666666667\n",
      "1.0540925533894596\n",
      "SSE total: 14.333333333333334\n"
     ]
    }
   ],
   "source": [
    "# SSE = suma de las distacias de cada punto a su cluster al cuadrado\n",
    "sse_total = 0\n",
    "for centrovar, puntosvar in clusters.items():\n",
    "    centro_cluster = centros_actualizados[centrovar]\n",
    "    for puntovar in puntosvar:\n",
    "        dist = distancia_euclidiana(puntovar, centro_cluster) \n",
    "        sse_total += dist ** 2 \n",
    "        print(dist)\n",
    "\n",
    "print(\"SSE total:\", sse_total)"
   ]
  },
  {
   "cell_type": "markdown",
   "id": "705f934c",
   "metadata": {},
   "source": [
    "### 5.1.3 Comparar los resultados con los obtenidos en el ejemplo de la sección 2.3. del manual de la lección 5"
   ]
  },
  {
   "cell_type": "markdown",
   "id": "bf46c00e",
   "metadata": {},
   "source": [
    "Si no actualizaba los centros obtenia 21 de SSE, pero al actualizarlos he obtenido el mismo resultado que en el manual, lo cual tiene sentido si miramos las agrupaciones que se han realizado. (coinciden todas)"
   ]
  },
  {
   "cell_type": "markdown",
   "id": "c3615fbd",
   "metadata": {},
   "source": [
    "### 5.1.4 ¿Á que se debe la diferencia de resultados?"
   ]
  },
  {
   "cell_type": "markdown",
   "id": "58c36007",
   "metadata": {},
   "source": [
    "En el caso de no actualizar los centros esta se deberia a que las distancias a los centros anteriores eran mayores al no encontrarse en la posicion optima."
   ]
  },
  {
   "cell_type": "markdown",
   "id": "c43bf935",
   "metadata": {},
   "source": [
    "## 5.2 Problema II"
   ]
  },
  {
   "cell_type": "markdown",
   "id": "b76ac4d0",
   "metadata": {},
   "source": [
    "Dada la siguiente matriz de distancias entre cinco patrones:"
   ]
  },
  {
   "cell_type": "markdown",
   "id": "c96ee817",
   "metadata": {},
   "source": [
    "<img src=\"Screenshot_4.png\">"
   ]
  },
  {
   "cell_type": "markdown",
   "id": "9730bff7",
   "metadata": {},
   "source": [
    "### 5.2.1 Aplicar un clustering jerárquico con el método de enlace simple"
   ]
  },
  {
   "cell_type": "code",
   "execution_count": 18,
   "id": "71f69cc5",
   "metadata": {},
   "outputs": [
    {
     "name": "stdout",
     "output_type": "stream",
     "text": [
      "[[ 0  1  2  9 10]\n",
      " [ 0  0  3  7  5]\n",
      " [ 0  0  0  4  6]\n",
      " [ 0  0  0  0  8]\n",
      " [ 0  0  0  0  0]]\n"
     ]
    }
   ],
   "source": [
    "# Calculamos los minimmos:\n",
    "import numpy as np\n",
    "matriz = np.array([[0, 1, 2, 9, 10],\n",
    "                   [0, 0, 3, 7, 5],\n",
    "                   [0, 0, 0, 4, 6],\n",
    "                   [0, 0, 0, 0, 8],\n",
    "                   [0, 0, 0, 0, 0]])\n",
    "\n",
    "print(matriz)"
   ]
  },
  {
   "cell_type": "code",
   "execution_count": 35,
   "id": "4790363f",
   "metadata": {},
   "outputs": [
    {
     "name": "stdout",
     "output_type": "stream",
     "text": [
      "[[0], [1], [2], [3], [4]]\n"
     ]
    }
   ],
   "source": [
    "def distancia_enlace_simple(cluster1, cluster2):\n",
    "    min_dist = float('inf')\n",
    "    for i in cluster1:\n",
    "        for j in cluster2:\n",
    "            dist = matriz[i][j]\n",
    "            if dist < min_dist:\n",
    "                min_dist = dist\n",
    "    return min_dist\n",
    "\n",
    "# Los nombrare con enteros para simplificar el proceso, con las letras es na pesadilla\n",
    "clusters = [[0], [1], [2], [3], [4]] #[['A'], ['B'], ['C'], ['D'], ['E']]\n",
    "print(clusters)"
   ]
  },
  {
   "cell_type": "code",
   "execution_count": 36,
   "id": "1433240d",
   "metadata": {},
   "outputs": [
    {
     "name": "stdout",
     "output_type": "stream",
     "text": [
      "Se fusionan los clusters  [0]  y  [1]\n",
      "Se fusionan los clusters  [0, 1]  y  [2]\n",
      "Se fusionan los clusters  [0, 1, 2]  y  [3]\n",
      "Se fusionan los clusters  [0, 1, 2, 3]  y  [4]\n"
     ]
    }
   ],
   "source": [
    "while len(clusters) > 1:\n",
    "    min_dist = float('inf')\n",
    "    min_indices = (0, 0)\n",
    "\n",
    "    # Distancia minima\n",
    "    for i in range(len(clusters)):\n",
    "        for j in range(i+1, len(clusters)):\n",
    "            dist = distancia_enlace_simple(clusters[i], clusters[j])\n",
    "            if dist < min_dist:\n",
    "                min_dist = dist\n",
    "                min_indices = (i, j)\n",
    "\n",
    "    print(\"Se fusionan los clusters \", clusters[min_indices[0]], \" y \", clusters[min_indices[1]])\n",
    "    merged_cluster = clusters[min_indices[0]] + clusters[min_indices[1]]\n",
    "    del clusters[min_indices[1]]\n",
    "    clusters[min_indices[0]] = merged_cluster\n"
   ]
  },
  {
   "cell_type": "markdown",
   "id": "08f2b2c5",
   "metadata": {},
   "source": [
    "### 5.2.2 Aplicar un clustering jerárquico con el método de enlace completo"
   ]
  },
  {
   "cell_type": "code",
   "execution_count": 43,
   "id": "6c945116",
   "metadata": {},
   "outputs": [
    {
     "name": "stdout",
     "output_type": "stream",
     "text": [
      "Se fusionan los clusters  [0]  y  [4]\n",
      "Se fusionan los clusters  [0, 4]  y  [3]\n",
      "Se fusionan los clusters  [1]  y  [2]\n",
      "Se fusionan los clusters  [0, 4, 3]  y  [1, 2]\n"
     ]
    }
   ],
   "source": [
    "# Lo mismo que antes pero con maximos: \n",
    "# Inicializar los clusters como puntos individuales con índices enteros\n",
    "clusters = [[0], [1], [2], [3], [4]]\n",
    "\n",
    "def distancia_enlace_completo(cluster1, cluster2):\n",
    "    max_dist = 0\n",
    "    for i in cluster1:\n",
    "        for j in cluster2:\n",
    "            dist = matriz[i][j]\n",
    "            if dist > max_dist:\n",
    "                max_dist = dist\n",
    "    return max_dist\n",
    "distancias = []\n",
    "while len(clusters) > 1:\n",
    "    max_dist = 0\n",
    "    max_indices = (0, 0)\n",
    "\n",
    "    for i in range(len(clusters)):\n",
    "        for j in range(i+1, len(clusters)):\n",
    "            dist = distancia_enlace_completo(clusters[i], clusters[j])\n",
    "            if dist > max_dist:\n",
    "                max_dist = dist\n",
    "                max_indices = (i, j)\n",
    "\n",
    "    print(\"Se fusionan los clusters \", clusters[max_indices[0]], \" y \", clusters[max_indices[1]])\n",
    "    merged_cluster = clusters[max_indices[0]] + clusters[max_indices[1]]\n",
    "    del clusters[max_indices[1]]\n",
    "    clusters[max_indices[0]] = merged_cluster\n",
    "    distancias.append(max_dist)\n"
   ]
  },
  {
   "cell_type": "markdown",
   "id": "73e1078e",
   "metadata": {},
   "source": [
    "### 5.2.3 ¿Se podría usar el método de enlace medio con estos datos? Justifica la respuesta"
   ]
  },
  {
   "cell_type": "markdown",
   "id": "00af9b0a",
   "metadata": {},
   "source": [
    "No se podria porque la matriz de distancias no esta completa de modo que faltarian datos para calcular el punto medio. Si consideraos que las distancias son simetricas, es decir que de A a B hay el mismo coste que de B a A entonces podriamos completar dicha matriz y ser capaces de utilizar este metodo."
   ]
  }
 ],
 "metadata": {
  "kernelspec": {
   "display_name": "Python 3 (ipykernel)",
   "language": "python",
   "name": "python3"
  },
  "language_info": {
   "codemirror_mode": {
    "name": "ipython",
    "version": 3
   },
   "file_extension": ".py",
   "mimetype": "text/x-python",
   "name": "python",
   "nbconvert_exporter": "python",
   "pygments_lexer": "ipython3",
   "version": "3.10.2"
  }
 },
 "nbformat": 4,
 "nbformat_minor": 5
}
