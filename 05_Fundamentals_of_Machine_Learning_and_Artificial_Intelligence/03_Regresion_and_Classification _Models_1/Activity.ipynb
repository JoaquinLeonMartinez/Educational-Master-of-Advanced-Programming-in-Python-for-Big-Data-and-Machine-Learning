{
 "cells": [
  {
   "cell_type": "markdown",
   "id": "86c8fd6c",
   "metadata": {},
   "source": [
    "# Actividad 03 Joaquin Leon Martinez"
   ]
  },
  {
   "cell_type": "markdown",
   "id": "c5a4e315",
   "metadata": {},
   "source": [
    "# 3.1 Regresion"
   ]
  },
  {
   "cell_type": "markdown",
   "id": "da2e5a89",
   "metadata": {},
   "source": [
    "Se desea estimar el valor 𝑌 de una casa dada su superficie 𝑋1 y el número de habitaciones 𝑋2. "
   ]
  },
  {
   "cell_type": "code",
   "execution_count": 2,
   "id": "adb1418f",
   "metadata": {},
   "outputs": [],
   "source": [
    "# Cargamos las librerias necesarias\n",
    "import pandas as pd\n",
    "import numpy as np"
   ]
  },
  {
   "cell_type": "code",
   "execution_count": 6,
   "id": "a79aa1e0",
   "metadata": {},
   "outputs": [],
   "source": [
    "# Cargamos los datos\n",
    "\n",
    "# Actividad 3.1\n",
    "df1_train = pd.read_csv('l3p1_train.csv')\n",
    "df1_test = pd.read_csv('l3p1_test.csv')\n",
    "\n",
    "# Actividad 3.2\n",
    "df2_test = pd.read_csv('l3p2_test.csv')\n",
    "\n",
    "# Actividad3.3\n",
    "df3_train = pd.read_csv('l3p3_train.csv')\n",
    "df3_test = pd.read_csv('l3p3_test.csv')"
   ]
  },
  {
   "cell_type": "markdown",
   "id": "61e41a95",
   "metadata": {},
   "source": [
    "## 3.1.1. El modelo de regresión lineal simple de 𝑌 en función de 𝑋1."
   ]
  },
  {
   "cell_type": "code",
   "execution_count": 7,
   "id": "8e5eec4b",
   "metadata": {},
   "outputs": [
    {
     "data": {
      "text/html": [
       "<div>\n",
       "<style scoped>\n",
       "    .dataframe tbody tr th:only-of-type {\n",
       "        vertical-align: middle;\n",
       "    }\n",
       "\n",
       "    .dataframe tbody tr th {\n",
       "        vertical-align: top;\n",
       "    }\n",
       "\n",
       "    .dataframe thead th {\n",
       "        text-align: right;\n",
       "    }\n",
       "</style>\n",
       "<table border=\"1\" class=\"dataframe\">\n",
       "  <thead>\n",
       "    <tr style=\"text-align: right;\">\n",
       "      <th></th>\n",
       "      <th>x1</th>\n",
       "      <th>x2</th>\n",
       "      <th>y</th>\n",
       "    </tr>\n",
       "  </thead>\n",
       "  <tbody>\n",
       "    <tr>\n",
       "      <th>0</th>\n",
       "      <td>60</td>\n",
       "      <td>1</td>\n",
       "      <td>120</td>\n",
       "    </tr>\n",
       "    <tr>\n",
       "      <th>1</th>\n",
       "      <td>55</td>\n",
       "      <td>2</td>\n",
       "      <td>125</td>\n",
       "    </tr>\n",
       "    <tr>\n",
       "      <th>2</th>\n",
       "      <td>70</td>\n",
       "      <td>1</td>\n",
       "      <td>130</td>\n",
       "    </tr>\n",
       "    <tr>\n",
       "      <th>3</th>\n",
       "      <td>60</td>\n",
       "      <td>2</td>\n",
       "      <td>112</td>\n",
       "    </tr>\n",
       "    <tr>\n",
       "      <th>4</th>\n",
       "      <td>62</td>\n",
       "      <td>1</td>\n",
       "      <td>122</td>\n",
       "    </tr>\n",
       "  </tbody>\n",
       "</table>\n",
       "</div>"
      ],
      "text/plain": [
       "   x1  x2    y\n",
       "0  60   1  120\n",
       "1  55   2  125\n",
       "2  70   1  130\n",
       "3  60   2  112\n",
       "4  62   1  122"
      ]
     },
     "execution_count": 7,
     "metadata": {},
     "output_type": "execute_result"
    }
   ],
   "source": [
    "# Para los modelos de regresion lineal se recomienda escalar las variables antes de comenzar con el entrenamiento.\n",
    "# Escalar un modelo: tomar su valor minimo como 0 y el maximmo como 1, el resto seran numeros comprendidos entre 0  1\n",
    "\n",
    "# Comprobammos los datos antes de escalar:\n",
    "df1_train.head()"
   ]
  },
  {
   "cell_type": "code",
   "execution_count": 8,
   "id": "0c14062e",
   "metadata": {},
   "outputs": [
    {
     "data": {
      "text/html": [
       "<div>\n",
       "<style scoped>\n",
       "    .dataframe tbody tr th:only-of-type {\n",
       "        vertical-align: middle;\n",
       "    }\n",
       "\n",
       "    .dataframe tbody tr th {\n",
       "        vertical-align: top;\n",
       "    }\n",
       "\n",
       "    .dataframe thead th {\n",
       "        text-align: right;\n",
       "    }\n",
       "</style>\n",
       "<table border=\"1\" class=\"dataframe\">\n",
       "  <thead>\n",
       "    <tr style=\"text-align: right;\">\n",
       "      <th></th>\n",
       "      <th>x1</th>\n",
       "      <th>x2</th>\n",
       "      <th>y</th>\n",
       "    </tr>\n",
       "  </thead>\n",
       "  <tbody>\n",
       "    <tr>\n",
       "      <th>0</th>\n",
       "      <td>0.166667</td>\n",
       "      <td>1</td>\n",
       "      <td>120</td>\n",
       "    </tr>\n",
       "    <tr>\n",
       "      <th>1</th>\n",
       "      <td>0.000000</td>\n",
       "      <td>2</td>\n",
       "      <td>125</td>\n",
       "    </tr>\n",
       "    <tr>\n",
       "      <th>2</th>\n",
       "      <td>0.500000</td>\n",
       "      <td>1</td>\n",
       "      <td>130</td>\n",
       "    </tr>\n",
       "    <tr>\n",
       "      <th>3</th>\n",
       "      <td>0.166667</td>\n",
       "      <td>2</td>\n",
       "      <td>112</td>\n",
       "    </tr>\n",
       "    <tr>\n",
       "      <th>4</th>\n",
       "      <td>0.233333</td>\n",
       "      <td>1</td>\n",
       "      <td>122</td>\n",
       "    </tr>\n",
       "  </tbody>\n",
       "</table>\n",
       "</div>"
      ],
      "text/plain": [
       "         x1  x2    y\n",
       "0  0.166667   1  120\n",
       "1  0.000000   2  125\n",
       "2  0.500000   1  130\n",
       "3  0.166667   2  112\n",
       "4  0.233333   1  122"
      ]
     },
     "execution_count": 8,
     "metadata": {},
     "output_type": "execute_result"
    }
   ],
   "source": [
    "# Procedemos a escalarlo (sin utilizar sklearn):\n",
    "# Guardamos el nombre de la columna que queremos escalara en una variable\n",
    "columna = 'x1'\n",
    "\n",
    "# Almacenamos los valores mínimos y máximos de la columna\n",
    "min_valor = df1_train[columna].min()\n",
    "max_valor = df1_train[columna].max()\n",
    "\n",
    "# Escalamos la columna utilizando la fórmula de min-max scaling\n",
    "df1_train[columna] = (df1_train[columna] - min_valor) / (max_valor - min_valor)\n",
    "df1_train.head()"
   ]
  },
  {
   "cell_type": "code",
   "execution_count": 9,
   "id": "25729673",
   "metadata": {},
   "outputs": [
    {
     "data": {
      "text/html": [
       "<div>\n",
       "<style scoped>\n",
       "    .dataframe tbody tr th:only-of-type {\n",
       "        vertical-align: middle;\n",
       "    }\n",
       "\n",
       "    .dataframe tbody tr th {\n",
       "        vertical-align: top;\n",
       "    }\n",
       "\n",
       "    .dataframe thead th {\n",
       "        text-align: right;\n",
       "    }\n",
       "</style>\n",
       "<table border=\"1\" class=\"dataframe\">\n",
       "  <thead>\n",
       "    <tr style=\"text-align: right;\">\n",
       "      <th></th>\n",
       "      <th>x1</th>\n",
       "      <th>x2</th>\n",
       "      <th>y</th>\n",
       "    </tr>\n",
       "  </thead>\n",
       "  <tbody>\n",
       "    <tr>\n",
       "      <th>0</th>\n",
       "      <td>0.166667</td>\n",
       "      <td>0.0</td>\n",
       "      <td>120</td>\n",
       "    </tr>\n",
       "    <tr>\n",
       "      <th>1</th>\n",
       "      <td>0.000000</td>\n",
       "      <td>0.5</td>\n",
       "      <td>125</td>\n",
       "    </tr>\n",
       "    <tr>\n",
       "      <th>2</th>\n",
       "      <td>0.500000</td>\n",
       "      <td>0.0</td>\n",
       "      <td>130</td>\n",
       "    </tr>\n",
       "    <tr>\n",
       "      <th>3</th>\n",
       "      <td>0.166667</td>\n",
       "      <td>0.5</td>\n",
       "      <td>112</td>\n",
       "    </tr>\n",
       "    <tr>\n",
       "      <th>4</th>\n",
       "      <td>0.233333</td>\n",
       "      <td>0.0</td>\n",
       "      <td>122</td>\n",
       "    </tr>\n",
       "    <tr>\n",
       "      <th>5</th>\n",
       "      <td>0.500000</td>\n",
       "      <td>0.5</td>\n",
       "      <td>135</td>\n",
       "    </tr>\n",
       "    <tr>\n",
       "      <th>6</th>\n",
       "      <td>0.166667</td>\n",
       "      <td>1.0</td>\n",
       "      <td>128</td>\n",
       "    </tr>\n",
       "    <tr>\n",
       "      <th>7</th>\n",
       "      <td>0.833333</td>\n",
       "      <td>0.0</td>\n",
       "      <td>140</td>\n",
       "    </tr>\n",
       "    <tr>\n",
       "      <th>8</th>\n",
       "      <td>0.833333</td>\n",
       "      <td>0.5</td>\n",
       "      <td>150</td>\n",
       "    </tr>\n",
       "    <tr>\n",
       "      <th>9</th>\n",
       "      <td>1.000000</td>\n",
       "      <td>1.0</td>\n",
       "      <td>160</td>\n",
       "    </tr>\n",
       "  </tbody>\n",
       "</table>\n",
       "</div>"
      ],
      "text/plain": [
       "         x1   x2    y\n",
       "0  0.166667  0.0  120\n",
       "1  0.000000  0.5  125\n",
       "2  0.500000  0.0  130\n",
       "3  0.166667  0.5  112\n",
       "4  0.233333  0.0  122\n",
       "5  0.500000  0.5  135\n",
       "6  0.166667  1.0  128\n",
       "7  0.833333  0.0  140\n",
       "8  0.833333  0.5  150\n",
       "9  1.000000  1.0  160"
      ]
     },
     "execution_count": 9,
     "metadata": {},
     "output_type": "execute_result"
    }
   ],
   "source": [
    "# Hacemos lo mmismmmo con la columna x2 (para dejarla lista para el siguiente ejercicio)\n",
    "columna = 'x2'\n",
    "min_valor = df1_train[columna].min()\n",
    "max_valor = df1_train[columna].max()\n",
    "df1_train[columna] = (df1_train[columna] - min_valor) / (max_valor - min_valor)\n",
    "df1_train.head(10)"
   ]
  },
  {
   "cell_type": "code",
   "execution_count": 10,
   "id": "60e00623",
   "metadata": {},
   "outputs": [
    {
     "name": "stdout",
     "output_type": "stream",
     "text": [
      "Las medias de x1, x2 e y son  0.44000000000000006 0.4 132.2  respectivamente\n"
     ]
    }
   ],
   "source": [
    "# Ahora calcularemos las medias de todas las columnas: (las utilizaremmos mas tardes para optiizar el modelo)\n",
    "meanx1 = df1_train['x1'].mean()\n",
    "meanx2 = df1_train['x2'].mean()\n",
    "meany = df1_train['y'].mean()\n",
    "\n",
    "print('Las medias de x1, x2 e y son ', meanx1, meanx2, meany, ' respectivamente')"
   ]
  },
  {
   "cell_type": "code",
   "execution_count": 11,
   "id": "4dc7b297",
   "metadata": {},
   "outputs": [
    {
     "name": "stdout",
     "output_type": "stream",
     "text": [
      "Matriz de Covarianzas:\n",
      "[[2.10400000e+02 4.55037037e+00 2.24444444e+00]\n",
      " [4.55037037e+00 1.21185185e-01 1.74074074e-02]\n",
      " [2.24444444e+00 1.74074074e-02 1.55555556e-01]]\n"
     ]
    }
   ],
   "source": [
    "# Calculammos la matriz de varianza-covarianza:\n",
    "# Para calcularla necesitaremos primero las varianzas de todas las variables\n",
    "varx1 = df1_train['x1'].var()\n",
    "varx2 = df1_train['x2'].var()\n",
    "vary = df1_train['y'].var()\n",
    "\n",
    "# Calculammos tambien las covarianzas\n",
    "covyx1 = df1_train['y'].cov(df1_train['x1'])\n",
    "covyx2 = df1_train['y'].cov(df1_train['x2'])\n",
    "covx1x2 = df1_train['x1'].cov(df1_train['x2'])\n",
    "\n",
    "'''\n",
    "La matriz de covarianza debe quedar tal que asi:\n",
    "vary covyx1 covyx2\n",
    "covyx1 varx1 covx1x2\n",
    "covyx2 covx1x2 varx2\n",
    "'''\n",
    "\n",
    "m_cov = np.array([[vary, covyx1, covyx2],\n",
    "                               [covyx1, varx1, covx1x2],\n",
    "                               [covyx2, covx1x2, varx2]])\n",
    "\n",
    "print(\"Matriz de Covarianzas:\")\n",
    "print(m_cov)\n"
   ]
  },
  {
   "cell_type": "code",
   "execution_count": 12,
   "id": "7732affc",
   "metadata": {},
   "outputs": [
    {
     "name": "stdout",
     "output_type": "stream",
     "text": [
      "Matriz de Varianza-Covarianza con la tercera columna en la primera posición:\n",
      "[[2.10400000e+02 4.55036844e+00 2.24444444e+00]\n",
      " [4.55036844e+00 1.21185081e-01 1.74074444e-02]\n",
      " [2.24444444e+00 1.74074444e-02 1.55555556e-01]]\n"
     ]
    }
   ],
   "source": [
    "# Probammos a calcular la mariz de covarianza con numpy\n",
    "data = np.array([\n",
    "    [120, 0.166667, 0.0],\n",
    "    [125, 0.000000, 0.5],\n",
    "    [130, 0.500000, 0.0],\n",
    "    [112, 0.166667, 0.5],\n",
    "    [122, 0.233333, 0.0],\n",
    "    [135, 0.500000, 0.5],\n",
    "    [128, 0.166667, 1.0],\n",
    "    [140, 0.833333, 0.0],\n",
    "    [150, 0.833333, 0.5],\n",
    "    [160, 1.000000, 1.0]\n",
    "])\n",
    "\n",
    "\n",
    "\n",
    "# Calcula la matriz de varianza-covarianza (es la misma que la matriz de covarianza)\n",
    "var_cov_matrix = np.cov(data.T)\n",
    "\n",
    "print(\"Matriz de Varianza-Covarianza con la tercera columna en la primera posición:\")\n",
    "print(var_cov_matrix)"
   ]
  },
  {
   "cell_type": "code",
   "execution_count": 13,
   "id": "9497a312",
   "metadata": {},
   "outputs": [
    {
     "name": "stdout",
     "output_type": "stream",
     "text": [
      "B1 =  37.54889975550122\n"
     ]
    }
   ],
   "source": [
    "# En este caso queremos calcular la regresion lineal de y en funcion de x1\n",
    "# Por lo tanto tenemmos que calcular B0 y B1 en la siguiente formula: y = B0 + B1*x1\n",
    "# Commo hemos visto en clase B1 = covyx1/varx1 \n",
    "B1 = covyx1/varx1\n",
    "\n",
    "print('B1 = ', B1)"
   ]
  },
  {
   "cell_type": "code",
   "execution_count": 14,
   "id": "e6deed69",
   "metadata": {},
   "outputs": [
    {
     "name": "stdout",
     "output_type": "stream",
     "text": [
      "B0 =  115.67848410757945\n"
     ]
    }
   ],
   "source": [
    "# B0 = meany - B1*meanx1\n",
    "B0 = meany - B1*meanx1\n",
    "print('B0 = ', B0)"
   ]
  },
  {
   "cell_type": "code",
   "execution_count": 15,
   "id": "32e9554f",
   "metadata": {},
   "outputs": [
    {
     "name": "stdout",
     "output_type": "stream",
     "text": [
      "         x1   x2    y      y_pred\n",
      "0  0.166667  0.0  120  121.936634\n",
      "1  0.000000  0.5  125  115.678484\n",
      "2  0.500000  0.0  130  134.452934\n",
      "3  0.166667  0.5  112  121.936634\n",
      "4  0.233333  0.0  122  124.439894\n",
      "5  0.500000  0.5  135  134.452934\n",
      "6  0.166667  1.0  128  121.936634\n",
      "7  0.833333  0.0  140  146.969234\n",
      "8  0.833333  0.5  150  146.969234\n",
      "9  1.000000  1.0  160  153.227384\n"
     ]
    }
   ],
   "source": [
    "# Por lo tanto el modelo de regresion lineal en este caso seria -414.88190709046427 + 1243.3679706601458*x1\n",
    "\n",
    "# Vamos a ver que resultados obtenemos: y = B0 + B1*X1 \n",
    "df1_train['y_pred'] = B0 + B1 * df1_train['x1']\n",
    "\n",
    "print(df1_train)"
   ]
  },
  {
   "cell_type": "markdown",
   "id": "c0668057",
   "metadata": {},
   "source": [
    "## 3.1.2. El modelo de regresión lineal simple de 𝑌 en función de 𝑋2."
   ]
  },
  {
   "cell_type": "code",
   "execution_count": 16,
   "id": "ae3e0028",
   "metadata": {},
   "outputs": [
    {
     "name": "stdout",
     "output_type": "stream",
     "text": [
      "B0 =  126.42857142857142\n",
      "B1 =  14.428571428571423\n"
     ]
    }
   ],
   "source": [
    "# Seguios el mismo procedimiento que en el caso anterior pero con x2\n",
    "\n",
    "# En este caso queremos calcular la regresion lineal de y en funcion de x2\n",
    "# Por lo tanto tenemmos que calcular B0 y B1 en la siguiente formula: y = B0 + B1*x2\n",
    "# Commo hemos visto en clase B1 = covyx2/varx2 \n",
    "B1 = covyx2/varx2\n",
    "# B0 = meany - B1*meanx1\n",
    "B0 = meany - B1*meanx2\n",
    "print('B0 = ', B0)\n",
    "print('B1 = ', B1)\n"
   ]
  },
  {
   "cell_type": "code",
   "execution_count": 17,
   "id": "1b77dd06",
   "metadata": {},
   "outputs": [
    {
     "name": "stdout",
     "output_type": "stream",
     "text": [
      "         x1   x2    y      y_pred     y2_pred\n",
      "0  0.166667  0.0  120  121.936634  126.428571\n",
      "1  0.000000  0.5  125  115.678484  133.642857\n",
      "2  0.500000  0.0  130  134.452934  126.428571\n",
      "3  0.166667  0.5  112  121.936634  133.642857\n",
      "4  0.233333  0.0  122  124.439894  126.428571\n",
      "5  0.500000  0.5  135  134.452934  133.642857\n",
      "6  0.166667  1.0  128  121.936634  140.857143\n",
      "7  0.833333  0.0  140  146.969234  126.428571\n",
      "8  0.833333  0.5  150  146.969234  133.642857\n",
      "9  1.000000  1.0  160  153.227384  140.857143\n"
     ]
    }
   ],
   "source": [
    "# Por lo tanto el modelo de regresion lineal en este caso seria -414.88190709046427 + 1243.3679706601458*x2\n",
    "\n",
    "# Vamos a ver que resultados obtenemos: y = B0 + B1*X1 \n",
    "df1_train['y2_pred'] = B0 + B1 * df1_train['x2']\n",
    "\n",
    "print(df1_train)"
   ]
  },
  {
   "cell_type": "markdown",
   "id": "b425556f",
   "metadata": {},
   "source": [
    "## 3.1.3. El modelo de regresión lineal múltiple de 𝑌 en función de 𝑋1 y 𝑋2."
   ]
  },
  {
   "cell_type": "code",
   "execution_count": 18,
   "id": "0a4cef44",
   "metadata": {},
   "outputs": [
    {
     "name": "stdout",
     "output_type": "stream",
     "text": [
      "B0 =  112.17790186000073\n",
      "B1 =  36.05591095662463\n",
      "B2 =  10.39374329771105\n"
     ]
    }
   ],
   "source": [
    "# Aqui se nos complican un poco las ecuaciones porque teneos dos variables. la formula pasa a ser y = B0 + B1*x1 + B2*x2\n",
    "# B0 = meany - B1*meanx1 - B2*meanx2\n",
    "# B1 = -A12 / -A11\n",
    "# B2 = -A13 / - A11\n",
    "\n",
    "# Antes de continuar necesitareos llos adjuntos para calcular lo anterior\n",
    "varx1 = df1_train['x1'].var()\n",
    "varx2 = df1_train['x2'].var()\n",
    "vary = df1_train['y'].var()\n",
    "\n",
    "# Calculammos tambien las covarianzas\n",
    "covyx1 = df1_train['y'].cov(df1_train['x1'])\n",
    "covyx2 = df1_train['y'].cov(df1_train['x2'])\n",
    "covx1x2 = df1_train['x1'].cov(df1_train['x2'])\n",
    "\n",
    "A12 = - ((covyx1 * varx2) - (covx1x2 * covyx2)) # Este se niega porque la suma de los subindices da impar\n",
    "A11 = ((varx1 * varx2) - (covx1x2 * covx1x2))\n",
    "A13 = ((covyx1 * covx1x2) - (varx1 * covyx2))\n",
    "\n",
    "# Ahora si que podemos calcular la formmula:\n",
    "B1 = -A12 / A11\n",
    "B2 = -A13 / A11\n",
    "B0 = meany - B1*meanx1 - B2*meanx2\n",
    "\n",
    "print('B0 = ', B0)\n",
    "print('B1 = ', B1)\n",
    "print('B2 = ', B2)"
   ]
  },
  {
   "cell_type": "code",
   "execution_count": 19,
   "id": "68926a43",
   "metadata": {},
   "outputs": [
    {
     "name": "stdout",
     "output_type": "stream",
     "text": [
      "         x1   x2    y      y_pred     y2_pred     y_pred3\n",
      "0  0.166667  0.0  120  121.936634  126.428571  118.187220\n",
      "1  0.000000  0.5  125  115.678484  133.642857  117.374774\n",
      "2  0.500000  0.0  130  134.452934  126.428571  130.205857\n",
      "3  0.166667  0.5  112  121.936634  133.642857  123.384092\n",
      "4  0.233333  0.0  122  124.439894  126.428571  120.590948\n",
      "5  0.500000  0.5  135  134.452934  133.642857  135.402729\n",
      "6  0.166667  1.0  128  121.936634  140.857143  128.580964\n",
      "7  0.833333  0.0  140  146.969234  126.428571  142.224494\n",
      "8  0.833333  0.5  150  146.969234  133.642857  147.421366\n",
      "9  1.000000  1.0  160  153.227384  140.857143  158.627556\n"
     ]
    }
   ],
   "source": [
    "# Comprobamos que tal es:\n",
    "# Por lo tanto el modelo de regresion lineal en este caso seria -414.88190709046427 + 1243.3679706601458*x1\n",
    "\n",
    "# Vamos a ver que resultados obtenemos: y = B0 + B1*X1 \n",
    "df1_train['y_pred3'] = B0 + B1 * df1_train['x1'] + B2 * df1_train['x2']\n",
    "\n",
    "print(df1_train)"
   ]
  },
  {
   "cell_type": "markdown",
   "id": "0db90891",
   "metadata": {},
   "source": [
    "## 3.1.4. Validar cada modelo con el siguiente conjunto de test."
   ]
  },
  {
   "cell_type": "code",
   "execution_count": 30,
   "id": "f357f01e",
   "metadata": {},
   "outputs": [
    {
     "data": {
      "text/html": [
       "<div>\n",
       "<style scoped>\n",
       "    .dataframe tbody tr th:only-of-type {\n",
       "        vertical-align: middle;\n",
       "    }\n",
       "\n",
       "    .dataframe tbody tr th {\n",
       "        vertical-align: top;\n",
       "    }\n",
       "\n",
       "    .dataframe thead th {\n",
       "        text-align: right;\n",
       "    }\n",
       "</style>\n",
       "<table border=\"1\" class=\"dataframe\">\n",
       "  <thead>\n",
       "    <tr style=\"text-align: right;\">\n",
       "      <th></th>\n",
       "      <th>x1</th>\n",
       "      <th>x2</th>\n",
       "      <th>y</th>\n",
       "    </tr>\n",
       "  </thead>\n",
       "  <tbody>\n",
       "    <tr>\n",
       "      <th>0</th>\n",
       "      <td>0.100000</td>\n",
       "      <td>0.0</td>\n",
       "      <td>120</td>\n",
       "    </tr>\n",
       "    <tr>\n",
       "      <th>1</th>\n",
       "      <td>-0.166667</td>\n",
       "      <td>1.0</td>\n",
       "      <td>128</td>\n",
       "    </tr>\n",
       "    <tr>\n",
       "      <th>2</th>\n",
       "      <td>0.833333</td>\n",
       "      <td>0.0</td>\n",
       "      <td>140</td>\n",
       "    </tr>\n",
       "    <tr>\n",
       "      <th>3</th>\n",
       "      <td>0.333333</td>\n",
       "      <td>0.5</td>\n",
       "      <td>115</td>\n",
       "    </tr>\n",
       "    <tr>\n",
       "      <th>4</th>\n",
       "      <td>0.000000</td>\n",
       "      <td>0.0</td>\n",
       "      <td>120</td>\n",
       "    </tr>\n",
       "  </tbody>\n",
       "</table>\n",
       "</div>"
      ],
      "text/plain": [
       "         x1   x2    y\n",
       "0  0.100000  0.0  120\n",
       "1 -0.166667  1.0  128\n",
       "2  0.833333  0.0  140\n",
       "3  0.333333  0.5  115\n",
       "4  0.000000  0.0  120"
      ]
     },
     "execution_count": 30,
     "metadata": {},
     "output_type": "execute_result"
    }
   ],
   "source": [
    "# Importante no olvidarse de escalar los datos de test utilizando el maximo y el minimo del conjunto de entrenamiento\n",
    "df1_train_original = pd.read_csv('l3p1_train.csv')\n",
    "\n",
    "columna = 'x1'\n",
    "min_valor = df1_train_original[columna].min()\n",
    "max_valor = df1_train_original[columna].max()\n",
    "df1_test[columna] = (df1_test[columna] - min_valor) / (max_valor - min_valor)\n",
    "\n",
    "columna = 'x2'\n",
    "min_valor = df1_train_original[columna].min()\n",
    "max_valor = df1_train_original[columna].max()\n",
    "df1_test[columna] = (df1_test[columna] - min_valor) / (max_valor - min_valor)\n",
    "\n",
    "df1_test.head()"
   ]
  },
  {
   "cell_type": "code",
   "execution_count": 31,
   "id": "dc3399be",
   "metadata": {},
   "outputs": [
    {
     "name": "stdout",
     "output_type": "stream",
     "text": [
      "         x1   x2    y    y2_pred1\n",
      "0  0.100000  0.0  120  119.433374\n",
      "1 -0.166667  1.0  128  109.420334\n",
      "2  0.833333  0.0  140  146.969234\n",
      "3  0.333333  0.5  115  128.194784\n",
      "4  0.000000  0.0  120  115.678484\n",
      "5  0.666667  0.5  145  140.711084\n",
      "6  0.000000  1.0  125  115.678484\n",
      "7  0.833333  1.0  170  146.969234\n",
      "8  0.500000  0.0  135  134.452934\n",
      "9  0.666667  1.0  155  140.711084\n"
     ]
    }
   ],
   "source": [
    "B1 = covyx1/varx1\n",
    "B0 = meany - B1*meanx1\n",
    "df1_test['y2_pred1'] = B0 + B1 * df1_test['x1']\n",
    "\n",
    "print(df1_test)"
   ]
  },
  {
   "cell_type": "code",
   "execution_count": 32,
   "id": "115e5195",
   "metadata": {},
   "outputs": [
    {
     "name": "stdout",
     "output_type": "stream",
     "text": [
      "         x1   x2    y    y2_pred1    y2_pred2\n",
      "0  0.100000  0.0  120  119.433374  126.428571\n",
      "1 -0.166667  1.0  128  109.420334  140.857143\n",
      "2  0.833333  0.0  140  146.969234  126.428571\n",
      "3  0.333333  0.5  115  128.194784  133.642857\n",
      "4  0.000000  0.0  120  115.678484  126.428571\n",
      "5  0.666667  0.5  145  140.711084  133.642857\n",
      "6  0.000000  1.0  125  115.678484  140.857143\n",
      "7  0.833333  1.0  170  146.969234  140.857143\n",
      "8  0.500000  0.0  135  134.452934  126.428571\n",
      "9  0.666667  1.0  155  140.711084  140.857143\n"
     ]
    }
   ],
   "source": [
    "B1 = covyx2/varx2\n",
    "B0 = meany - B1*meanx2\n",
    "df1_test['y2_pred2'] = B0 + B1 * df1_test['x2']\n",
    "\n",
    "print(df1_test)"
   ]
  },
  {
   "cell_type": "code",
   "execution_count": 33,
   "id": "eeb8d35a",
   "metadata": {},
   "outputs": [
    {
     "name": "stdout",
     "output_type": "stream",
     "text": [
      "         x1   x2    y    y2_pred1    y2_pred2     y_pred3\n",
      "0  0.100000  0.0  120  119.433374  126.428571  127.871429\n",
      "1 -0.166667  1.0  128  109.420334  140.857143  134.417553\n",
      "2  0.833333  0.0  140  146.969234  126.428571  138.452381\n",
      "3  0.333333  0.5  115  128.194784  133.642857  136.434967\n",
      "4  0.000000  0.0  120  115.678484  126.428571  126.428571\n",
      "5  0.666667  0.5  145  140.711084  133.642857  141.244491\n",
      "6  0.000000  1.0  125  115.678484  140.857143  136.822315\n",
      "7  0.833333  1.0  170  146.969234  140.857143  148.846124\n",
      "8  0.500000  0.0  135  134.452934  126.428571  133.642857\n",
      "9  0.666667  1.0  155  140.711084  140.857143  146.441362\n"
     ]
    }
   ],
   "source": [
    "# Una vez escalados los datos vamos a probarlo:\n",
    "# Vamos a ver que resultados obtenemos: y = B0 + B1*X1 \n",
    "df1_test['y_pred3'] = B0 + B1 * df1_test['x1'] + B2 * df1_test['x2']\n",
    "\n",
    "print(df1_test)"
   ]
  },
  {
   "cell_type": "code",
   "execution_count": null,
   "id": "4474ec95",
   "metadata": {},
   "outputs": [],
   "source": [
    "# Se puede observar que todos se hacercan en mayor o menor medida a la salida esperada"
   ]
  },
  {
   "cell_type": "markdown",
   "id": "1aef388c",
   "metadata": {},
   "source": [
    "# 3.2 Regresión Logística Múltiple"
   ]
  },
  {
   "cell_type": "markdown",
   "id": "486e95b0",
   "metadata": {},
   "source": [
    "Haciendo uso de la base de datos Iris vista anteriormente, se ha ejecutado un algoritmo para estimar los parámetros de una regresión logística múltiple. Como el problema tiene tres clases: setosa (1), versicolor (2) y virgínica (3), se han generado los dos modelos siguientes: \n",
    "\n",
    "𝑓1(𝑿,𝛽1)=541.0741 – 33.121𝑋1−10.2824𝑋2−38.5734𝑋3−90.4374𝑋4\n",
    "𝑓2(𝑿,𝜷𝟐)=501.1562−26.3497𝑋1−24.2689𝑋2−10.7613𝑋3−130.0915𝑋4"
   ]
  },
  {
   "cell_type": "markdown",
   "id": "705d6a7e",
   "metadata": {},
   "source": [
    "## 3.2.1. Hallar las predicciones del modelo para el siguiente conjunto de test."
   ]
  },
  {
   "cell_type": "code",
   "execution_count": 25,
   "id": "93e897db",
   "metadata": {},
   "outputs": [
    {
     "data": {
      "text/html": [
       "<div>\n",
       "<style scoped>\n",
       "    .dataframe tbody tr th:only-of-type {\n",
       "        vertical-align: middle;\n",
       "    }\n",
       "\n",
       "    .dataframe tbody tr th {\n",
       "        vertical-align: top;\n",
       "    }\n",
       "\n",
       "    .dataframe thead th {\n",
       "        text-align: right;\n",
       "    }\n",
       "</style>\n",
       "<table border=\"1\" class=\"dataframe\">\n",
       "  <thead>\n",
       "    <tr style=\"text-align: right;\">\n",
       "      <th></th>\n",
       "      <th>x1</th>\n",
       "      <th>x2</th>\n",
       "      <th>x3</th>\n",
       "      <th>x4</th>\n",
       "      <th>clase</th>\n",
       "    </tr>\n",
       "  </thead>\n",
       "  <tbody>\n",
       "    <tr>\n",
       "      <th>0</th>\n",
       "      <td>4.6</td>\n",
       "      <td>3.2</td>\n",
       "      <td>1.4</td>\n",
       "      <td>0.2</td>\n",
       "      <td>1</td>\n",
       "    </tr>\n",
       "    <tr>\n",
       "      <th>1</th>\n",
       "      <td>5.3</td>\n",
       "      <td>3.7</td>\n",
       "      <td>1.5</td>\n",
       "      <td>0.2</td>\n",
       "      <td>1</td>\n",
       "    </tr>\n",
       "    <tr>\n",
       "      <th>2</th>\n",
       "      <td>5.7</td>\n",
       "      <td>4.4</td>\n",
       "      <td>1.5</td>\n",
       "      <td>0.4</td>\n",
       "      <td>1</td>\n",
       "    </tr>\n",
       "    <tr>\n",
       "      <th>3</th>\n",
       "      <td>5.0</td>\n",
       "      <td>3.5</td>\n",
       "      <td>1.6</td>\n",
       "      <td>0.6</td>\n",
       "      <td>2</td>\n",
       "    </tr>\n",
       "    <tr>\n",
       "      <th>4</th>\n",
       "      <td>5.5</td>\n",
       "      <td>2.5</td>\n",
       "      <td>4.0</td>\n",
       "      <td>1.3</td>\n",
       "      <td>2</td>\n",
       "    </tr>\n",
       "  </tbody>\n",
       "</table>\n",
       "</div>"
      ],
      "text/plain": [
       "    x1   x2   x3   x4  clase\n",
       "0  4.6  3.2  1.4  0.2      1\n",
       "1  5.3  3.7  1.5  0.2      1\n",
       "2  5.7  4.4  1.5  0.4      1\n",
       "3  5.0  3.5  1.6  0.6      2\n",
       "4  5.5  2.5  4.0  1.3      2"
      ]
     },
     "execution_count": 25,
     "metadata": {},
     "output_type": "execute_result"
    }
   ],
   "source": [
    "df2_test = pd.read_csv('l3p2_test.csv')\n",
    "df2_test.head()"
   ]
  },
  {
   "cell_type": "code",
   "execution_count": 28,
   "id": "03a9d681",
   "metadata": {},
   "outputs": [
    {
     "name": "stdout",
     "output_type": "stream",
     "text": [
      "    x1   x2   x3   x4  clase        prob_1        prob_2        prob_3\n",
      "0  4.6  3.2  1.4  0.2      1  1.000000e+00  1.657401e-10  1.110223e-16\n",
      "1  5.3  3.7  1.5  0.2      1  1.000000e+00  2.809821e-10  1.110223e-16\n",
      "2  5.7  4.4  1.5  0.4      1  1.000000e+00  8.485566e-17  0.000000e+00\n",
      "3  5.0  3.5  1.6  0.6      2  1.000000e+00  1.260523e-15  1.110223e-16\n",
      "4  5.5  2.5  4.0  1.3      2  2.637367e-10  1.000000e+00  0.000000e+00\n",
      "5  5.7  3.0  4.2  1.2      2  5.398446e-12  1.000000e+00  0.000000e+00\n",
      "6  5.7  2.8  4.1  1.3      3  2.801797e-10  1.000000e+00  1.110223e-16\n",
      "7  5.8  2.7  5.1  1.9      3  2.742053e-21  4.343567e-09  1.000000e+00\n",
      "8  6.3  2.5  5.0  1.9      3  6.520509e-26  3.100338e-12  1.000000e+00\n",
      "9  5.9  3.0  5.1  1.8      3  3.869177e-20  9.579454e-08  9.999999e-01\n"
     ]
    }
   ],
   "source": [
    "# Para el modelo 1:\n",
    "ef1 = np.exp(541.0741 - 33.121 * df2_test['x1'] -  10.2824 * df2_test['x2'] - 38.5734 * df2_test['x3'] - 90.4374 * df2_test['x4'])\n",
    "\n",
    "# Para el modelo 2:\n",
    "ef2 = np.exp(501.1562 - 26.3497 * df2_test['x1'] -  24.2689 * df2_test['x2'] - 10.7613 * df2_test['x3'] - 130.0915 * df2_test['x4'])\n",
    "\n",
    "\n",
    "#ef3 = 1 - (ef1 + ef2)\n",
    "\n",
    "sumatorio = ef1 + ef2 #+ ef3\n",
    "\n",
    "# Calculamos la probabilidad de que sea clase 1: e^f1 / 1 + sumatorio(e^f)\n",
    "pf1 = ef1 / (1 + sumatorio)\n",
    "\n",
    "# Lo mismo para la clase 2\n",
    "pf2 = ef2 / (1 + sumatorio)\n",
    "\n",
    "# Para la clase 3 (solo hay 3 clases de flores) seria 1 - el resto de probabilidades\n",
    "pf3 = 1 - (pf1 + pf2)\n",
    "\n",
    "df2_test['prob_1'] = pf1\n",
    "df2_test['prob_2'] = pf2\n",
    "df2_test['prob_3'] = pf3\n",
    "\n",
    "print(df2_test)"
   ]
  },
  {
   "cell_type": "code",
   "execution_count": null,
   "id": "4bfece98",
   "metadata": {},
   "outputs": [],
   "source": [
    "# Podemos ver que siempre hay una de las clases con practicamente el 100% de probabilidad (aunque en ocasiones no es la correcta)"
   ]
  },
  {
   "cell_type": "markdown",
   "id": "26790799",
   "metadata": {},
   "source": [
    "## 3.2.2 Evaluar el rendimiento del clasificador en dicho conjunto."
   ]
  },
  {
   "cell_type": "markdown",
   "id": "f3cb3189",
   "metadata": {},
   "source": [
    "### 3.2.2.4 Sensibilidad\n",
    "\n",
    "\n",
    "\n"
   ]
  },
  {
   "cell_type": "code",
   "execution_count": 35,
   "id": "3a930ed8",
   "metadata": {},
   "outputs": [
    {
     "name": "stdout",
     "output_type": "stream",
     "text": [
      "Sensibilidad (clase 1): 1.0\n",
      "Sensibilidad (clase 2): 0.6666666666666666\n",
      "Sensibilidad (clase 3): 0.75\n"
     ]
    }
   ],
   "source": [
    "# Calcula las etiquetas predichas (clase con la probabilidad más alta)\n",
    "predicted_labels = df2_test[['prob_1', 'prob_2', 'prob_3']].idxmax(axis=1).apply(lambda x: int(x[-1]))\n",
    "\n",
    "# Calcula las etiquetas verdaderas\n",
    "true_labels = df2_test['clase']\n",
    "\n",
    "# Calcula la matriz de confusión\n",
    "confusion_matrix = pd.crosstab(true_labels, predicted_labels)\n",
    "\n",
    "# Calcula la sensibilidad (tasa de verdaderos positivos) para cada clase\n",
    "sensitivity_class1 = confusion_matrix.loc[1, 1] / (confusion_matrix.loc[1, 1] + confusion_matrix.loc[1, 2] + confusion_matrix.loc[1, 3])\n",
    "sensitivity_class2 = confusion_matrix.loc[2, 2] / (confusion_matrix.loc[2, 1] + confusion_matrix.loc[2, 2] + confusion_matrix.loc[2, 3])\n",
    "sensitivity_class3 = confusion_matrix.loc[3, 3] / (confusion_matrix.loc[3, 1] + confusion_matrix.loc[3, 2] + confusion_matrix.loc[3, 3])\n",
    "\n",
    "print(\"Sensibilidad (clase 1):\", sensitivity_class1)\n",
    "print(\"Sensibilidad (clase 2):\", sensitivity_class2)\n",
    "print(\"Sensibilidad (clase 3):\", sensitivity_class3)"
   ]
  },
  {
   "cell_type": "code",
   "execution_count": 39,
   "id": "cc1c3a7b",
   "metadata": {},
   "outputs": [
    {
     "data": {
      "text/plain": [
       "0    1\n",
       "1    1\n",
       "2    1\n",
       "3    1\n",
       "4    2\n",
       "5    2\n",
       "6    2\n",
       "7    3\n",
       "8    3\n",
       "9    3\n",
       "dtype: int64"
      ]
     },
     "execution_count": 39,
     "metadata": {},
     "output_type": "execute_result"
    }
   ],
   "source": [
    "predicted_labels"
   ]
  },
  {
   "cell_type": "markdown",
   "id": "7857d8d9",
   "metadata": {},
   "source": [
    "### 3.2.2.2 FPRate"
   ]
  },
  {
   "cell_type": "code",
   "execution_count": 36,
   "id": "e180b98a",
   "metadata": {},
   "outputs": [
    {
     "name": "stdout",
     "output_type": "stream",
     "text": [
      "False Positive Rate (clase 1): 0.42857142857142855\n",
      "False Positive Rate (clase 2): 0.5714285714285714\n",
      "False Positive Rate (clase 3): 0.0\n"
     ]
    }
   ],
   "source": [
    "total_negatives = confusion_matrix.loc[2:3, 1:3].values.sum()\n",
    "\n",
    "# Calcula el False Positive Rate (FPR) para cada clase\n",
    "fpr_class1 = confusion_matrix.loc[2, 1:3].sum() / total_negatives\n",
    "fpr_class2 = confusion_matrix.loc[3, 1:3].sum() / total_negatives\n",
    "fpr_class3 = confusion_matrix.loc[1, 2:3].sum() / total_negatives\n",
    "\n",
    "print(\"False Positive Rate (clase 1):\", fpr_class1)\n",
    "print(\"False Positive Rate (clase 2):\", fpr_class2)\n",
    "print(\"False Positive Rate (clase 3):\", fpr_class3)"
   ]
  },
  {
   "cell_type": "markdown",
   "id": "f9ac0502",
   "metadata": {},
   "source": [
    "### 3.2.2.3 Especifidad"
   ]
  },
  {
   "cell_type": "code",
   "execution_count": 37,
   "id": "4d4d4c56",
   "metadata": {},
   "outputs": [
    {
     "name": "stdout",
     "output_type": "stream",
     "text": [
      "Especificidad (clase 1): 0.8571428571428571\n",
      "Especificidad (clase 2): 0.8571428571428571\n",
      "Especificidad (clase 3): 1.0\n"
     ]
    }
   ],
   "source": [
    "specificity_class1 = (confusion_matrix.loc[2:3, 2:3].values.sum()) / (confusion_matrix.loc[2:3, 1:3].values.sum())\n",
    "specificity_class2 = (confusion_matrix.loc[[1, 3], [1, 3]].values.sum()) / (confusion_matrix.loc[[1, 3], [1, 2, 3]].values.sum())\n",
    "specificity_class3 = (confusion_matrix.loc[1:2, 1:2].values.sum()) / (confusion_matrix.loc[1:2, 1:3].values.sum())\n",
    "\n",
    "\n",
    "print(\"Especificidad (clase 1):\", specificity_class1)\n",
    "print(\"Especificidad (clase 2):\", specificity_class2)\n",
    "print(\"Especificidad (clase 3):\", specificity_class3)"
   ]
  },
  {
   "cell_type": "markdown",
   "id": "c9c818ab",
   "metadata": {},
   "source": [
    "### 3.2.2.4 Precision"
   ]
  },
  {
   "cell_type": "code",
   "execution_count": 38,
   "id": "52d5e37c",
   "metadata": {},
   "outputs": [
    {
     "name": "stdout",
     "output_type": "stream",
     "text": [
      "Precisión (clase 1): 0.6666666666666666\n",
      "Precisión (clase 2): 1.0\n",
      "Precisión (clase 3): 0.75\n"
     ]
    }
   ],
   "source": [
    "precision_class1 = confusion_matrix.loc[2, 2] / confusion_matrix.loc[:, 2].sum()\n",
    "precision_class2 = confusion_matrix.loc[3, 3] / confusion_matrix.loc[:, 3].sum()\n",
    "precision_class3 = confusion_matrix.loc[1, 1] / confusion_matrix.loc[:, 1].sum()\n",
    "\n",
    "print(\"Precisión (clase 1):\", precision_class1)\n",
    "print(\"Precisión (clase 2):\", precision_class2)\n",
    "print(\"Precisión (clase 3):\", precision_class3)"
   ]
  },
  {
   "cell_type": "markdown",
   "id": "c179b22c",
   "metadata": {},
   "source": [
    "### 3.2.2.5 F - Score"
   ]
  },
  {
   "cell_type": "code",
   "execution_count": 41,
   "id": "8f21d7c9",
   "metadata": {},
   "outputs": [
    {
     "name": "stdout",
     "output_type": "stream",
     "text": [
      "F-Score (clase 1): 0.8\n",
      "F-Score (clase 2): 0.8\n",
      "F-Score (clase 3): 0.75\n"
     ]
    }
   ],
   "source": [
    "# Calcula el F-Score para cada clase\n",
    "f_score_class1 = 2 * (precision_class1 * sensitivity_class1) / (precision_class1 + sensitivity_class1)\n",
    "f_score_class2 = 2 * (precision_class2 * sensitivity_class2) / (precision_class2 + sensitivity_class2)\n",
    "f_score_class3 = 2 * (precision_class3 * sensitivity_class3) / (precision_class3 + sensitivity_class3)\n",
    "\n",
    "print(\"F-Score (clase 1):\", f_score_class1)\n",
    "print(\"F-Score (clase 2):\", f_score_class2)\n",
    "print(\"F-Score (clase 3):\", f_score_class3)"
   ]
  },
  {
   "cell_type": "markdown",
   "id": "3e82e027",
   "metadata": {},
   "source": [
    "## 3.2.3 Comparar el modelo obtenido con el expuesto en la lección 3."
   ]
  },
  {
   "cell_type": "code",
   "execution_count": null,
   "id": "a647a670",
   "metadata": {},
   "outputs": [],
   "source": [
    "# No entiendo a que se refiere con el modelo expuesto en la leccion 3"
   ]
  }
 ],
 "metadata": {
  "kernelspec": {
   "display_name": "Python 3 (ipykernel)",
   "language": "python",
   "name": "python3"
  },
  "language_info": {
   "codemirror_mode": {
    "name": "ipython",
    "version": 3
   },
   "file_extension": ".py",
   "mimetype": "text/x-python",
   "name": "python",
   "nbconvert_exporter": "python",
   "pygments_lexer": "ipython3",
   "version": "3.10.2"
  }
 },
 "nbformat": 4,
 "nbformat_minor": 5
}
