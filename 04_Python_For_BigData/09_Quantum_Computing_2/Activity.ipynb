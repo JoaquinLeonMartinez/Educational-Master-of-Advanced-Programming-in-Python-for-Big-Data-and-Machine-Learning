{
 "cells": [
  {
   "cell_type": "code",
   "execution_count": 2,
   "id": "5cf2818c",
   "metadata": {},
   "outputs": [
    {
     "name": "stdout",
     "output_type": "stream",
     "text": [
      "Collecting qiskit\n",
      "  Downloading qiskit-0.43.1.tar.gz (9.6 kB)\n",
      "  Installing build dependencies: started\n",
      "  Installing build dependencies: finished with status 'done'\n",
      "  Getting requirements to build wheel: started\n",
      "  Getting requirements to build wheel: finished with status 'done'\n",
      "  Installing backend dependencies: started\n",
      "  Installing backend dependencies: finished with status 'done'\n",
      "  Preparing metadata (pyproject.toml): started\n",
      "  Preparing metadata (pyproject.toml): finished with status 'done'\n",
      "Collecting qiskit-ibmq-provider==0.20.2\n",
      "  Downloading qiskit_ibmq_provider-0.20.2-py3-none-any.whl (241 kB)\n",
      "     -------------------------------------- 241.5/241.5 kB 3.0 MB/s eta 0:00:00\n",
      "Collecting qiskit-terra==0.24.1\n",
      "  Downloading qiskit_terra-0.24.1-cp310-cp310-win_amd64.whl (5.0 MB)\n",
      "     ---------------------------------------- 5.0/5.0 MB 3.2 MB/s eta 0:00:00\n",
      "Collecting qiskit-aer==0.12.0\n",
      "  Downloading qiskit_aer-0.12.0-cp310-cp310-win_amd64.whl (9.6 MB)\n",
      "     ---------------------------------------- 9.6/9.6 MB 3.2 MB/s eta 0:00:00\n",
      "Requirement already satisfied: numpy>=1.16.3 in c:\\users\\joaquinleon\\appdata\\local\\programs\\python\\python310\\lib\\site-packages (from qiskit-aer==0.12.0->qiskit) (1.24.3)\n",
      "Requirement already satisfied: scipy>=1.0 in c:\\users\\joaquinleon\\appdata\\local\\programs\\python\\python310\\lib\\site-packages (from qiskit-aer==0.12.0->qiskit) (1.9.3)\n",
      "Requirement already satisfied: python-dateutil>=2.8.0 in c:\\users\\joaquinleon\\appdata\\local\\programs\\python\\python310\\lib\\site-packages (from qiskit-ibmq-provider==0.20.2->qiskit) (2.8.2)\n",
      "Requirement already satisfied: urllib3>=1.21.1 in c:\\users\\joaquinleon\\appdata\\local\\programs\\python\\python310\\lib\\site-packages (from qiskit-ibmq-provider==0.20.2->qiskit) (1.26.11)\n",
      "Requirement already satisfied: websockets>=10.0 in c:\\users\\joaquinleon\\appdata\\local\\programs\\python\\python310\\lib\\site-packages (from qiskit-ibmq-provider==0.20.2->qiskit) (11.0.3)\n",
      "Collecting requests-ntlm<=1.1.0\n",
      "  Downloading requests_ntlm-1.1.0-py2.py3-none-any.whl (5.7 kB)\n",
      "Requirement already satisfied: requests>=2.19 in c:\\users\\joaquinleon\\appdata\\local\\programs\\python\\python310\\lib\\site-packages (from qiskit-ibmq-provider==0.20.2->qiskit) (2.28.1)\n",
      "Collecting numpy>=1.16.3\n",
      "  Downloading numpy-1.23.5-cp310-cp310-win_amd64.whl (14.6 MB)\n",
      "     ---------------------------------------- 14.6/14.6 MB 2.7 MB/s eta 0:00:00\n",
      "Collecting websocket-client>=1.5.1\n",
      "  Downloading websocket_client-1.5.2-py3-none-any.whl (56 kB)\n",
      "     ---------------------------------------- 56.6/56.6 kB 3.1 MB/s eta 0:00:00\n",
      "Collecting dill>=0.3\n",
      "  Downloading dill-0.3.6-py3-none-any.whl (110 kB)\n",
      "     -------------------------------------- 110.5/110.5 kB 3.2 MB/s eta 0:00:00\n",
      "Collecting rustworkx>=0.12.0\n",
      "  Downloading rustworkx-0.13.0-cp310-cp310-win_amd64.whl (1.4 MB)\n",
      "     ---------------------------------------- 1.4/1.4 MB 2.8 MB/s eta 0:00:00\n",
      "Collecting psutil>=5\n",
      "  Downloading psutil-5.9.5-cp36-abi3-win_amd64.whl (255 kB)\n",
      "     -------------------------------------- 255.1/255.1 kB 3.1 MB/s eta 0:00:00\n",
      "Requirement already satisfied: ply>=3.10 in c:\\users\\joaquinleon\\appdata\\local\\programs\\python\\python310\\lib\\site-packages (from qiskit-terra==0.24.1->qiskit) (3.11)\n",
      "Collecting stevedore>=3.0.0\n",
      "  Downloading stevedore-5.1.0-py3-none-any.whl (49 kB)\n",
      "     ---------------------------------------- 49.6/49.6 kB ? eta 0:00:00\n",
      "Collecting sympy>=1.3\n",
      "  Downloading sympy-1.12-py3-none-any.whl (5.7 MB)\n",
      "     ---------------------------------------- 5.7/5.7 MB 2.7 MB/s eta 0:00:00\n",
      "Requirement already satisfied: six>=1.5 in c:\\users\\joaquinleon\\appdata\\local\\programs\\python\\python310\\lib\\site-packages (from python-dateutil>=2.8.0->qiskit-ibmq-provider==0.20.2->qiskit) (1.16.0)\n",
      "Requirement already satisfied: charset-normalizer<3,>=2 in c:\\users\\joaquinleon\\appdata\\local\\programs\\python\\python310\\lib\\site-packages (from requests>=2.19->qiskit-ibmq-provider==0.20.2->qiskit) (2.1.0)\n",
      "Requirement already satisfied: idna<4,>=2.5 in c:\\users\\joaquinleon\\appdata\\local\\programs\\python\\python310\\lib\\site-packages (from requests>=2.19->qiskit-ibmq-provider==0.20.2->qiskit) (3.3)\n",
      "Requirement already satisfied: certifi>=2017.4.17 in c:\\users\\joaquinleon\\appdata\\local\\programs\\python\\python310\\lib\\site-packages (from requests>=2.19->qiskit-ibmq-provider==0.20.2->qiskit) (2022.6.15)\n",
      "Collecting ntlm-auth>=1.0.2\n",
      "  Downloading ntlm_auth-1.5.0-py2.py3-none-any.whl (29 kB)\n",
      "Requirement already satisfied: cryptography>=1.3 in c:\\users\\joaquinleon\\appdata\\local\\programs\\python\\python310\\lib\\site-packages (from requests-ntlm<=1.1.0->qiskit-ibmq-provider==0.20.2->qiskit) (39.0.1)\n",
      "Collecting pbr!=2.1.0,>=2.0.0\n",
      "  Downloading pbr-5.11.1-py2.py3-none-any.whl (112 kB)\n",
      "     -------------------------------------- 112.7/112.7 kB 2.2 MB/s eta 0:00:00\n",
      "Collecting mpmath>=0.19\n",
      "  Downloading mpmath-1.3.0-py3-none-any.whl (536 kB)\n",
      "     -------------------------------------- 536.2/536.2 kB 3.4 MB/s eta 0:00:00\n",
      "Requirement already satisfied: cffi>=1.12 in c:\\users\\joaquinleon\\appdata\\local\\programs\\python\\python310\\lib\\site-packages (from cryptography>=1.3->requests-ntlm<=1.1.0->qiskit-ibmq-provider==0.20.2->qiskit) (1.15.0)\n",
      "Requirement already satisfied: pycparser in c:\\users\\joaquinleon\\appdata\\local\\programs\\python\\python310\\lib\\site-packages (from cffi>=1.12->cryptography>=1.3->requests-ntlm<=1.1.0->qiskit-ibmq-provider==0.20.2->qiskit) (2.21)\n",
      "Building wheels for collected packages: qiskit\n",
      "  Building wheel for qiskit (pyproject.toml): started\n",
      "  Building wheel for qiskit (pyproject.toml): finished with status 'done'\n",
      "  Created wheel for qiskit: filename=qiskit-0.43.1-py3-none-any.whl size=8064 sha256=ad1f3b03a640457ff67a929ca3fa41f42c538a0cd4b5a1a59ad92048996cb273\n",
      "  Stored in directory: c:\\users\\joaquinleon\\appdata\\local\\pip\\cache\\wheels\\87\\22\\22\\f7211721233fbe016a6a0672888c676d7d17051cc0052fd4f8\n",
      "Successfully built qiskit\n",
      "Installing collected packages: mpmath, websocket-client, sympy, psutil, pbr, numpy, ntlm-auth, dill, stevedore, rustworkx, requests-ntlm, qiskit-terra, qiskit-ibmq-provider, qiskit-aer, qiskit\n",
      "  Attempting uninstall: numpy\n",
      "    Found existing installation: numpy 1.24.3\n",
      "    Uninstalling numpy-1.24.3:\n",
      "      Successfully uninstalled numpy-1.24.3\n",
      "Successfully installed dill-0.3.6 mpmath-1.3.0 ntlm-auth-1.5.0 numpy-1.23.5 pbr-5.11.1 psutil-5.9.5 qiskit-0.43.1 qiskit-aer-0.12.0 qiskit-ibmq-provider-0.20.2 qiskit-terra-0.24.1 requests-ntlm-1.1.0 rustworkx-0.13.0 stevedore-5.1.0 sympy-1.12 websocket-client-1.5.2\n"
     ]
    },
    {
     "name": "stderr",
     "output_type": "stream",
     "text": [
      "WARNING: Ignoring invalid distribution -atplotlib (c:\\users\\joaquinleon\\appdata\\local\\programs\\python\\python310\\lib\\site-packages)\n",
      "WARNING: Ignoring invalid distribution -atplotlib (c:\\users\\joaquinleon\\appdata\\local\\programs\\python\\python310\\lib\\site-packages)\n",
      "WARNING: Ignoring invalid distribution -atplotlib (c:\\users\\joaquinleon\\appdata\\local\\programs\\python\\python310\\lib\\site-packages)\n",
      "    WARNING: Ignoring invalid distribution -atplotlib (c:\\users\\joaquinleon\\appdata\\local\\programs\\python\\python310\\lib\\site-packages)\n",
      "WARNING: Ignoring invalid distribution -atplotlib (c:\\users\\joaquinleon\\appdata\\local\\programs\\python\\python310\\lib\\site-packages)\n",
      "WARNING: Ignoring invalid distribution -atplotlib (c:\\users\\joaquinleon\\appdata\\local\\programs\\python\\python310\\lib\\site-packages)\n",
      "WARNING: Ignoring invalid distribution -atplotlib (c:\\users\\joaquinleon\\appdata\\local\\programs\\python\\python310\\lib\\site-packages)\n",
      "WARNING: Ignoring invalid distribution -atplotlib (c:\\users\\joaquinleon\\appdata\\local\\programs\\python\\python310\\lib\\site-packages)\n",
      "WARNING: Ignoring invalid distribution -atplotlib (c:\\users\\joaquinleon\\appdata\\local\\programs\\python\\python310\\lib\\site-packages)\n",
      "WARNING: Ignoring invalid distribution -atplotlib (c:\\users\\joaquinleon\\appdata\\local\\programs\\python\\python310\\lib\\site-packages)\n",
      "WARNING: Ignoring invalid distribution -atplotlib (c:\\users\\joaquinleon\\appdata\\local\\programs\\python\\python310\\lib\\site-packages)\n",
      "WARNING: Ignoring invalid distribution -atplotlib (c:\\users\\joaquinleon\\appdata\\local\\programs\\python\\python310\\lib\\site-packages)\n",
      "WARNING: Ignoring invalid distribution -atplotlib (c:\\users\\joaquinleon\\appdata\\local\\programs\\python\\python310\\lib\\site-packages)\n",
      "WARNING: Ignoring invalid distribution -atplotlib (c:\\users\\joaquinleon\\appdata\\local\\programs\\python\\python310\\lib\\site-packages)\n",
      "WARNING: Ignoring invalid distribution -atplotlib (c:\\users\\joaquinleon\\appdata\\local\\programs\\python\\python310\\lib\\site-packages)\n",
      "WARNING: Ignoring invalid distribution -atplotlib (c:\\users\\joaquinleon\\appdata\\local\\programs\\python\\python310\\lib\\site-packages)\n",
      "WARNING: Ignoring invalid distribution -atplotlib (c:\\users\\joaquinleon\\appdata\\local\\programs\\python\\python310\\lib\\site-packages)\n",
      "WARNING: Ignoring invalid distribution -atplotlib (c:\\users\\joaquinleon\\appdata\\local\\programs\\python\\python310\\lib\\site-packages)\n",
      "WARNING: Ignoring invalid distribution -atplotlib (c:\\users\\joaquinleon\\appdata\\local\\programs\\python\\python310\\lib\\site-packages)\n",
      "WARNING: Ignoring invalid distribution -atplotlib (c:\\users\\joaquinleon\\appdata\\local\\programs\\python\\python310\\lib\\site-packages)\n",
      "WARNING: Ignoring invalid distribution -atplotlib (c:\\users\\joaquinleon\\appdata\\local\\programs\\python\\python310\\lib\\site-packages)\n",
      "WARNING: Ignoring invalid distribution -atplotlib (c:\\users\\joaquinleon\\appdata\\local\\programs\\python\\python310\\lib\\site-packages)\n",
      "\n",
      "[notice] A new release of pip available: 22.3 -> 23.1.2\n",
      "[notice] To update, run: python.exe -m pip install --upgrade pip\n"
     ]
    }
   ],
   "source": [
    "!pip install qiskit\n",
    "from qiskit import *"
   ]
  },
  {
   "cell_type": "code",
   "execution_count": 3,
   "id": "37824695",
   "metadata": {},
   "outputs": [],
   "source": [
    "qr = QuantumRegister(2)"
   ]
  },
  {
   "cell_type": "code",
   "execution_count": 4,
   "id": "1a43f431",
   "metadata": {},
   "outputs": [],
   "source": [
    "cr = ClassicalRegister(2)"
   ]
  },
  {
   "cell_type": "code",
   "execution_count": 5,
   "id": "b7fd313d",
   "metadata": {},
   "outputs": [],
   "source": [
    "circuito2 = QuantumCircuit(2)"
   ]
  },
  {
   "cell_type": "code",
   "execution_count": 6,
   "id": "182dd9a8",
   "metadata": {},
   "outputs": [],
   "source": [
    "circuito = QuantumCircuit(qr,cr)"
   ]
  },
  {
   "cell_type": "code",
   "execution_count": 7,
   "id": "5c0efcf7",
   "metadata": {},
   "outputs": [
    {
     "data": {
      "text/plain": [
       "<qiskit.circuit.quantumcircuit.QuantumCircuit at 0x2c5d6b25a80>"
      ]
     },
     "execution_count": 7,
     "metadata": {},
     "output_type": "execute_result"
    }
   ],
   "source": [
    "circuito"
   ]
  },
  {
   "cell_type": "code",
   "execution_count": 8,
   "id": "eb7da540",
   "metadata": {},
   "outputs": [],
   "source": [
    "%matplotlib inline"
   ]
  },
  {
   "cell_type": "code",
   "execution_count": 21,
   "id": "7377d735",
   "metadata": {},
   "outputs": [
    {
     "data": {
      "text/html": [
       "<pre style=\"word-wrap: normal;white-space: pre;background: #fff0;line-height: 1.1;font-family: &quot;Courier New&quot;,Courier,monospace\">      ┌───┐\n",
       "q0_0: ┤ H ├\n",
       "      └───┘\n",
       "q0_1: ─────\n",
       "           \n",
       "c0: 2/═════\n",
       "           </pre>"
      ],
      "text/plain": [
       "      ┌───┐\n",
       "q0_0: ┤ H ├\n",
       "      └───┘\n",
       "q0_1: ─────\n",
       "           \n",
       "c0: 2/═════\n",
       "           "
      ]
     },
     "execution_count": 21,
     "metadata": {},
     "output_type": "execute_result"
    }
   ],
   "source": [
    "circuito.draw()"
   ]
  },
  {
   "cell_type": "code",
   "execution_count": 10,
   "id": "5392d7b0",
   "metadata": {},
   "outputs": [
    {
     "data": {
      "text/plain": [
       "<qiskit.circuit.instructionset.InstructionSet at 0x2c5c4fbd480>"
      ]
     },
     "execution_count": 10,
     "metadata": {},
     "output_type": "execute_result"
    }
   ],
   "source": [
    "circuito.h(qr[0]) # Aplica una puerta de Hadamard en el qbit 0"
   ]
  },
  {
   "cell_type": "code",
   "execution_count": 18,
   "id": "c9121975",
   "metadata": {},
   "outputs": [
    {
     "name": "stdout",
     "output_type": "stream",
     "text": [
      "Requirement already satisfied: pylatexenc in c:\\users\\joaquinleon\\appdata\\local\\programs\\python\\python310\\lib\\site-packages (2.10)\n"
     ]
    },
    {
     "name": "stderr",
     "output_type": "stream",
     "text": [
      "WARNING: Ignoring invalid distribution -atplotlib (c:\\users\\joaquinleon\\appdata\\local\\programs\\python\\python310\\lib\\site-packages)\n",
      "WARNING: Ignoring invalid distribution -atplotlib (c:\\users\\joaquinleon\\appdata\\local\\programs\\python\\python310\\lib\\site-packages)\n",
      "WARNING: Ignoring invalid distribution -atplotlib (c:\\users\\joaquinleon\\appdata\\local\\programs\\python\\python310\\lib\\site-packages)\n",
      "WARNING: Ignoring invalid distribution -atplotlib (c:\\users\\joaquinleon\\appdata\\local\\programs\\python\\python310\\lib\\site-packages)\n",
      "WARNING: Ignoring invalid distribution -atplotlib (c:\\users\\joaquinleon\\appdata\\local\\programs\\python\\python310\\lib\\site-packages)\n",
      "WARNING: Ignoring invalid distribution -atplotlib (c:\\users\\joaquinleon\\appdata\\local\\programs\\python\\python310\\lib\\site-packages)\n",
      "\n",
      "[notice] A new release of pip available: 22.3 -> 23.1.2\n",
      "[notice] To update, run: python.exe -m pip install --upgrade pip\n"
     ]
    }
   ],
   "source": [
    "!pip install pylatexenc\n"
   ]
  },
  {
   "cell_type": "code",
   "execution_count": 20,
   "id": "ed2b25c6",
   "metadata": {},
   "outputs": [
    {
     "ename": "MissingOptionalLibraryError",
     "evalue": "\"The 'pylatexenc' library is required to use 'MatplotlibDrawer'. You can install it with 'pip install pylatexenc'.\"",
     "output_type": "error",
     "traceback": [
      "\u001b[1;31m---------------------------------------------------------------------------\u001b[0m",
      "\u001b[1;31mMissingOptionalLibraryError\u001b[0m               Traceback (most recent call last)",
      "Input \u001b[1;32mIn [20]\u001b[0m, in \u001b[0;36m<module>\u001b[1;34m\u001b[0m\n\u001b[1;32m----> 1\u001b[0m \u001b[43mcircuito\u001b[49m\u001b[38;5;241;43m.\u001b[39;49m\u001b[43mdraw\u001b[49m\u001b[43m(\u001b[49m\u001b[43moutput\u001b[49m\u001b[38;5;241;43m=\u001b[39;49m\u001b[38;5;124;43m\"\u001b[39;49m\u001b[38;5;124;43mmpl\u001b[39;49m\u001b[38;5;124;43m\"\u001b[39;49m\u001b[43m)\u001b[49m\n",
      "File \u001b[1;32m~\\AppData\\Local\\Programs\\Python\\Python310\\lib\\site-packages\\qiskit\\circuit\\quantumcircuit.py:1922\u001b[0m, in \u001b[0;36mQuantumCircuit.draw\u001b[1;34m(self, output, scale, filename, style, interactive, plot_barriers, reverse_bits, justify, vertical_compression, idle_wires, with_layout, fold, ax, initial_state, cregbundle, wire_order)\u001b[0m\n\u001b[0;32m   1919\u001b[0m \u001b[38;5;66;03m# pylint: disable=cyclic-import\u001b[39;00m\n\u001b[0;32m   1920\u001b[0m \u001b[38;5;28;01mfrom\u001b[39;00m \u001b[38;5;21;01mqiskit\u001b[39;00m\u001b[38;5;21;01m.\u001b[39;00m\u001b[38;5;21;01mvisualization\u001b[39;00m \u001b[38;5;28;01mimport\u001b[39;00m circuit_drawer\n\u001b[1;32m-> 1922\u001b[0m \u001b[38;5;28;01mreturn\u001b[39;00m \u001b[43mcircuit_drawer\u001b[49m\u001b[43m(\u001b[49m\n\u001b[0;32m   1923\u001b[0m \u001b[43m    \u001b[49m\u001b[38;5;28;43mself\u001b[39;49m\u001b[43m,\u001b[49m\n\u001b[0;32m   1924\u001b[0m \u001b[43m    \u001b[49m\u001b[43mscale\u001b[49m\u001b[38;5;241;43m=\u001b[39;49m\u001b[43mscale\u001b[49m\u001b[43m,\u001b[49m\n\u001b[0;32m   1925\u001b[0m \u001b[43m    \u001b[49m\u001b[43mfilename\u001b[49m\u001b[38;5;241;43m=\u001b[39;49m\u001b[43mfilename\u001b[49m\u001b[43m,\u001b[49m\n\u001b[0;32m   1926\u001b[0m \u001b[43m    \u001b[49m\u001b[43mstyle\u001b[49m\u001b[38;5;241;43m=\u001b[39;49m\u001b[43mstyle\u001b[49m\u001b[43m,\u001b[49m\n\u001b[0;32m   1927\u001b[0m \u001b[43m    \u001b[49m\u001b[43moutput\u001b[49m\u001b[38;5;241;43m=\u001b[39;49m\u001b[43moutput\u001b[49m\u001b[43m,\u001b[49m\n\u001b[0;32m   1928\u001b[0m \u001b[43m    \u001b[49m\u001b[43minteractive\u001b[49m\u001b[38;5;241;43m=\u001b[39;49m\u001b[43minteractive\u001b[49m\u001b[43m,\u001b[49m\n\u001b[0;32m   1929\u001b[0m \u001b[43m    \u001b[49m\u001b[43mplot_barriers\u001b[49m\u001b[38;5;241;43m=\u001b[39;49m\u001b[43mplot_barriers\u001b[49m\u001b[43m,\u001b[49m\n\u001b[0;32m   1930\u001b[0m \u001b[43m    \u001b[49m\u001b[43mreverse_bits\u001b[49m\u001b[38;5;241;43m=\u001b[39;49m\u001b[43mreverse_bits\u001b[49m\u001b[43m,\u001b[49m\n\u001b[0;32m   1931\u001b[0m \u001b[43m    \u001b[49m\u001b[43mjustify\u001b[49m\u001b[38;5;241;43m=\u001b[39;49m\u001b[43mjustify\u001b[49m\u001b[43m,\u001b[49m\n\u001b[0;32m   1932\u001b[0m \u001b[43m    \u001b[49m\u001b[43mvertical_compression\u001b[49m\u001b[38;5;241;43m=\u001b[39;49m\u001b[43mvertical_compression\u001b[49m\u001b[43m,\u001b[49m\n\u001b[0;32m   1933\u001b[0m \u001b[43m    \u001b[49m\u001b[43midle_wires\u001b[49m\u001b[38;5;241;43m=\u001b[39;49m\u001b[43midle_wires\u001b[49m\u001b[43m,\u001b[49m\n\u001b[0;32m   1934\u001b[0m \u001b[43m    \u001b[49m\u001b[43mwith_layout\u001b[49m\u001b[38;5;241;43m=\u001b[39;49m\u001b[43mwith_layout\u001b[49m\u001b[43m,\u001b[49m\n\u001b[0;32m   1935\u001b[0m \u001b[43m    \u001b[49m\u001b[43mfold\u001b[49m\u001b[38;5;241;43m=\u001b[39;49m\u001b[43mfold\u001b[49m\u001b[43m,\u001b[49m\n\u001b[0;32m   1936\u001b[0m \u001b[43m    \u001b[49m\u001b[43max\u001b[49m\u001b[38;5;241;43m=\u001b[39;49m\u001b[43max\u001b[49m\u001b[43m,\u001b[49m\n\u001b[0;32m   1937\u001b[0m \u001b[43m    \u001b[49m\u001b[43minitial_state\u001b[49m\u001b[38;5;241;43m=\u001b[39;49m\u001b[43minitial_state\u001b[49m\u001b[43m,\u001b[49m\n\u001b[0;32m   1938\u001b[0m \u001b[43m    \u001b[49m\u001b[43mcregbundle\u001b[49m\u001b[38;5;241;43m=\u001b[39;49m\u001b[43mcregbundle\u001b[49m\u001b[43m,\u001b[49m\n\u001b[0;32m   1939\u001b[0m \u001b[43m    \u001b[49m\u001b[43mwire_order\u001b[49m\u001b[38;5;241;43m=\u001b[39;49m\u001b[43mwire_order\u001b[49m\u001b[43m,\u001b[49m\n\u001b[0;32m   1940\u001b[0m \u001b[43m\u001b[49m\u001b[43m)\u001b[49m\n",
      "File \u001b[1;32m~\\AppData\\Local\\Programs\\Python\\Python310\\lib\\site-packages\\qiskit\\visualization\\circuit\\circuit_visualization.py:274\u001b[0m, in \u001b[0;36mcircuit_drawer\u001b[1;34m(circuit, scale, filename, style, output, interactive, plot_barriers, reverse_bits, justify, vertical_compression, idle_wires, with_layout, fold, ax, initial_state, cregbundle, wire_order)\u001b[0m\n\u001b[0;32m    259\u001b[0m     \u001b[38;5;28;01mreturn\u001b[39;00m _generate_latex_source(\n\u001b[0;32m    260\u001b[0m         circuit,\n\u001b[0;32m    261\u001b[0m         filename\u001b[38;5;241m=\u001b[39mfilename,\n\u001b[1;32m   (...)\u001b[0m\n\u001b[0;32m    271\u001b[0m         wire_order\u001b[38;5;241m=\u001b[39mwire_order,\n\u001b[0;32m    272\u001b[0m     )\n\u001b[0;32m    273\u001b[0m \u001b[38;5;28;01melif\u001b[39;00m output \u001b[38;5;241m==\u001b[39m \u001b[38;5;124m\"\u001b[39m\u001b[38;5;124mmpl\u001b[39m\u001b[38;5;124m\"\u001b[39m:\n\u001b[1;32m--> 274\u001b[0m     image \u001b[38;5;241m=\u001b[39m \u001b[43m_matplotlib_circuit_drawer\u001b[49m\u001b[43m(\u001b[49m\n\u001b[0;32m    275\u001b[0m \u001b[43m        \u001b[49m\u001b[43mcircuit\u001b[49m\u001b[43m,\u001b[49m\n\u001b[0;32m    276\u001b[0m \u001b[43m        \u001b[49m\u001b[43mscale\u001b[49m\u001b[38;5;241;43m=\u001b[39;49m\u001b[43mscale\u001b[49m\u001b[43m,\u001b[49m\n\u001b[0;32m    277\u001b[0m \u001b[43m        \u001b[49m\u001b[43mfilename\u001b[49m\u001b[38;5;241;43m=\u001b[39;49m\u001b[43mfilename\u001b[49m\u001b[43m,\u001b[49m\n\u001b[0;32m    278\u001b[0m \u001b[43m        \u001b[49m\u001b[43mstyle\u001b[49m\u001b[38;5;241;43m=\u001b[39;49m\u001b[43mstyle\u001b[49m\u001b[43m,\u001b[49m\n\u001b[0;32m    279\u001b[0m \u001b[43m        \u001b[49m\u001b[43mplot_barriers\u001b[49m\u001b[38;5;241;43m=\u001b[39;49m\u001b[43mplot_barriers\u001b[49m\u001b[43m,\u001b[49m\n\u001b[0;32m    280\u001b[0m \u001b[43m        \u001b[49m\u001b[43mreverse_bits\u001b[49m\u001b[38;5;241;43m=\u001b[39;49m\u001b[43mreverse_bits\u001b[49m\u001b[43m,\u001b[49m\n\u001b[0;32m    281\u001b[0m \u001b[43m        \u001b[49m\u001b[43mjustify\u001b[49m\u001b[38;5;241;43m=\u001b[39;49m\u001b[43mjustify\u001b[49m\u001b[43m,\u001b[49m\n\u001b[0;32m    282\u001b[0m \u001b[43m        \u001b[49m\u001b[43midle_wires\u001b[49m\u001b[38;5;241;43m=\u001b[39;49m\u001b[43midle_wires\u001b[49m\u001b[43m,\u001b[49m\n\u001b[0;32m    283\u001b[0m \u001b[43m        \u001b[49m\u001b[43mwith_layout\u001b[49m\u001b[38;5;241;43m=\u001b[39;49m\u001b[43mwith_layout\u001b[49m\u001b[43m,\u001b[49m\n\u001b[0;32m    284\u001b[0m \u001b[43m        \u001b[49m\u001b[43mfold\u001b[49m\u001b[38;5;241;43m=\u001b[39;49m\u001b[43mfold\u001b[49m\u001b[43m,\u001b[49m\n\u001b[0;32m    285\u001b[0m \u001b[43m        \u001b[49m\u001b[43max\u001b[49m\u001b[38;5;241;43m=\u001b[39;49m\u001b[43max\u001b[49m\u001b[43m,\u001b[49m\n\u001b[0;32m    286\u001b[0m \u001b[43m        \u001b[49m\u001b[43minitial_state\u001b[49m\u001b[38;5;241;43m=\u001b[39;49m\u001b[43minitial_state\u001b[49m\u001b[43m,\u001b[49m\n\u001b[0;32m    287\u001b[0m \u001b[43m        \u001b[49m\u001b[43mcregbundle\u001b[49m\u001b[38;5;241;43m=\u001b[39;49m\u001b[43mcregbundle\u001b[49m\u001b[43m,\u001b[49m\n\u001b[0;32m    288\u001b[0m \u001b[43m        \u001b[49m\u001b[43mwire_order\u001b[49m\u001b[38;5;241;43m=\u001b[39;49m\u001b[43mwire_order\u001b[49m\u001b[43m,\u001b[49m\n\u001b[0;32m    289\u001b[0m \u001b[43m    \u001b[49m\u001b[43m)\u001b[49m\n\u001b[0;32m    290\u001b[0m \u001b[38;5;28;01melse\u001b[39;00m:\n\u001b[0;32m    291\u001b[0m     \u001b[38;5;28;01mraise\u001b[39;00m VisualizationError(\n\u001b[0;32m    292\u001b[0m         \u001b[38;5;124m\"\u001b[39m\u001b[38;5;124mInvalid output type \u001b[39m\u001b[38;5;132;01m%s\u001b[39;00m\u001b[38;5;124m selected. The only valid choices \u001b[39m\u001b[38;5;124m\"\u001b[39m\n\u001b[0;32m    293\u001b[0m         \u001b[38;5;124m\"\u001b[39m\u001b[38;5;124mare text, latex, latex_source, and mpl\u001b[39m\u001b[38;5;124m\"\u001b[39m \u001b[38;5;241m%\u001b[39m output\n\u001b[0;32m    294\u001b[0m     )\n",
      "File \u001b[1;32m~\\AppData\\Local\\Programs\\Python\\Python310\\lib\\site-packages\\qiskit\\visualization\\circuit\\circuit_visualization.py:644\u001b[0m, in \u001b[0;36m_matplotlib_circuit_drawer\u001b[1;34m(circuit, scale, filename, style, plot_barriers, reverse_bits, justify, idle_wires, with_layout, fold, ax, initial_state, cregbundle, wire_order)\u001b[0m\n\u001b[0;32m    641\u001b[0m \u001b[38;5;28;01mif\u001b[39;00m fold \u001b[38;5;129;01mis\u001b[39;00m \u001b[38;5;28;01mNone\u001b[39;00m:\n\u001b[0;32m    642\u001b[0m     fold \u001b[38;5;241m=\u001b[39m \u001b[38;5;241m25\u001b[39m\n\u001b[1;32m--> 644\u001b[0m qcd \u001b[38;5;241m=\u001b[39m \u001b[43m_matplotlib\u001b[49m\u001b[38;5;241;43m.\u001b[39;49m\u001b[43mMatplotlibDrawer\u001b[49m\u001b[43m(\u001b[49m\n\u001b[0;32m    645\u001b[0m \u001b[43m    \u001b[49m\u001b[43mqubits\u001b[49m\u001b[43m,\u001b[49m\n\u001b[0;32m    646\u001b[0m \u001b[43m    \u001b[49m\u001b[43mclbits\u001b[49m\u001b[43m,\u001b[49m\n\u001b[0;32m    647\u001b[0m \u001b[43m    \u001b[49m\u001b[43mnodes\u001b[49m\u001b[43m,\u001b[49m\n\u001b[0;32m    648\u001b[0m \u001b[43m    \u001b[49m\u001b[43mscale\u001b[49m\u001b[38;5;241;43m=\u001b[39;49m\u001b[43mscale\u001b[49m\u001b[43m,\u001b[49m\n\u001b[0;32m    649\u001b[0m \u001b[43m    \u001b[49m\u001b[43mstyle\u001b[49m\u001b[38;5;241;43m=\u001b[39;49m\u001b[43mstyle\u001b[49m\u001b[43m,\u001b[49m\n\u001b[0;32m    650\u001b[0m \u001b[43m    \u001b[49m\u001b[43mreverse_bits\u001b[49m\u001b[38;5;241;43m=\u001b[39;49m\u001b[43mreverse_bits\u001b[49m\u001b[43m,\u001b[49m\n\u001b[0;32m    651\u001b[0m \u001b[43m    \u001b[49m\u001b[43mplot_barriers\u001b[49m\u001b[38;5;241;43m=\u001b[39;49m\u001b[43mplot_barriers\u001b[49m\u001b[43m,\u001b[49m\n\u001b[0;32m    652\u001b[0m \u001b[43m    \u001b[49m\u001b[43mlayout\u001b[49m\u001b[38;5;241;43m=\u001b[39;49m\u001b[38;5;28;43;01mNone\u001b[39;49;00m\u001b[43m,\u001b[49m\n\u001b[0;32m    653\u001b[0m \u001b[43m    \u001b[49m\u001b[43mfold\u001b[49m\u001b[38;5;241;43m=\u001b[39;49m\u001b[43mfold\u001b[49m\u001b[43m,\u001b[49m\n\u001b[0;32m    654\u001b[0m \u001b[43m    \u001b[49m\u001b[43max\u001b[49m\u001b[38;5;241;43m=\u001b[39;49m\u001b[43max\u001b[49m\u001b[43m,\u001b[49m\n\u001b[0;32m    655\u001b[0m \u001b[43m    \u001b[49m\u001b[43minitial_state\u001b[49m\u001b[38;5;241;43m=\u001b[39;49m\u001b[43minitial_state\u001b[49m\u001b[43m,\u001b[49m\n\u001b[0;32m    656\u001b[0m \u001b[43m    \u001b[49m\u001b[43mcregbundle\u001b[49m\u001b[38;5;241;43m=\u001b[39;49m\u001b[43mcregbundle\u001b[49m\u001b[43m,\u001b[49m\n\u001b[0;32m    657\u001b[0m \u001b[43m    \u001b[49m\u001b[43mglobal_phase\u001b[49m\u001b[38;5;241;43m=\u001b[39;49m\u001b[38;5;28;43;01mNone\u001b[39;49;00m\u001b[43m,\u001b[49m\n\u001b[0;32m    658\u001b[0m \u001b[43m    \u001b[49m\u001b[43mcalibrations\u001b[49m\u001b[38;5;241;43m=\u001b[39;49m\u001b[38;5;28;43;01mNone\u001b[39;49;00m\u001b[43m,\u001b[49m\n\u001b[0;32m    659\u001b[0m \u001b[43m    \u001b[49m\u001b[43mqregs\u001b[49m\u001b[38;5;241;43m=\u001b[39;49m\u001b[38;5;28;43;01mNone\u001b[39;49;00m\u001b[43m,\u001b[49m\n\u001b[0;32m    660\u001b[0m \u001b[43m    \u001b[49m\u001b[43mcregs\u001b[49m\u001b[38;5;241;43m=\u001b[39;49m\u001b[38;5;28;43;01mNone\u001b[39;49;00m\u001b[43m,\u001b[49m\n\u001b[0;32m    661\u001b[0m \u001b[43m    \u001b[49m\u001b[43mwith_layout\u001b[49m\u001b[38;5;241;43m=\u001b[39;49m\u001b[43mwith_layout\u001b[49m\u001b[43m,\u001b[49m\n\u001b[0;32m    662\u001b[0m \u001b[43m    \u001b[49m\u001b[43mcircuit\u001b[49m\u001b[38;5;241;43m=\u001b[39;49m\u001b[43mcircuit\u001b[49m\u001b[43m,\u001b[49m\n\u001b[0;32m    663\u001b[0m \u001b[43m\u001b[49m\u001b[43m)\u001b[49m\n\u001b[0;32m    664\u001b[0m \u001b[38;5;28;01mreturn\u001b[39;00m qcd\u001b[38;5;241m.\u001b[39mdraw(filename)\n",
      "File \u001b[1;32m~\\AppData\\Local\\Programs\\Python\\Python310\\lib\\site-packages\\qiskit\\utils\\classtools.py:111\u001b[0m, in \u001b[0;36m_WrappedMethod.__get__.<locals>.out\u001b[1;34m(*args, **kwargs)\u001b[0m\n\u001b[0;32m    108\u001b[0m \u001b[38;5;129m@functools\u001b[39m\u001b[38;5;241m.\u001b[39mwraps(method)\n\u001b[0;32m    109\u001b[0m \u001b[38;5;28;01mdef\u001b[39;00m \u001b[38;5;21mout\u001b[39m(\u001b[38;5;241m*\u001b[39margs, \u001b[38;5;241m*\u001b[39m\u001b[38;5;241m*\u001b[39mkwargs):\n\u001b[0;32m    110\u001b[0m     \u001b[38;5;28;01mfor\u001b[39;00m callback \u001b[38;5;129;01min\u001b[39;00m \u001b[38;5;28mself\u001b[39m\u001b[38;5;241m.\u001b[39m_before:\n\u001b[1;32m--> 111\u001b[0m         callback\u001b[38;5;241m.\u001b[39m\u001b[38;5;21m__get__\u001b[39m(obj, objtype)(\u001b[38;5;241m*\u001b[39margs, \u001b[38;5;241m*\u001b[39m\u001b[38;5;241m*\u001b[39mkwargs)\n\u001b[0;32m    112\u001b[0m     retval \u001b[38;5;241m=\u001b[39m method(\u001b[38;5;241m*\u001b[39margs, \u001b[38;5;241m*\u001b[39m\u001b[38;5;241m*\u001b[39mkwargs)\n\u001b[0;32m    113\u001b[0m     \u001b[38;5;28;01mfor\u001b[39;00m callback \u001b[38;5;129;01min\u001b[39;00m \u001b[38;5;28mself\u001b[39m\u001b[38;5;241m.\u001b[39m_after:\n",
      "File \u001b[1;32m~\\AppData\\Local\\Programs\\Python\\Python310\\lib\\site-packages\\qiskit\\utils\\lazy_tester.py:39\u001b[0m, in \u001b[0;36m_RequireNow.__call__\u001b[1;34m(self, *_args, **_kwargs)\u001b[0m\n\u001b[0;32m     38\u001b[0m \u001b[38;5;28;01mdef\u001b[39;00m \u001b[38;5;21m__call__\u001b[39m(\u001b[38;5;28mself\u001b[39m, \u001b[38;5;241m*\u001b[39m_args, \u001b[38;5;241m*\u001b[39m\u001b[38;5;241m*\u001b[39m_kwargs):\n\u001b[1;32m---> 39\u001b[0m     \u001b[38;5;28;43mself\u001b[39;49m\u001b[38;5;241;43m.\u001b[39;49m\u001b[43m_tester\u001b[49m\u001b[38;5;241;43m.\u001b[39;49m\u001b[43mrequire_now\u001b[49m\u001b[43m(\u001b[49m\u001b[38;5;28;43mself\u001b[39;49m\u001b[38;5;241;43m.\u001b[39;49m\u001b[43m_feature\u001b[49m\u001b[43m)\u001b[49m\n",
      "File \u001b[1;32m~\\AppData\\Local\\Programs\\Python\\Python310\\lib\\site-packages\\qiskit\\utils\\lazy_tester.py:223\u001b[0m, in \u001b[0;36mLazyDependencyManager.require_now\u001b[1;34m(self, feature)\u001b[0m\n\u001b[0;32m    221\u001b[0m \u001b[38;5;28;01mif\u001b[39;00m \u001b[38;5;28mself\u001b[39m:\n\u001b[0;32m    222\u001b[0m     \u001b[38;5;28;01mreturn\u001b[39;00m\n\u001b[1;32m--> 223\u001b[0m \u001b[38;5;28;01mraise\u001b[39;00m MissingOptionalLibraryError(\n\u001b[0;32m    224\u001b[0m     libname\u001b[38;5;241m=\u001b[39m\u001b[38;5;28mself\u001b[39m\u001b[38;5;241m.\u001b[39m_name, name\u001b[38;5;241m=\u001b[39mfeature, pip_install\u001b[38;5;241m=\u001b[39m\u001b[38;5;28mself\u001b[39m\u001b[38;5;241m.\u001b[39m_install, msg\u001b[38;5;241m=\u001b[39m\u001b[38;5;28mself\u001b[39m\u001b[38;5;241m.\u001b[39m_msg\n\u001b[0;32m    225\u001b[0m )\n",
      "\u001b[1;31mMissingOptionalLibraryError\u001b[0m: \"The 'pylatexenc' library is required to use 'MatplotlibDrawer'. You can install it with 'pip install pylatexenc'.\""
     ]
    }
   ],
   "source": [
    "circuito.draw(output=\"mpl\")"
   ]
  },
  {
   "cell_type": "code",
   "execution_count": 14,
   "id": "7c757b70",
   "metadata": {},
   "outputs": [],
   "source": [
    "from qiskit.tools.visualization import plot_bloch_multivector"
   ]
  },
  {
   "cell_type": "code",
   "execution_count": 16,
   "id": "9aee9951",
   "metadata": {},
   "outputs": [
    {
     "data": {
      "image/png": "[encoded data removed]",
      "text/plain": [
       "<Figure size 576x288 with 2 Axes>"
      ]
     },
     "execution_count": 16,
     "metadata": {},
     "output_type": "execute_result"
    }
   ],
   "source": [
    "plot_bloch_multivector(circuito2)"
   ]
  },
  {
   "cell_type": "code",
   "execution_count": 22,
   "id": "3afac06c",
   "metadata": {},
   "outputs": [
    {
     "data": {
      "image/png": "[encoded data removed]",
      "text/plain": [
       "<Figure size 576x288 with 2 Axes>"
      ]
     },
     "execution_count": 22,
     "metadata": {},
     "output_type": "execute_result"
    }
   ],
   "source": [
    "plot_bloch_multivector(circuito)"
   ]
  },
  {
   "cell_type": "code",
   "execution_count": 23,
   "id": "aa485365",
   "metadata": {},
   "outputs": [
    {
     "data": {
      "text/plain": [
       "<qiskit.circuit.instructionset.InstructionSet at 0x2c5dbf8f940>"
      ]
     },
     "execution_count": 23,
     "metadata": {},
     "output_type": "execute_result"
    }
   ],
   "source": [
    "circuito.cx(qr[0], qr[1]) # Aplica una puerta de CNOT en el qbit 0 y 1"
   ]
  },
  {
   "cell_type": "code",
   "execution_count": 25,
   "id": "170a20cf",
   "metadata": {},
   "outputs": [
    {
     "data": {
      "text/html": [
       "<pre style=\"word-wrap: normal;white-space: pre;background: #fff0;line-height: 1.1;font-family: &quot;Courier New&quot;,Courier,monospace\">      ┌───┐     \n",
       "q0_0: ┤ H ├──■──\n",
       "      └───┘┌─┴─┐\n",
       "q0_1: ─────┤ X ├\n",
       "           └───┘\n",
       "c0: 2/══════════\n",
       "                </pre>"
      ],
      "text/plain": [
       "      ┌───┐     \n",
       "q0_0: ┤ H ├──■──\n",
       "      └───┘┌─┴─┐\n",
       "q0_1: ─────┤ X ├\n",
       "           └───┘\n",
       "c0: 2/══════════\n",
       "                "
      ]
     },
     "execution_count": 25,
     "metadata": {},
     "output_type": "execute_result"
    }
   ],
   "source": [
    "circuito.draw()"
   ]
  },
  {
   "cell_type": "code",
   "execution_count": 26,
   "id": "2d52846f",
   "metadata": {},
   "outputs": [
    {
     "data": {
      "text/plain": [
       "<qiskit.circuit.instructionset.InstructionSet at 0x2c5dbf8e2c0>"
      ]
     },
     "execution_count": 26,
     "metadata": {},
     "output_type": "execute_result"
    }
   ],
   "source": [
    "# Ahora vamos a medir\n",
    "circuito.measure(qr,cr)"
   ]
  },
  {
   "cell_type": "code",
   "execution_count": 27,
   "id": "ded5f181",
   "metadata": {},
   "outputs": [
    {
     "data": {
      "text/html": [
       "<pre style=\"word-wrap: normal;white-space: pre;background: #fff0;line-height: 1.1;font-family: &quot;Courier New&quot;,Courier,monospace\">      ┌───┐     ┌─┐   \n",
       "q0_0: ┤ H ├──■──┤M├───\n",
       "      └───┘┌─┴─┐└╥┘┌─┐\n",
       "q0_1: ─────┤ X ├─╫─┤M├\n",
       "           └───┘ ║ └╥┘\n",
       "c0: 2/═══════════╩══╩═\n",
       "                 0  1 </pre>"
      ],
      "text/plain": [
       "      ┌───┐     ┌─┐   \n",
       "q0_0: ┤ H ├──■──┤M├───\n",
       "      └───┘┌─┴─┐└╥┘┌─┐\n",
       "q0_1: ─────┤ X ├─╫─┤M├\n",
       "           └───┘ ║ └╥┘\n",
       "c0: 2/═══════════╩══╩═\n",
       "                 0  1 "
      ]
     },
     "execution_count": 27,
     "metadata": {},
     "output_type": "execute_result"
    }
   ],
   "source": [
    "circuito.draw() # Ya lo hemos medido por lo tanto ya no vale para nada mas"
   ]
  },
  {
   "cell_type": "code",
   "execution_count": 28,
   "id": "532b7e2a",
   "metadata": {},
   "outputs": [
    {
     "data": {
      "text/plain": [
       "Clbit(ClassicalRegister(2, 'c0'), 0)"
      ]
     },
     "execution_count": 28,
     "metadata": {},
     "output_type": "execute_result"
    }
   ],
   "source": [
    "cr[0]"
   ]
  },
  {
   "cell_type": "code",
   "execution_count": 29,
   "id": "69ce491b",
   "metadata": {},
   "outputs": [
    {
     "data": {
      "text/plain": [
       "Clbit(ClassicalRegister(2, 'c0'), 1)"
      ]
     },
     "execution_count": 29,
     "metadata": {},
     "output_type": "execute_result"
    }
   ],
   "source": [
    "cr[1]"
   ]
  },
  {
   "attachments": {},
   "cell_type": "markdown",
   "id": "998cee25",
   "metadata": {},
   "source": [
    "# Desde simulador en Python"
   ]
  },
  {
   "cell_type": "code",
   "execution_count": 30,
   "id": "ac4989e6",
   "metadata": {},
   "outputs": [
    {
     "data": {
      "text/plain": [
       "QasmSimulator('qasm_simulator')"
      ]
     },
     "execution_count": 30,
     "metadata": {},
     "output_type": "execute_result"
    }
   ],
   "source": [
    "backend_simulator = Aer.get_backend(\"qasm_simulator\")\n",
    "backend_simulator"
   ]
  },
  {
   "cell_type": "code",
   "execution_count": 31,
   "id": "b1a0ddfe",
   "metadata": {},
   "outputs": [],
   "source": [
    "job_simulator = execute(circuito, backend=backend_simulator)"
   ]
  },
  {
   "cell_type": "code",
   "execution_count": 32,
   "id": "f5d9ba5e",
   "metadata": {},
   "outputs": [
    {
     "data": {
      "text/plain": [
       "<qiskit_aer.jobs.aerjob.AerJob at 0x2c5daae5180>"
      ]
     },
     "execution_count": 32,
     "metadata": {},
     "output_type": "execute_result"
    }
   ],
   "source": [
    "job_simulator"
   ]
  },
  {
   "cell_type": "code",
   "execution_count": 33,
   "id": "98dddc71",
   "metadata": {},
   "outputs": [],
   "source": [
    "result = job_simulator.result()"
   ]
  },
  {
   "cell_type": "code",
   "execution_count": 34,
   "id": "63988168",
   "metadata": {},
   "outputs": [
    {
     "data": {
      "text/plain": [
       "Result(backend_name='qasm_simulator', backend_version='0.12.0', qobj_id='', job_id='e4e6ce62-89a7-4f21-8ce4-25c9af2ad918', success=True, results=[ExperimentResult(shots=1024, success=True, meas_level=2, data=ExperimentResultData(counts={'0x0': 550, '0x3': 474}), header=QobjExperimentHeader(creg_sizes=[['c0', 2]], global_phase=0.0, memory_slots=2, metadata=None, n_qubits=2, name='circuit-115', qreg_sizes=[['q0', 2]]), status=DONE, seed_simulator=3987329087, metadata={'batched_shots_optimization': False, 'method': 'stabilizer', 'active_input_qubits': [0, 1], 'device': 'CPU', 'remapped_qubits': False, 'num_qubits': 2, 'num_clbits': 2, 'sample_measure_time': 0.0007328, 'input_qubit_map': [[0, 0], [1, 1]], 'measure_sampling': True, 'noise': 'ideal', 'parallel_shots': 1, 'parallel_state_update': 8, 'fusion': {'enabled': False}}, time_taken=0.0019383)], date=2023-06-09T17:48:06.361248, status=COMPLETED, header=None, metadata={'parallel_experiments': 1, 'omp_enabled': True, 'max_memory_mb': 40755, 'max_gpu_memory_mb': 0, 'num_processes_per_experiments': 1, 'mpi_rank': 0, 'num_mpi_processes': 1, 'time_taken_execute': 0.0019781}, time_taken=0.0019936561584472656)"
      ]
     },
     "execution_count": 34,
     "metadata": {},
     "output_type": "execute_result"
    }
   ],
   "source": [
    "result"
   ]
  },
  {
   "cell_type": "code",
   "execution_count": 35,
   "id": "a3f5e612",
   "metadata": {},
   "outputs": [
    {
     "data": {
      "text/plain": [
       "'COMPLETED'"
      ]
     },
     "execution_count": 35,
     "metadata": {},
     "output_type": "execute_result"
    }
   ],
   "source": [
    "result.status"
   ]
  },
  {
   "cell_type": "code",
   "execution_count": 36,
   "id": "34c2dab4",
   "metadata": {},
   "outputs": [],
   "source": [
    "from qiskit.tools.visualization import plot_histogram"
   ]
  },
  {
   "cell_type": "code",
   "execution_count": 37,
   "id": "fdc14210",
   "metadata": {},
   "outputs": [
    {
     "data": {
      "image/png": "[encoded data removed]",
      "text/plain": [
       "<Figure size 504x360 with 1 Axes>"
      ]
     },
     "execution_count": 37,
     "metadata": {},
     "output_type": "execute_result"
    }
   ],
   "source": [
    "plot_histogram(result.get_counts(circuito))"
   ]
  },
  {
   "attachments": {},
   "cell_type": "markdown",
   "id": "9f911830",
   "metadata": {},
   "source": [
    "# Desde el servidor de IBM"
   ]
  },
  {
   "cell_type": "code",
   "execution_count": 38,
   "id": "de893d9d",
   "metadata": {},
   "outputs": [],
   "source": [
    "from qiskit import IBMQ"
   ]
  },
  {
   "cell_type": "code",
   "execution_count": 39,
   "id": "886d6b20",
   "metadata": {},
   "outputs": [
    {
     "name": "stderr",
     "output_type": "stream",
     "text": [
      "C:\\Users\\JoaquinLeon\\AppData\\Local\\Temp\\ipykernel_10008\\3043582684.py:1: DeprecationWarning: The package qiskit.providers.ibmq is being deprecated. Please see https://ibm.biz/provider_migration_guide to get instructions on how to migrate to qiskit-ibm-provider (https://github.com/Qiskit/qiskit-ibm-provider) and qiskit-ibm-runtime (https://github.com/Qiskit/qiskit-ibm-runtime).\n",
      "  IBMQ.save_account('b81cb8e3584d8ca8b2dff9144ca8158ef86af0a09d82cc0bc595df24141a1aa46e1305f6cc9e5e3160eaf678b928f1f1aff5f8da36cc4692c79ec9dd7ec80108')\n",
      "C:\\Users\\JoaquinLeon\\AppData\\Local\\Temp\\ipykernel_10008\\3043582684.py:1: DeprecationWarning: The qiskit.IBMQ entrypoint and the qiskit-ibmq-provider package (accessible from 'qiskit.providers.ibmq`) are deprecated and will be removed in a future release. Instead you should use the qiskit-ibm-provider package which is accessible from 'qiskit_ibm_provider'. You can install it with 'pip install qiskit_ibm_provider'. Just replace 'qiskit.IBMQ' with 'qiskit_ibm_provider.IBMProvider'\n",
      "  IBMQ.save_account('b81cb8e3584d8ca8b2dff9144ca8158ef86af0a09d82cc0bc595df24141a1aa46e1305f6cc9e5e3160eaf678b928f1f1aff5f8da36cc4692c79ec9dd7ec80108')\n"
     ]
    }
   ],
   "source": [
    "IBMQ.save_account('')"
   ]
  },
  {
   "cell_type": "code",
   "execution_count": 40,
   "id": "278883bb",
   "metadata": {},
   "outputs": [
    {
     "data": {
      "text/plain": [
       "<AccountProvider for IBMQ(hub='ibm-q', group='open', project='main')>"
      ]
     },
     "execution_count": 40,
     "metadata": {},
     "output_type": "execute_result"
    }
   ],
   "source": [
    "IBMQ.load_account()"
   ]
  },
  {
   "cell_type": "code",
   "execution_count": 41,
   "id": "a191b050",
   "metadata": {},
   "outputs": [
    {
     "data": {
      "text/plain": [
       "<AccountProvider for IBMQ(hub='ibm-q', group='open', project='main')>"
      ]
     },
     "execution_count": 41,
     "metadata": {},
     "output_type": "execute_result"
    }
   ],
   "source": [
    "provider = IBMQ.get_provider('ibm-q')\n",
    "provider"
   ]
  },
  {
   "cell_type": "code",
   "execution_count": 42,
   "id": "3910bbe0",
   "metadata": {},
   "outputs": [
    {
     "data": {
      "text/plain": [
       "[<IBMQSimulator('ibmq_qasm_simulator') from IBMQ(hub='ibm-q', group='open', project='main')>,\n",
       " <IBMQBackend('ibmq_lima') from IBMQ(hub='ibm-q', group='open', project='main')>,\n",
       " <IBMQBackend('ibmq_belem') from IBMQ(hub='ibm-q', group='open', project='main')>,\n",
       " <IBMQBackend('ibmq_quito') from IBMQ(hub='ibm-q', group='open', project='main')>,\n",
       " <IBMQSimulator('simulator_statevector') from IBMQ(hub='ibm-q', group='open', project='main')>,\n",
       " <IBMQSimulator('simulator_mps') from IBMQ(hub='ibm-q', group='open', project='main')>,\n",
       " <IBMQSimulator('simulator_extended_stabilizer') from IBMQ(hub='ibm-q', group='open', project='main')>,\n",
       " <IBMQSimulator('simulator_stabilizer') from IBMQ(hub='ibm-q', group='open', project='main')>,\n",
       " <IBMQBackend('ibmq_jakarta') from IBMQ(hub='ibm-q', group='open', project='main')>,\n",
       " <IBMQBackend('ibmq_manila') from IBMQ(hub='ibm-q', group='open', project='main')>,\n",
       " <IBMQBackend('ibm_lagos') from IBMQ(hub='ibm-q', group='open', project='main')>,\n",
       " <IBMQBackend('ibm_nairobi') from IBMQ(hub='ibm-q', group='open', project='main')>,\n",
       " <IBMQBackend('ibm_perth') from IBMQ(hub='ibm-q', group='open', project='main')>]"
      ]
     },
     "execution_count": 42,
     "metadata": {},
     "output_type": "execute_result"
    }
   ],
   "source": [
    "provider.backends()"
   ]
  },
  {
   "cell_type": "code",
   "execution_count": 45,
   "id": "e73fdd83",
   "metadata": {},
   "outputs": [
    {
     "data": {
      "text/plain": [
       "<IBMQBackend('ibmq_quito') from IBMQ(hub='ibm-q', group='open', project='main')>"
      ]
     },
     "execution_count": 45,
     "metadata": {},
     "output_type": "execute_result"
    }
   ],
   "source": [
    "qcomp = provider.get_backend('ibmq_quito')\n",
    "qcomp"
   ]
  },
  {
   "cell_type": "code",
   "execution_count": 46,
   "id": "10cf7810",
   "metadata": {},
   "outputs": [
    {
     "data": {
      "text/plain": [
       "<qiskit.providers.ibmq.job.ibmqjob.IBMQJob at 0x2c5ff270040>"
      ]
     },
     "execution_count": 46,
     "metadata": {},
     "output_type": "execute_result"
    }
   ],
   "source": [
    "job = execute(circuito, backend = qcomp)\n",
    "job"
   ]
  },
  {
   "cell_type": "code",
   "execution_count": 47,
   "id": "00d6c446",
   "metadata": {},
   "outputs": [],
   "source": [
    "from qiskit.tools.monitor import job_monitor"
   ]
  },
  {
   "cell_type": "code",
   "execution_count": 48,
   "id": "dea9d7cd",
   "metadata": {},
   "outputs": [
    {
     "name": "stdout",
     "output_type": "stream",
     "text": [
      "Job Status: job has successfully run\n"
     ]
    }
   ],
   "source": [
    "job_monitor(job)"
   ]
  },
  {
   "cell_type": "code",
   "execution_count": 49,
   "id": "d41d6417",
   "metadata": {},
   "outputs": [
    {
     "data": {
      "text/plain": [
       "Result(backend_name='ibmq_quito', backend_version='1.1.41', qobj_id='8390e7c9-2177-41c4-abaf-61c5cbc6b392', job_id='circuit-runner_ci1eo4tn4pk8hhh9o1dg_8239_0', success=True, results=[ExperimentResult(shots=4000, success=True, meas_level=2, data=ExperimentResultData(counts={'0x0': 1954, '0x1': 130, '0x2': 209, '0x3': 1707}), header=QobjExperimentHeader(clbit_labels=[['c0', 0], ['c0', 1]], creg_sizes=[['c0', 2]], global_phase=0.7853981633974483, memory_slots=2, metadata={}, n_qubits=5, name='circuit-115', qreg_sizes=[['q', 5]], qubit_labels=[['q', 0], ['q', 1], ['q', 2], ['q', 3], ['q', 4]]), status=done)], date=2023-06-09 19:08:45+10:00, status=Successful completion, header=QobjHeader(backend_name='ibmq_quito', backend_version='1.1.41', _ibm_tracing_={'uber-trace-id': 'e1b7c95931999a6be879514fa71fa408:fcfefd8293935949:cc024d3946ab10e6:1'}), execution_id='3ad1503a-06a5-11ee-80fb-b02628f7f59e', time_taken=2.8865158810000002, error=None, client_version={'qiskit-ibmq-provider': '0.20.2', 'qiskit-aer': '0.12.0'})"
      ]
     },
     "execution_count": 49,
     "metadata": {},
     "output_type": "execute_result"
    }
   ],
   "source": [
    "result = job.result()\n",
    "result"
   ]
  },
  {
   "cell_type": "code",
   "execution_count": 51,
   "id": "bdb5321a",
   "metadata": {},
   "outputs": [
    {
     "data": {
      "image/png": "[encoded data removed]",
      "text/plain": [
       "<Figure size 504x360 with 1 Axes>"
      ]
     },
     "execution_count": 51,
     "metadata": {},
     "output_type": "execute_result"
    }
   ],
   "source": [
    "plot_histogram(result.get_counts(circuito))"
   ]
  },
  {
   "cell_type": "code",
   "execution_count": null,
   "id": "7dd744f5",
   "metadata": {},
   "outputs": [],
   "source": []
  },
  {
   "attachments": {},
   "cell_type": "markdown",
   "id": "896d361f",
   "metadata": {},
   "source": [
    "# Parte 2"
   ]
  },
  {
   "attachments": {},
   "cell_type": "markdown",
   "id": "322716ef",
   "metadata": {},
   "source": [
    "2 - Busca información acerca de los Estados de Bell en Computación Cuántica\n",
    "\n",
    "Los estados de Bell, también conocidos como estados maximamente entrelazados, son estados cuánticos de dos qubits que están altamente correlacionados y entrelazados. Hay cuatro estados de Bell en total, denominados como |Φ⁺⟩, |Φ⁻⟩, |Ψ⁺⟩ y |Ψ⁻⟩. Estos estados son importantes en la computación cuántica porque se utilizan en diversos protocolos y algoritmos cuánticos, como el teletransporte cuántico y la codificación superdensa. Los estados de Bell permiten la transferencia de información cuántica de manera eficiente y preservando la entrelazación cuántica, lo que los hace fundamentales en la construcción de redes y aplicaciones cuánticas."
   ]
  },
  {
   "attachments": {},
   "cell_type": "markdown",
   "id": "79fc789f",
   "metadata": {},
   "source": [
    "# Parte 3"
   ]
  },
  {
   "cell_type": "code",
   "execution_count": 52,
   "id": "c788ca07",
   "metadata": {},
   "outputs": [
    {
     "name": "stdout",
     "output_type": "stream",
     "text": [
      "Requirement already satisfied: pip in c:\\users\\joaquinleon\\appdata\\local\\programs\\python\\python310\\lib\\site-packages (22.3)\n",
      "Collecting pip\n",
      "  Using cached pip-23.1.2-py3-none-any.whl (2.1 MB)\n"
     ]
    },
    {
     "name": "stderr",
     "output_type": "stream",
     "text": [
      "WARNING: Ignoring invalid distribution -atplotlib (c:\\users\\joaquinleon\\appdata\\local\\programs\\python\\python310\\lib\\site-packages)\n",
      "WARNING: Ignoring invalid distribution -atplotlib (c:\\users\\joaquinleon\\appdata\\local\\programs\\python\\python310\\lib\\site-packages)\n",
      "ERROR: To modify pip, please run the following command:\n",
      "C:\\Users\\JoaquinLeon\\AppData\\Local\\Programs\\Python\\Python310\\python.exe -m pip install --upgrade pip\n",
      "WARNING: Ignoring invalid distribution -atplotlib (c:\\users\\joaquinleon\\appdata\\local\\programs\\python\\python310\\lib\\site-packages)\n",
      "WARNING: Ignoring invalid distribution -atplotlib (c:\\users\\joaquinleon\\appdata\\local\\programs\\python\\python310\\lib\\site-packages)\n",
      "WARNING: Ignoring invalid distribution -atplotlib (c:\\users\\joaquinleon\\appdata\\local\\programs\\python\\python310\\lib\\site-packages)\n",
      "\n",
      "[notice] A new release of pip available: 22.3 -> 23.1.2\n",
      "[notice] To update, run: python.exe -m pip install --upgrade pip\n",
      "WARNING: Ignoring invalid distribution -atplotlib (c:\\users\\joaquinleon\\appdata\\local\\programs\\python\\python310\\lib\\site-packages)\n",
      "WARNING: Ignoring invalid distribution -atplotlib (c:\\users\\joaquinleon\\appdata\\local\\programs\\python\\python310\\lib\\site-packages)\n",
      "WARNING: Ignoring invalid distribution -atplotlib (c:\\users\\joaquinleon\\appdata\\local\\programs\\python\\python310\\lib\\site-packages)\n",
      "  DEPRECATION: lark is being installed using the legacy 'setup.py install' method, because it does not have a 'pyproject.toml' and the 'wheel' package is not installed. pip 23.1 will enforce this behaviour change. A possible replacement is to enable the '--use-pep517' option. Discussion can be found at https://github.com/pypa/pip/issues/8559\n",
      "    WARNING: Ignoring invalid distribution -atplotlib (c:\\users\\joaquinleon\\appdata\\local\\programs\\python\\python310\\lib\\site-packages)\n",
      "  DEPRECATION: rpcq is being installed using the legacy 'setup.py install' method, because it does not have a 'pyproject.toml' and the 'wheel' package is not installed. pip 23.1 will enforce this behaviour change. A possible replacement is to enable the '--use-pep517' option. Discussion can be found at https://github.com/pypa/pip/issues/8559\n",
      "WARNING: Ignoring invalid distribution -atplotlib (c:\\users\\joaquinleon\\appdata\\local\\programs\\python\\python310\\lib\\site-packages)\n",
      "WARNING: Ignoring invalid distribution -atplotlib (c:\\users\\joaquinleon\\appdata\\local\\programs\\python\\python310\\lib\\site-packages)\n",
      "WARNING: Ignoring invalid distribution -atplotlib (c:\\users\\joaquinleon\\appdata\\local\\programs\\python\\python310\\lib\\site-packages)\n",
      "WARNING: Ignoring invalid distribution -atplotlib (c:\\users\\joaquinleon\\appdata\\local\\programs\\python\\python310\\lib\\site-packages)\n",
      "WARNING: Ignoring invalid distribution -atplotlib (c:\\users\\joaquinleon\\appdata\\local\\programs\\python\\python310\\lib\\site-packages)\n",
      "WARNING: Ignoring invalid distribution -atplotlib (c:\\users\\joaquinleon\\appdata\\local\\programs\\python\\python310\\lib\\site-packages)\n",
      "WARNING: Ignoring invalid distribution -atplotlib (c:\\users\\joaquinleon\\appdata\\local\\programs\\python\\python310\\lib\\site-packages)\n",
      "WARNING: Ignoring invalid distribution -atplotlib (c:\\users\\joaquinleon\\appdata\\local\\programs\\python\\python310\\lib\\site-packages)\n",
      "WARNING: Ignoring invalid distribution -atplotlib (c:\\users\\joaquinleon\\appdata\\local\\programs\\python\\python310\\lib\\site-packages)\n",
      "WARNING: Ignoring invalid distribution -atplotlib (c:\\users\\joaquinleon\\appdata\\local\\programs\\python\\python310\\lib\\site-packages)\n",
      "WARNING: Ignoring invalid distribution -atplotlib (c:\\users\\joaquinleon\\appdata\\local\\programs\\python\\python310\\lib\\site-packages)\n",
      "WARNING: Ignoring invalid distribution -atplotlib (c:\\users\\joaquinleon\\appdata\\local\\programs\\python\\python310\\lib\\site-packages)\n"
     ]
    },
    {
     "name": "stdout",
     "output_type": "stream",
     "text": [
      "Collecting cirq\n",
      "  Downloading cirq-1.1.0-py3-none-any.whl (7.7 kB)\n",
      "Collecting cirq-google==1.1.0\n",
      "  Downloading cirq_google-1.1.0-py3-none-any.whl (577 kB)\n",
      "     -------------------------------------- 577.4/577.4 kB 3.0 MB/s eta 0:00:00\n",
      "Collecting cirq-web==1.1.0\n",
      "  Downloading cirq_web-1.1.0-py3-none-any.whl (594 kB)\n",
      "     -------------------------------------- 594.6/594.6 kB 2.7 MB/s eta 0:00:00\n",
      "Collecting cirq-pasqal==1.1.0\n",
      "  Downloading cirq_pasqal-1.1.0-py3-none-any.whl (31 kB)\n",
      "Collecting cirq-ionq==1.1.0\n",
      "  Downloading cirq_ionq-1.1.0-py3-none-any.whl (57 kB)\n",
      "     ---------------------------------------- 57.6/57.6 kB 1.5 MB/s eta 0:00:00\n",
      "Collecting cirq-core==1.1.0\n",
      "  Downloading cirq_core-1.1.0-py3-none-any.whl (1.8 MB)\n",
      "     ---------------------------------------- 1.8/1.8 MB 3.3 MB/s eta 0:00:00\n",
      "Collecting cirq-aqt==1.1.0\n",
      "  Downloading cirq_aqt-1.1.0-py3-none-any.whl (27 kB)\n",
      "Collecting cirq-rigetti==1.1.0\n",
      "  Downloading cirq_rigetti-1.1.0-py3-none-any.whl (66 kB)\n",
      "     ---------------------------------------- 66.4/66.4 kB 3.5 MB/s eta 0:00:00\n",
      "Requirement already satisfied: requests~=2.18 in c:\\users\\joaquinleon\\appdata\\local\\programs\\python\\python310\\lib\\site-packages (from cirq-aqt==1.1.0->cirq) (2.28.1)\n",
      "Requirement already satisfied: sympy in c:\\users\\joaquinleon\\appdata\\local\\programs\\python\\python310\\lib\\site-packages (from cirq-core==1.1.0->cirq) (1.12)\n",
      "Requirement already satisfied: typing-extensions in c:\\users\\joaquinleon\\appdata\\local\\programs\\python\\python310\\lib\\site-packages (from cirq-core==1.1.0->cirq) (4.4.0)\n",
      "Collecting sortedcontainers~=2.0\n",
      "  Downloading sortedcontainers-2.4.0-py2.py3-none-any.whl (29 kB)\n",
      "Requirement already satisfied: pandas in c:\\users\\joaquinleon\\appdata\\local\\programs\\python\\python310\\lib\\site-packages (from cirq-core==1.1.0->cirq) (2.0.1)\n",
      "Requirement already satisfied: scipy in c:\\users\\joaquinleon\\appdata\\local\\programs\\python\\python310\\lib\\site-packages (from cirq-core==1.1.0->cirq) (1.9.3)\n",
      "Requirement already satisfied: tqdm in c:\\users\\joaquinleon\\appdata\\local\\programs\\python\\python310\\lib\\site-packages (from cirq-core==1.1.0->cirq) (4.64.0)\n",
      "Requirement already satisfied: numpy<1.24,>=1.16 in c:\\users\\joaquinleon\\appdata\\local\\programs\\python\\python310\\lib\\site-packages (from cirq-core==1.1.0->cirq) (1.23.5)\n",
      "Collecting networkx~=2.4\n",
      "  Downloading networkx-2.8.8-py3-none-any.whl (2.0 MB)\n",
      "     ---------------------------------------- 2.0/2.0 MB 3.3 MB/s eta 0:00:00\n",
      "Collecting duet~=0.2.7\n",
      "  Downloading duet-0.2.8-py3-none-any.whl (29 kB)\n",
      "Requirement already satisfied: matplotlib~=3.0 in c:\\users\\joaquinleon\\appdata\\local\\programs\\python\\python310\\lib\\site-packages (from cirq-core==1.1.0->cirq) (3.7.1)\n",
      "Collecting protobuf<4,>=3.15.0\n",
      "  Using cached protobuf-3.20.3-cp310-cp310-win_amd64.whl (904 kB)\n",
      "Collecting google-api-core[grpc]<2.0.0dev,>=1.14.0\n",
      "  Downloading google_api_core-1.34.0-py3-none-any.whl (120 kB)\n",
      "     -------------------------------------- 120.2/120.2 kB 2.3 MB/s eta 0:00:00\n",
      "Collecting proto-plus>=1.20.0\n",
      "  Downloading proto_plus-1.22.2-py3-none-any.whl (47 kB)\n",
      "     ---------------------------------------- 47.9/47.9 kB 2.5 MB/s eta 0:00:00\n",
      "Collecting pyquil>=3.2.0\n",
      "  Downloading pyquil-3.5.4-py3-none-any.whl (223 kB)\n",
      "     -------------------------------------- 223.8/223.8 kB 3.4 MB/s eta 0:00:00\n",
      "Collecting google-auth<3.0dev,>=1.25.0\n",
      "  Downloading google_auth-2.19.1-py2.py3-none-any.whl (181 kB)\n",
      "     -------------------------------------- 181.3/181.3 kB 3.6 MB/s eta 0:00:00\n",
      "Collecting googleapis-common-protos<2.0dev,>=1.56.2\n",
      "  Downloading googleapis_common_protos-1.59.0-py2.py3-none-any.whl (223 kB)\n",
      "     -------------------------------------- 223.6/223.6 kB 2.7 MB/s eta 0:00:00\n",
      "Collecting grpcio<2.0dev,>=1.33.2\n",
      "  Downloading grpcio-1.54.2-cp310-cp310-win_amd64.whl (4.1 MB)\n",
      "     ---------------------------------------- 4.1/4.1 MB 3.3 MB/s eta 0:00:00\n",
      "Collecting grpcio-status<2.0dev,>=1.33.2\n",
      "  Downloading grpcio_status-1.54.2-py3-none-any.whl (5.1 kB)\n",
      "Requirement already satisfied: contourpy>=1.0.1 in c:\\users\\joaquinleon\\appdata\\local\\programs\\python\\python310\\lib\\site-packages (from matplotlib~=3.0->cirq-core==1.1.0->cirq) (1.0.7)\n",
      "Requirement already satisfied: pillow>=6.2.0 in c:\\users\\joaquinleon\\appdata\\local\\programs\\python\\python310\\lib\\site-packages (from matplotlib~=3.0->cirq-core==1.1.0->cirq) (9.0.1)\n",
      "Requirement already satisfied: python-dateutil>=2.7 in c:\\users\\joaquinleon\\appdata\\local\\programs\\python\\python310\\lib\\site-packages (from matplotlib~=3.0->cirq-core==1.1.0->cirq) (2.8.2)\n",
      "Requirement already satisfied: pyparsing>=2.3.1 in c:\\users\\joaquinleon\\appdata\\local\\programs\\python\\python310\\lib\\site-packages (from matplotlib~=3.0->cirq-core==1.1.0->cirq) (3.0.7)\n",
      "Requirement already satisfied: packaging>=20.0 in c:\\users\\joaquinleon\\appdata\\local\\programs\\python\\python310\\lib\\site-packages (from matplotlib~=3.0->cirq-core==1.1.0->cirq) (21.3)\n",
      "Requirement already satisfied: kiwisolver>=1.0.1 in c:\\users\\joaquinleon\\appdata\\local\\programs\\python\\python310\\lib\\site-packages (from matplotlib~=3.0->cirq-core==1.1.0->cirq) (1.3.2)\n",
      "Requirement already satisfied: fonttools>=4.22.0 in c:\\users\\joaquinleon\\appdata\\local\\programs\\python\\python310\\lib\\site-packages (from matplotlib~=3.0->cirq-core==1.1.0->cirq) (4.29.1)\n",
      "Requirement already satisfied: cycler>=0.10 in c:\\users\\joaquinleon\\appdata\\local\\programs\\python\\python310\\lib\\site-packages (from matplotlib~=3.0->cirq-core==1.1.0->cirq) (0.11.0)\n",
      "Collecting deprecated<2.0.0,>=1.2.13\n",
      "  Downloading Deprecated-1.2.14-py2.py3-none-any.whl (9.6 kB)\n",
      "Collecting types-deprecated<2.0.0.0,>=1.2.9.2\n",
      "  Downloading types_Deprecated-1.2.9.2-py3-none-any.whl (3.2 kB)\n",
      "Collecting types-python-dateutil<3.0.0,>=2.8.19\n",
      "  Downloading types_python_dateutil-2.8.19.13-py3-none-any.whl (9.2 kB)\n",
      "Collecting lark<0.12.0,>=0.11.1\n",
      "  Downloading lark-0.11.3.tar.gz (229 kB)\n",
      "     -------------------------------------- 229.9/229.9 kB 3.5 MB/s eta 0:00:00\n",
      "  Preparing metadata (setup.py): started\n",
      "  Preparing metadata (setup.py): finished with status 'done'\n",
      "Collecting types-retry<0.10.0,>=0.9.9\n",
      "  Downloading types_retry-0.9.9.3-py3-none-any.whl (2.4 kB)\n",
      "Collecting qcs-api-client<0.22.0,>=0.21.0\n",
      "  Downloading qcs_api_client-0.21.5-py3-none-any.whl (151 kB)\n",
      "     -------------------------------------- 151.7/151.7 kB 3.0 MB/s eta 0:00:00\n",
      "Collecting rpcq<4.0.0,>=3.10.0\n",
      "  Downloading rpcq-3.11.0.tar.gz (45 kB)\n",
      "     ---------------------------------------- 45.6/45.6 kB 2.2 MB/s eta 0:00:00\n",
      "  Preparing metadata (setup.py): started\n",
      "  Preparing metadata (setup.py): finished with status 'done'\n",
      "Collecting tenacity<9.0.0,>=8.2.2\n",
      "  Downloading tenacity-8.2.2-py3-none-any.whl (24 kB)\n",
      "Requirement already satisfied: urllib3<1.27,>=1.21.1 in c:\\users\\joaquinleon\\appdata\\local\\programs\\python\\python310\\lib\\site-packages (from requests~=2.18->cirq-aqt==1.1.0->cirq) (1.26.11)\n",
      "Requirement already satisfied: idna<4,>=2.5 in c:\\users\\joaquinleon\\appdata\\local\\programs\\python\\python310\\lib\\site-packages (from requests~=2.18->cirq-aqt==1.1.0->cirq) (3.3)\n",
      "Requirement already satisfied: charset-normalizer<3,>=2 in c:\\users\\joaquinleon\\appdata\\local\\programs\\python\\python310\\lib\\site-packages (from requests~=2.18->cirq-aqt==1.1.0->cirq) (2.1.0)\n",
      "Requirement already satisfied: certifi>=2017.4.17 in c:\\users\\joaquinleon\\appdata\\local\\programs\\python\\python310\\lib\\site-packages (from requests~=2.18->cirq-aqt==1.1.0->cirq) (2022.6.15)\n",
      "Requirement already satisfied: pytz>=2020.1 in c:\\users\\joaquinleon\\appdata\\local\\programs\\python\\python310\\lib\\site-packages (from pandas->cirq-core==1.1.0->cirq) (2022.7.1)\n",
      "Requirement already satisfied: tzdata>=2022.1 in c:\\users\\joaquinleon\\appdata\\local\\programs\\python\\python310\\lib\\site-packages (from pandas->cirq-core==1.1.0->cirq) (2022.5)\n",
      "Requirement already satisfied: mpmath>=0.19 in c:\\users\\joaquinleon\\appdata\\local\\programs\\python\\python310\\lib\\site-packages (from sympy->cirq-core==1.1.0->cirq) (1.3.0)\n",
      "Requirement already satisfied: colorama in c:\\users\\joaquinleon\\appdata\\local\\programs\\python\\python310\\lib\\site-packages (from tqdm->cirq-core==1.1.0->cirq) (0.4.4)\n",
      "Collecting wrapt<2,>=1.10\n",
      "  Downloading wrapt-1.15.0-cp310-cp310-win_amd64.whl (36 kB)\n",
      "Requirement already satisfied: six>=1.9.0 in c:\\users\\joaquinleon\\appdata\\local\\programs\\python\\python310\\lib\\site-packages (from google-auth<3.0dev,>=1.25.0->google-api-core[grpc]<2.0.0dev,>=1.14.0->cirq-google==1.1.0->cirq) (1.16.0)\n",
      "Requirement already satisfied: cachetools<6.0,>=2.0.0 in c:\\users\\joaquinleon\\appdata\\local\\programs\\python\\python310\\lib\\site-packages (from google-auth<3.0dev,>=1.25.0->google-api-core[grpc]<2.0.0dev,>=1.14.0->cirq-google==1.1.0->cirq) (5.3.1)\n",
      "Collecting rsa<5,>=3.1.4\n",
      "  Downloading rsa-4.9-py3-none-any.whl (34 kB)\n",
      "Collecting pyasn1-modules>=0.2.1\n",
      "  Downloading pyasn1_modules-0.3.0-py2.py3-none-any.whl (181 kB)\n",
      "     -------------------------------------- 181.3/181.3 kB 3.7 MB/s eta 0:00:00\n",
      "Collecting grpcio-status<2.0dev,>=1.33.2\n",
      "  Downloading grpcio_status-1.54.0-py3-none-any.whl (5.1 kB)\n",
      "  Downloading grpcio_status-1.53.1-py3-none-any.whl (5.1 kB)\n",
      "  Downloading grpcio_status-1.53.0-py3-none-any.whl (5.1 kB)\n",
      "  Downloading grpcio_status-1.51.3-py3-none-any.whl (5.1 kB)\n",
      "  Downloading grpcio_status-1.51.1-py3-none-any.whl (5.1 kB)\n",
      "  Downloading grpcio_status-1.50.0-py3-none-any.whl (14 kB)\n",
      "  Downloading grpcio_status-1.49.1-py3-none-any.whl (14 kB)\n",
      "  Downloading grpcio_status-1.48.2-py3-none-any.whl (14 kB)\n",
      "Requirement already satisfied: retrying<2.0.0,>=1.3.3 in c:\\users\\joaquinleon\\appdata\\local\\programs\\python\\python310\\lib\\site-packages (from qcs-api-client<0.22.0,>=0.21.0->pyquil>=3.2.0->cirq-rigetti==1.1.0->cirq) (1.3.4)\n",
      "Collecting rfc3339<7.0,>=6.2\n",
      "  Downloading rfc3339-6.2-py3-none-any.whl (5.5 kB)\n",
      "Collecting httpx<0.24.0,>=0.23.0\n",
      "  Downloading httpx-0.23.3-py3-none-any.whl (71 kB)\n",
      "     ---------------------------------------- 71.5/71.5 kB 3.8 MB/s eta 0:00:00\n",
      "Requirement already satisfied: PyJWT<3.0.0,>=2.4.0 in c:\\users\\joaquinleon\\appdata\\local\\programs\\python\\python310\\lib\\site-packages (from qcs-api-client<0.22.0,>=0.21.0->pyquil>=3.2.0->cirq-rigetti==1.1.0->cirq) (2.7.0)\n",
      "Collecting toml<0.11.0,>=0.10.2\n",
      "  Using cached toml-0.10.2-py2.py3-none-any.whl (16 kB)\n",
      "Requirement already satisfied: attrs<22.0.0,>=21.3.0 in c:\\users\\joaquinleon\\appdata\\local\\programs\\python\\python310\\lib\\site-packages (from qcs-api-client<0.22.0,>=0.21.0->pyquil>=3.2.0->cirq-rigetti==1.1.0->cirq) (21.4.0)\n",
      "Requirement already satisfied: pydantic<2.0.0,>=1.7.2 in c:\\users\\joaquinleon\\appdata\\local\\programs\\python\\python310\\lib\\site-packages (from qcs-api-client<0.22.0,>=0.21.0->pyquil>=3.2.0->cirq-rigetti==1.1.0->cirq) (1.10.8)\n",
      "Collecting iso8601<2.0.0,>=1.0.2\n",
      "  Downloading iso8601-1.1.0-py3-none-any.whl (9.9 kB)\n",
      "Collecting msgpack<2.0,>=0.6\n",
      "  Downloading msgpack-1.0.5-cp310-cp310-win_amd64.whl (61 kB)\n",
      "     ---------------------------------------- 61.6/61.6 kB 3.4 MB/s eta 0:00:00\n",
      "Collecting python-rapidjson\n",
      "  Downloading python_rapidjson-1.10-cp310-cp310-win_amd64.whl (146 kB)\n",
      "     -------------------------------------- 146.6/146.6 kB 2.9 MB/s eta 0:00:00\n",
      "Requirement already satisfied: pyzmq>=17 in c:\\users\\joaquinleon\\appdata\\local\\programs\\python\\python310\\lib\\site-packages (from rpcq<4.0.0,>=3.10.0->pyquil>=3.2.0->cirq-rigetti==1.1.0->cirq) (22.3.0)\n",
      "Collecting ruamel.yaml\n",
      "  Downloading ruamel.yaml-0.17.31-py3-none-any.whl (112 kB)\n",
      "     -------------------------------------- 112.1/112.1 kB 3.3 MB/s eta 0:00:00\n",
      "Collecting rfc3986[idna2008]<2,>=1.3\n",
      "  Downloading rfc3986-1.5.0-py2.py3-none-any.whl (31 kB)\n",
      "Requirement already satisfied: sniffio in c:\\users\\joaquinleon\\appdata\\local\\programs\\python\\python310\\lib\\site-packages (from httpx<0.24.0,>=0.23.0->qcs-api-client<0.22.0,>=0.21.0->pyquil>=3.2.0->cirq-rigetti==1.1.0->cirq) (1.3.0)\n",
      "Collecting httpcore<0.17.0,>=0.15.0\n",
      "  Downloading httpcore-0.16.3-py3-none-any.whl (69 kB)\n",
      "     ---------------------------------------- 69.6/69.6 kB 4.0 MB/s eta 0:00:00\n",
      "Collecting pyasn1<0.6.0,>=0.4.6\n",
      "  Downloading pyasn1-0.5.0-py2.py3-none-any.whl (83 kB)\n",
      "     ---------------------------------------- 83.9/83.9 kB 2.4 MB/s eta 0:00:00\n",
      "Collecting ruamel.yaml.clib>=0.2.7\n",
      "  Downloading ruamel.yaml.clib-0.2.7-cp310-cp310-win_amd64.whl (111 kB)\n",
      "     -------------------------------------- 111.7/111.7 kB 3.3 MB/s eta 0:00:00\n",
      "Requirement already satisfied: h11<0.15,>=0.13 in c:\\users\\joaquinleon\\appdata\\local\\programs\\python\\python310\\lib\\site-packages (from httpcore<0.17.0,>=0.15.0->httpx<0.24.0,>=0.23.0->qcs-api-client<0.22.0,>=0.21.0->pyquil>=3.2.0->cirq-rigetti==1.1.0->cirq) (0.14.0)\n",
      "Requirement already satisfied: anyio<5.0,>=3.0 in c:\\users\\joaquinleon\\appdata\\local\\programs\\python\\python310\\lib\\site-packages (from httpcore<0.17.0,>=0.15.0->httpx<0.24.0,>=0.23.0->qcs-api-client<0.22.0,>=0.21.0->pyquil>=3.2.0->cirq-rigetti==1.1.0->cirq) (3.7.0)\n",
      "Requirement already satisfied: exceptiongroup in c:\\users\\joaquinleon\\appdata\\local\\programs\\python\\python310\\lib\\site-packages (from anyio<5.0,>=3.0->httpcore<0.17.0,>=0.15.0->httpx<0.24.0,>=0.23.0->qcs-api-client<0.22.0,>=0.21.0->pyquil>=3.2.0->cirq-rigetti==1.1.0->cirq) (1.1.1)\n",
      "Installing collected packages: types-retry, types-python-dateutil, types-deprecated, sortedcontainers, rfc3986, rfc3339, msgpack, lark, wrapt, toml, tenacity, ruamel.yaml.clib, python-rapidjson, pyasn1, protobuf, networkx, iso8601, grpcio, duet, ruamel.yaml, rsa, pyasn1-modules, proto-plus, httpcore, googleapis-common-protos, deprecated, rpcq, httpx, grpcio-status, google-auth, cirq-core, qcs-api-client, google-api-core, cirq-web, cirq-pasqal, cirq-ionq, cirq-aqt, pyquil, cirq-rigetti, cirq-google, cirq\n",
      "  Running setup.py install for lark: started\n",
      "  Running setup.py install for lark: finished with status 'done'\n",
      "  Attempting uninstall: tenacity\n",
      "    Found existing installation: tenacity 8.2.1\n",
      "    Uninstalling tenacity-8.2.1:\n",
      "      Successfully uninstalled tenacity-8.2.1\n",
      "  Running setup.py install for rpcq: started\n",
      "  Running setup.py install for rpcq: finished with status 'done'\n",
      "Successfully installed cirq-1.1.0 cirq-aqt-1.1.0 cirq-core-1.1.0 cirq-google-1.1.0 cirq-ionq-1.1.0 cirq-pasqal-1.1.0 cirq-rigetti-1.1.0 cirq-web-1.1.0 deprecated-1.2.14 duet-0.2.8 google-api-core-1.34.0 google-auth-2.19.1 googleapis-common-protos-1.59.0 grpcio-1.54.2 grpcio-status-1.48.2 httpcore-0.16.3 httpx-0.23.3 iso8601-1.1.0 lark-0.11.3 msgpack-1.0.5 networkx-2.8.8 proto-plus-1.22.2 protobuf-3.20.3 pyasn1-0.5.0 pyasn1-modules-0.3.0 pyquil-3.5.4 python-rapidjson-1.10 qcs-api-client-0.21.5 rfc3339-6.2 rfc3986-1.5.0 rpcq-3.11.0 rsa-4.9 ruamel.yaml-0.17.31 ruamel.yaml.clib-0.2.7 sortedcontainers-2.4.0 tenacity-8.2.2 toml-0.10.2 types-deprecated-1.2.9.2 types-python-dateutil-2.8.19.13 types-retry-0.9.9.3 wrapt-1.15.0\n"
     ]
    },
    {
     "name": "stderr",
     "output_type": "stream",
     "text": [
      "WARNING: Ignoring invalid distribution -atplotlib (c:\\users\\joaquinleon\\appdata\\local\\programs\\python\\python310\\lib\\site-packages)\n",
      "WARNING: Ignoring invalid distribution -atplotlib (c:\\users\\joaquinleon\\appdata\\local\\programs\\python\\python310\\lib\\site-packages)\n",
      "WARNING: Ignoring invalid distribution -atplotlib (c:\\users\\joaquinleon\\appdata\\local\\programs\\python\\python310\\lib\\site-packages)\n",
      "WARNING: Ignoring invalid distribution -atplotlib (c:\\users\\joaquinleon\\appdata\\local\\programs\\python\\python310\\lib\\site-packages)\n",
      "WARNING: Ignoring invalid distribution -atplotlib (c:\\users\\joaquinleon\\appdata\\local\\programs\\python\\python310\\lib\\site-packages)\n",
      "WARNING: Ignoring invalid distribution -atplotlib (c:\\users\\joaquinleon\\appdata\\local\\programs\\python\\python310\\lib\\site-packages)\n",
      "WARNING: Ignoring invalid distribution -atplotlib (c:\\users\\joaquinleon\\appdata\\local\\programs\\python\\python310\\lib\\site-packages)\n",
      "WARNING: Ignoring invalid distribution -atplotlib (c:\\users\\joaquinleon\\appdata\\local\\programs\\python\\python310\\lib\\site-packages)\n",
      "WARNING: Ignoring invalid distribution -atplotlib (c:\\users\\joaquinleon\\appdata\\local\\programs\\python\\python310\\lib\\site-packages)\n",
      "WARNING: Ignoring invalid distribution -atplotlib (c:\\users\\joaquinleon\\appdata\\local\\programs\\python\\python310\\lib\\site-packages)\n",
      "WARNING: Ignoring invalid distribution -atplotlib (c:\\users\\joaquinleon\\appdata\\local\\programs\\python\\python310\\lib\\site-packages)\n",
      "WARNING: Ignoring invalid distribution -atplotlib (c:\\users\\joaquinleon\\appdata\\local\\programs\\python\\python310\\lib\\site-packages)\n",
      "WARNING: Ignoring invalid distribution -atplotlib (c:\\users\\joaquinleon\\appdata\\local\\programs\\python\\python310\\lib\\site-packages)\n",
      "WARNING: Ignoring invalid distribution -atplotlib (c:\\users\\joaquinleon\\appdata\\local\\programs\\python\\python310\\lib\\site-packages)\n",
      "WARNING: Ignoring invalid distribution -atplotlib (c:\\users\\joaquinleon\\appdata\\local\\programs\\python\\python310\\lib\\site-packages)\n",
      "WARNING: Ignoring invalid distribution -atplotlib (c:\\users\\joaquinleon\\appdata\\local\\programs\\python\\python310\\lib\\site-packages)\n",
      "WARNING: Ignoring invalid distribution -atplotlib (c:\\users\\joaquinleon\\appdata\\local\\programs\\python\\python310\\lib\\site-packages)\n",
      "WARNING: Ignoring invalid distribution -atplotlib (c:\\users\\joaquinleon\\appdata\\local\\programs\\python\\python310\\lib\\site-packages)\n",
      "WARNING: Ignoring invalid distribution -atplotlib (c:\\users\\joaquinleon\\appdata\\local\\programs\\python\\python310\\lib\\site-packages)\n",
      "WARNING: Ignoring invalid distribution -atplotlib (c:\\users\\joaquinleon\\appdata\\local\\programs\\python\\python310\\lib\\site-packages)\n",
      "WARNING: Ignoring invalid distribution -atplotlib (c:\\users\\joaquinleon\\appdata\\local\\programs\\python\\python310\\lib\\site-packages)\n",
      "WARNING: Ignoring invalid distribution -atplotlib (c:\\users\\joaquinleon\\appdata\\local\\programs\\python\\python310\\lib\\site-packages)\n",
      "WARNING: Ignoring invalid distribution -atplotlib (c:\\users\\joaquinleon\\appdata\\local\\programs\\python\\python310\\lib\\site-packages)\n",
      "WARNING: Ignoring invalid distribution -atplotlib (c:\\users\\joaquinleon\\appdata\\local\\programs\\python\\python310\\lib\\site-packages)\n",
      "WARNING: Ignoring invalid distribution -atplotlib (c:\\users\\joaquinleon\\appdata\\local\\programs\\python\\python310\\lib\\site-packages)\n",
      "WARNING: Ignoring invalid distribution -atplotlib (c:\\users\\joaquinleon\\appdata\\local\\programs\\python\\python310\\lib\\site-packages)\n",
      "WARNING: Ignoring invalid distribution -atplotlib (c:\\users\\joaquinleon\\appdata\\local\\programs\\python\\python310\\lib\\site-packages)\n",
      "WARNING: Ignoring invalid distribution -atplotlib (c:\\users\\joaquinleon\\appdata\\local\\programs\\python\\python310\\lib\\site-packages)\n",
      "WARNING: Ignoring invalid distribution -atplotlib (c:\\users\\joaquinleon\\appdata\\local\\programs\\python\\python310\\lib\\site-packages)\n",
      "WARNING: Ignoring invalid distribution -atplotlib (c:\\users\\joaquinleon\\appdata\\local\\programs\\python\\python310\\lib\\site-packages)\n",
      "WARNING: Ignoring invalid distribution -atplotlib (c:\\users\\joaquinleon\\appdata\\local\\programs\\python\\python310\\lib\\site-packages)\n",
      "WARNING: Ignoring invalid distribution -atplotlib (c:\\users\\joaquinleon\\appdata\\local\\programs\\python\\python310\\lib\\site-packages)\n",
      "\n",
      "[notice] A new release of pip available: 22.3 -> 23.1.2\n",
      "[notice] To update, run: python.exe -m pip install --upgrade pip\n"
     ]
    }
   ],
   "source": [
    "!pip install --upgrade pip\n",
    "!pip install cirq"
   ]
  },
  {
   "cell_type": "code",
   "execution_count": 53,
   "id": "83962376",
   "metadata": {},
   "outputs": [
    {
     "name": "stdout",
     "output_type": "stream",
     "text": [
      "Requirement already satisfied: cirq-core[contrib] in c:\\users\\joaquinleon\\appdata\\local\\programs\\python\\python310\\lib\\site-packages (1.1.0)\n",
      "Requirement already satisfied: sympy in c:\\users\\joaquinleon\\appdata\\local\\programs\\python\\python310\\lib\\site-packages (from cirq-core[contrib]) (1.12)\n",
      "Requirement already satisfied: duet~=0.2.7 in c:\\users\\joaquinleon\\appdata\\local\\programs\\python\\python310\\lib\\site-packages (from cirq-core[contrib]) (0.2.8)\n",
      "Requirement already satisfied: tqdm in c:\\users\\joaquinleon\\appdata\\local\\programs\\python\\python310\\lib\\site-packages (from cirq-core[contrib]) (4.64.0)\n",
      "Requirement already satisfied: networkx~=2.4 in c:\\users\\joaquinleon\\appdata\\local\\programs\\python\\python310\\lib\\site-packages (from cirq-core[contrib]) (2.8.8)\n",
      "Requirement already satisfied: matplotlib~=3.0 in c:\\users\\joaquinleon\\appdata\\local\\programs\\python\\python310\\lib\\site-packages (from cirq-core[contrib]) (3.7.1)\n",
      "Requirement already satisfied: scipy in c:\\users\\joaquinleon\\appdata\\local\\programs\\python\\python310\\lib\\site-packages (from cirq-core[contrib]) (1.9.3)\n",
      "Requirement already satisfied: pandas in c:\\users\\joaquinleon\\appdata\\local\\programs\\python\\python310\\lib\\site-packages (from cirq-core[contrib]) (2.0.1)\n",
      "Requirement already satisfied: typing-extensions in c:\\users\\joaquinleon\\appdata\\local\\programs\\python\\python310\\lib\\site-packages (from cirq-core[contrib]) (4.4.0)\n",
      "Requirement already satisfied: numpy<1.24,>=1.16 in c:\\users\\joaquinleon\\appdata\\local\\programs\\python\\python310\\lib\\site-packages (from cirq-core[contrib]) (1.23.5)\n",
      "Requirement already satisfied: sortedcontainers~=2.0 in c:\\users\\joaquinleon\\appdata\\local\\programs\\python\\python310\\lib\\site-packages (from cirq-core[contrib]) (2.4.0)\n",
      "Collecting pylatex~=1.3.0\n",
      "  Downloading PyLaTeX-1.3.4.tar.gz (84 kB)\n",
      "     ---------------------------------------- 84.1/84.1 kB 1.6 MB/s eta 0:00:00\n",
      "  Preparing metadata (setup.py): started\n",
      "  Preparing metadata (setup.py): finished with status 'done'\n",
      "Collecting opt-einsum\n",
      "  Downloading opt_einsum-3.3.0-py3-none-any.whl (65 kB)\n",
      "     ---------------------------------------- 65.5/65.5 kB 1.8 MB/s eta 0:00:00\n",
      "Requirement already satisfied: ply>=3.6 in c:\\users\\joaquinleon\\appdata\\local\\programs\\python\\python310\\lib\\site-packages (from cirq-core[contrib]) (3.11)\n",
      "Collecting quimb\n",
      "  Downloading quimb-1.5.0-py3-none-any.whl (449 kB)\n",
      "     -------------------------------------- 449.2/449.2 kB 2.2 MB/s eta 0:00:00\n",
      "Requirement already satisfied: numba>=0.53.0 in c:\\users\\joaquinleon\\appdata\\local\\programs\\python\\python310\\lib\\site-packages (from cirq-core[contrib]) (0.57.0)\n",
      "Collecting autoray\n",
      "  Downloading autoray-0.6.3-py3-none-any.whl (48 kB)\n",
      "     ---------------------------------------- 48.3/48.3 kB 2.4 MB/s eta 0:00:00\n",
      "Requirement already satisfied: fonttools>=4.22.0 in c:\\users\\joaquinleon\\appdata\\local\\programs\\python\\python310\\lib\\site-packages (from matplotlib~=3.0->cirq-core[contrib]) (4.29.1)\n",
      "Requirement already satisfied: packaging>=20.0 in c:\\users\\joaquinleon\\appdata\\local\\programs\\python\\python310\\lib\\site-packages (from matplotlib~=3.0->cirq-core[contrib]) (21.3)\n",
      "Requirement already satisfied: cycler>=0.10 in c:\\users\\joaquinleon\\appdata\\local\\programs\\python\\python310\\lib\\site-packages (from matplotlib~=3.0->cirq-core[contrib]) (0.11.0)\n",
      "Requirement already satisfied: pillow>=6.2.0 in c:\\users\\joaquinleon\\appdata\\local\\programs\\python\\python310\\lib\\site-packages (from matplotlib~=3.0->cirq-core[contrib]) (9.0.1)\n",
      "Requirement already satisfied: pyparsing>=2.3.1 in c:\\users\\joaquinleon\\appdata\\local\\programs\\python\\python310\\lib\\site-packages (from matplotlib~=3.0->cirq-core[contrib]) (3.0.7)\n",
      "Requirement already satisfied: python-dateutil>=2.7 in c:\\users\\joaquinleon\\appdata\\local\\programs\\python\\python310\\lib\\site-packages (from matplotlib~=3.0->cirq-core[contrib]) (2.8.2)\n",
      "Requirement already satisfied: kiwisolver>=1.0.1 in c:\\users\\joaquinleon\\appdata\\local\\programs\\python\\python310\\lib\\site-packages (from matplotlib~=3.0->cirq-core[contrib]) (1.3.2)\n",
      "Requirement already satisfied: contourpy>=1.0.1 in c:\\users\\joaquinleon\\appdata\\local\\programs\\python\\python310\\lib\\site-packages (from matplotlib~=3.0->cirq-core[contrib]) (1.0.7)\n",
      "Requirement already satisfied: llvmlite<0.41,>=0.40.0dev0 in c:\\users\\joaquinleon\\appdata\\local\\programs\\python\\python310\\lib\\site-packages (from numba>=0.53.0->cirq-core[contrib]) (0.40.0)\n",
      "Collecting ordered-set\n",
      "  Downloading ordered_set-4.1.0-py3-none-any.whl (7.6 kB)\n",
      "Requirement already satisfied: tzdata>=2022.1 in c:\\users\\joaquinleon\\appdata\\local\\programs\\python\\python310\\lib\\site-packages (from pandas->cirq-core[contrib]) (2022.5)\n",
      "Requirement already satisfied: pytz>=2020.1 in c:\\users\\joaquinleon\\appdata\\local\\programs\\python\\python310\\lib\\site-packages (from pandas->cirq-core[contrib]) (2022.7.1)\n",
      "Requirement already satisfied: psutil>=4.3.1 in c:\\users\\joaquinleon\\appdata\\local\\programs\\python\\python310\\lib\\site-packages (from quimb->cirq-core[contrib]) (5.9.5)\n",
      "Collecting cytoolz>=0.8.0\n",
      "  Downloading cytoolz-0.12.1-cp310-cp310-win_amd64.whl (321 kB)\n",
      "     -------------------------------------- 321.4/321.4 kB 2.5 MB/s eta 0:00:00\n",
      "Requirement already satisfied: colorama in c:\\users\\joaquinleon\\appdata\\local\\programs\\python\\python310\\lib\\site-packages (from tqdm->cirq-core[contrib]) (0.4.4)\n",
      "Requirement already satisfied: mpmath>=0.19 in c:\\users\\joaquinleon\\appdata\\local\\programs\\python\\python310\\lib\\site-packages (from sympy->cirq-core[contrib]) (1.3.0)\n",
      "Requirement already satisfied: toolz>=0.8.0 in c:\\users\\joaquinleon\\appdata\\local\\programs\\python\\python310\\lib\\site-packages (from cytoolz>=0.8.0->quimb->cirq-core[contrib]) (0.12.0)\n",
      "Requirement already satisfied: six>=1.5 in c:\\users\\joaquinleon\\appdata\\local\\programs\\python\\python310\\lib\\site-packages (from python-dateutil>=2.7->matplotlib~=3.0->cirq-core[contrib]) (1.16.0)\n",
      "Installing collected packages: ordered-set, opt-einsum, cytoolz, autoray, quimb, pylatex\n",
      "  Running setup.py install for pylatex: started\n",
      "  Running setup.py install for pylatex: finished with status 'done'\n",
      "Successfully installed autoray-0.6.3 cytoolz-0.12.1 opt-einsum-3.3.0 ordered-set-4.1.0 pylatex-1.3.4 quimb-1.5.0\n"
     ]
    },
    {
     "name": "stderr",
     "output_type": "stream",
     "text": [
      "WARNING: Ignoring invalid distribution -atplotlib (c:\\users\\joaquinleon\\appdata\\local\\programs\\python\\python310\\lib\\site-packages)\n",
      "WARNING: Ignoring invalid distribution -atplotlib (c:\\users\\joaquinleon\\appdata\\local\\programs\\python\\python310\\lib\\site-packages)\n",
      "WARNING: Ignoring invalid distribution -atplotlib (c:\\users\\joaquinleon\\appdata\\local\\programs\\python\\python310\\lib\\site-packages)\n",
      "  DEPRECATION: pylatex is being installed using the legacy 'setup.py install' method, because it does not have a 'pyproject.toml' and the 'wheel' package is not installed. pip 23.1 will enforce this behaviour change. A possible replacement is to enable the '--use-pep517' option. Discussion can be found at https://github.com/pypa/pip/issues/8559\n",
      "WARNING: Ignoring invalid distribution -atplotlib (c:\\users\\joaquinleon\\appdata\\local\\programs\\python\\python310\\lib\\site-packages)\n",
      "WARNING: Ignoring invalid distribution -atplotlib (c:\\users\\joaquinleon\\appdata\\local\\programs\\python\\python310\\lib\\site-packages)\n",
      "WARNING: Ignoring invalid distribution -atplotlib (c:\\users\\joaquinleon\\appdata\\local\\programs\\python\\python310\\lib\\site-packages)\n",
      "WARNING: Ignoring invalid distribution -atplotlib (c:\\users\\joaquinleon\\appdata\\local\\programs\\python\\python310\\lib\\site-packages)\n",
      "WARNING: Ignoring invalid distribution -atplotlib (c:\\users\\joaquinleon\\appdata\\local\\programs\\python\\python310\\lib\\site-packages)\n",
      "WARNING: Ignoring invalid distribution -atplotlib (c:\\users\\joaquinleon\\appdata\\local\\programs\\python\\python310\\lib\\site-packages)\n",
      "WARNING: Ignoring invalid distribution -atplotlib (c:\\users\\joaquinleon\\appdata\\local\\programs\\python\\python310\\lib\\site-packages)\n",
      "WARNING: Ignoring invalid distribution -atplotlib (c:\\users\\joaquinleon\\appdata\\local\\programs\\python\\python310\\lib\\site-packages)\n",
      "WARNING: Ignoring invalid distribution -atplotlib (c:\\users\\joaquinleon\\appdata\\local\\programs\\python\\python310\\lib\\site-packages)\n",
      "\n",
      "[notice] A new release of pip available: 22.3 -> 23.1.2\n",
      "[notice] To update, run: python.exe -m pip install --upgrade pip\n"
     ]
    }
   ],
   "source": [
    "!pip install cirq-core[contrib]"
   ]
  },
  {
   "cell_type": "code",
   "execution_count": 56,
   "id": "e9779aa5",
   "metadata": {},
   "outputs": [
    {
     "name": "stdout",
     "output_type": "stream",
     "text": [
      "                                             (0, 5)───(0, 6)\n",
      "                                             │        │\n",
      "                                             │        │\n",
      "                                    (1, 4)───(1, 5)───(1, 6)───(1, 7)\n",
      "                                    │        │        │        │\n",
      "                                    │        │        │        │\n",
      "                           (2, 3)───(2, 4)───(2, 5)───(2, 6)───(2, 7)───(2, 8)\n",
      "                           │        │        │        │        │        │\n",
      "                           │        │        │        │        │        │\n",
      "                  (3, 2)───(3, 3)───(3, 4)───(3, 5)───(3, 6)───(3, 7)───(3, 8)───(3, 9)\n",
      "                  │        │        │        │        │        │        │        │\n",
      "                  │        │        │        │        │        │        │        │\n",
      "         (4, 1)───(4, 2)───(4, 3)───(4, 4)───(4, 5)───(4, 6)───(4, 7)───(4, 8)───(4, 9)\n",
      "         │        │        │        │        │        │        │        │\n",
      "         │        │        │        │        │        │        │        │\n",
      "(5, 0)───(5, 1)───(5, 2)───(5, 3)───(5, 4)───(5, 5)───(5, 6)───(5, 7)───(5, 8)\n",
      "         │        │        │        │        │        │        │\n",
      "         │        │        │        │        │        │        │\n",
      "         (6, 1)───(6, 2)───(6, 3)───(6, 4)───(6, 5)───(6, 6)───(6, 7)\n",
      "                  │        │        │        │        │\n",
      "                  │        │        │        │        │\n",
      "                  (7, 2)───(7, 3)───(7, 4)───(7, 5)───(7, 6)\n",
      "                           │        │        │\n",
      "                           │        │        │\n",
      "                           (8, 3)───(8, 4)───(8, 5)\n",
      "                                    │\n",
      "                                    │\n",
      "                                    (9, 4)\n"
     ]
    }
   ],
   "source": [
    "import cirq_google;\n",
    "print(cirq_google.Sycamore)"
   ]
  },
  {
   "cell_type": "code",
   "execution_count": 57,
   "id": "c3d91c40",
   "metadata": {},
   "outputs": [],
   "source": [
    "try:\n",
    "    import cirq\n",
    "except ImportError:\n",
    "    print(\"installing cirq...\")\n",
    "    !pip install --quiet cirq\n",
    "    print(\"installed cirq.\")\n",
    "    import cirq\n",
    "\n",
    "import cirq_google"
   ]
  },
  {
   "cell_type": "code",
   "execution_count": 58,
   "id": "1e0ae40c",
   "metadata": {},
   "outputs": [
    {
     "name": "stdout",
     "output_type": "stream",
     "text": [
      "0: ───H───\n",
      "\n",
      "1: ───H───\n",
      "\n",
      "2: ───H───\n"
     ]
    }
   ],
   "source": [
    "# CIRQ (Alternativa de google a qiskit)\n",
    "\n",
    "circuit = cirq.Circuit()\n",
    "qubits = cirq.LineQubit.range(3)\n",
    "circuit.append(cirq.H(qubits[0]))\n",
    "circuit.append(cirq.H(qubits[1]))\n",
    "circuit.append(cirq.H(qubits[2]))\n",
    "print(circuit)"
   ]
  },
  {
   "cell_type": "code",
   "execution_count": 59,
   "id": "b12e730b",
   "metadata": {},
   "outputs": [
    {
     "name": "stdout",
     "output_type": "stream",
     "text": [
      "0: ───H───\n",
      "\n",
      "1: ───H───\n",
      "\n",
      "2: ───H───\n"
     ]
    }
   ],
   "source": [
    "circuit = cirq.Circuit()\n",
    "ops = [cirq.H(q) for q in cirq.LineQubit.range(3)]\n",
    "circuit.append(ops)\n",
    "print(circuit)"
   ]
  },
  {
   "cell_type": "code",
   "execution_count": 60,
   "id": "b060d069",
   "metadata": {},
   "outputs": [
    {
     "name": "stdout",
     "output_type": "stream",
     "text": [
      "0: ───H───\n",
      "\n",
      "1: ───H───\n",
      "\n",
      "2: ───H───\n",
      "0: ───H───\n",
      "\n",
      "1: ───H───\n",
      "\n",
      "2: ───H───\n"
     ]
    }
   ],
   "source": [
    "# Append with generator\n",
    "circuit = cirq.Circuit()\n",
    "circuit.append(cirq.H(q) for q in cirq.LineQubit.range(3))\n",
    "print(circuit)\n",
    "# Initializer with generator\n",
    "print(cirq.Circuit(cirq.H(q) for q in cirq.LineQubit.range(3)))"
   ]
  },
  {
   "cell_type": "code",
   "execution_count": 61,
   "id": "d2e8a3c9",
   "metadata": {},
   "outputs": [
    {
     "name": "stdout",
     "output_type": "stream",
     "text": [
      "0: ───H───────────\n",
      "\n",
      "1: ───────H───────\n",
      "\n",
      "2: ───────────H───\n"
     ]
    }
   ],
   "source": [
    "# Creates each gate in a separate moment by passing an iterable of Moments instead of Operations.\n",
    "print(cirq.Circuit(cirq.Moment([cirq.H(q)]) for q in cirq.LineQubit.range(3)))"
   ]
  },
  {
   "cell_type": "code",
   "execution_count": 62,
   "id": "e2a86e53",
   "metadata": {},
   "outputs": [
    {
     "name": "stdout",
     "output_type": "stream",
     "text": [
      "Qubit pair is not valid on device: (cirq.GridQubit(5, 6), cirq.GridQubit(4, 5)).\n"
     ]
    }
   ],
   "source": [
    "# Create some qubits.\n",
    "q0 = cirq.GridQubit(5, 6)\n",
    "q1 = cirq.GridQubit(5, 5)\n",
    "q2 = cirq.GridQubit(4, 5)\n",
    "\n",
    "# Create operations using the Sycamore gate, which is supported by the Sycamore device.\n",
    "# However, create operations for both adjacent and non-adjacent qubit pairs.\n",
    "adjacent_op = cirq_google.SYC(q0, q1)\n",
    "nonadjacent_op = cirq_google.SYC(q0, q2)\n",
    "\n",
    "# A working circuit for the Sycamore device raises no issues.\n",
    "working_circuit = cirq.Circuit()\n",
    "working_circuit.append(adjacent_op)\n",
    "valid = cirq_google.Sycamore.validate_circuit(working_circuit)\n",
    "\n",
    "# A circuit using invalid operations.\n",
    "bad_circuit = cirq.Circuit()\n",
    "bad_circuit.append(nonadjacent_op)\n",
    "try:\n",
    "    cirq_google.Sycamore.validate_circuit(bad_circuit)\n",
    "except ValueError as e:\n",
    "    print(e)"
   ]
  },
  {
   "cell_type": "code",
   "execution_count": 63,
   "id": "6a921523",
   "metadata": {},
   "outputs": [
    {
     "name": "stdout",
     "output_type": "stream",
     "text": [
      "Simulate the circuit:\n",
      "measurements: (no measurements)\n",
      "\n",
      "qubits: (cirq.LineQubit(0), cirq.LineQubit(1))\n",
      "output vector: 0.707|00⟩ + 0.707|11⟩\n",
      "\n",
      "phase:\n",
      "output vector: |⟩\n"
     ]
    }
   ],
   "source": [
    "# Create a circuit to generate a Bell State:\n",
    "# 1/sqrt(2) * ( |00⟩ + |11⟩ )\n",
    "bell_circuit = cirq.Circuit()\n",
    "q0, q1 = cirq.LineQubit.range(2)\n",
    "bell_circuit.append(cirq.H(q0))\n",
    "bell_circuit.append(cirq.CNOT(q0, q1))\n",
    "\n",
    "# Initialize Simulator\n",
    "s = cirq.Simulator()\n",
    "\n",
    "print('Simulate the circuit:')\n",
    "results = s.simulate(bell_circuit)\n",
    "print(results)\n",
    "\n",
    "# For sampling, we need to add a measurement at the end\n",
    "bell_circuit.append(cirq.measure(q0, q1, key='result'))\n",
    "\n",
    "# Sample the circuit\n",
    "samples = s.run(bell_circuit, repetitions=1000)"
   ]
  },
  {
   "attachments": {},
   "cell_type": "markdown",
   "id": "2548ad7e",
   "metadata": {},
   "source": [
    "# Parte 4"
   ]
  },
  {
   "attachments": {},
   "cell_type": "markdown",
   "id": "8363b349",
   "metadata": {},
   "source": [
    "Certificaciones SQL:\n",
    "\n",
    "Certificacion PostgreSQL:\n",
    "- \"PostgreSQL Database Developer\" ofrecida por www.koenig-solutions.com.\n",
    "Enlace: https://www.koenig-solutions.com/postgresql-database-developer-training-course\n",
    "\n",
    "Certificacion NoSQL:\n",
    "- \"MongoDB Certified Developer\" y \"MongoDB Certified DBA\" ofrecidas por MongoDB.\n",
    "Enlace: https://learn.mongodb.com/pages/certification-program\n",
    "\n",
    "Certificacion en Big Data:\n",
    "- \"IBM Certified Data Engineer - Big Data\" ofrecida por IBM. \n",
    "Enlace: https://www.ibm.com/training/certification/50001501"
   ]
  }
 ],
 "metadata": {
  "kernelspec": {
   "display_name": "Python 3 (ipykernel)",
   "language": "python",
   "name": "python3"
  },
  "language_info": {
   "codemirror_mode": {
    "name": "ipython",
    "version": 3
   },
   "file_extension": ".py",
   "mimetype": "text/x-python",
   "name": "python",
   "nbconvert_exporter": "python",
   "pygments_lexer": "ipython3",
   "version": "3.10.2"
  }
 },
 "nbformat": 4,
 "nbformat_minor": 5
}
