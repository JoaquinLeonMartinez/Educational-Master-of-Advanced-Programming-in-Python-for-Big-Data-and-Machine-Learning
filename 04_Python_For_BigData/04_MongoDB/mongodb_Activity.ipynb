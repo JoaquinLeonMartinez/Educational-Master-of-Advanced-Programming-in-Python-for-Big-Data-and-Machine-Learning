{
 "cells": [
  {
   "cell_type": "code",
   "execution_count": 1,
   "id": "4a1c6976",
   "metadata": {},
   "outputs": [
    {
     "name": "stdout",
     "output_type": "stream",
     "text": [
      "Collecting pymongo\n",
      "  Downloading pymongo-4.3.3-cp39-cp39-manylinux_2_17_x86_64.manylinux2014_x86_64.whl (492 kB)\n",
      "\u001b[K     |████████████████████████████████| 492 kB 699 kB/s eta 0:00:01\n",
      "\u001b[?25hCollecting dnspython<3.0.0,>=1.16.0\n",
      "  Downloading dnspython-2.3.0-py3-none-any.whl (283 kB)\n",
      "\u001b[K     |████████████████████████████████| 283 kB 725 kB/s eta 0:00:01\n",
      "\u001b[?25hInstalling collected packages: dnspython, pymongo\n",
      "Successfully installed dnspython-2.3.0 pymongo-4.3.3\n"
     ]
    }
   ],
   "source": [
    "# Actividad 05\n",
    "# Ya tenemos la DB creada con la coleccion notas\n",
    "\n",
    "!pip install pymongo\n",
    "\n",
    "import pymongo"
   ]
  },
  {
   "cell_type": "code",
   "execution_count": 3,
   "id": "44353039",
   "metadata": {},
   "outputs": [],
   "source": [
    "client = pymongo.MongoClient(\"mongodb://host.docker.internal:27017/\")"
   ]
  },
  {
   "cell_type": "code",
   "execution_count": 10,
   "id": "e04ff5ee",
   "metadata": {},
   "outputs": [
    {
     "data": {
      "text/plain": [
       "<pymongo.results.InsertManyResult at 0x7f848407b970>"
      ]
     },
     "execution_count": 10,
     "metadata": {},
     "output_type": "execute_result"
    }
   ],
   "source": [
    "db = client.actividad\n",
    "\n",
    "# Inserto los datos\n",
    "from datetime import datetime\n",
    "\n",
    "collection = db[\"notas\"]\n",
    "\n",
    "# 1 - Datos a insertar\n",
    "datos = [\n",
    "    {\n",
    "        \"nombre\": \"Pedro López\",\n",
    "        \"edad\": 25,\n",
    "        \"email\": \"pedro@eip.com\",\n",
    "        \"nota\": 5.2,\n",
    "        \"fecha\": datetime.now().strftime(\"%d-%m-%Y %H:%M:%S\")\n",
    "    },\n",
    "    {\n",
    "        \"nombre\": \"Julia García\",\n",
    "        \"edad\": 22,\n",
    "        \"email\": \"julia@eip.com\",\n",
    "        \"nota\": 7.3,\n",
    "        \"fecha\": datetime.now().strftime(\"%d-%m-%Y %H:%M:%S\")\n",
    "    },\n",
    "    {\n",
    "        \"nombre\": \"Amparo Mayoral\",\n",
    "        \"edad\": 28,\n",
    "        \"email\": \"amparo@eip.com\",\n",
    "        \"nota\": 8.4,\n",
    "        \"fecha\": datetime.now().strftime(\"%d-%m-%Y %H:%M:%S\")\n",
    "    },\n",
    "    {\n",
    "        \"nombre\": \"Juan Martínez\",\n",
    "        \"edad\": 30,\n",
    "        \"email\": \"juan@eip.com\",\n",
    "        \"nota\": 6.8,\n",
    "        \"fecha\": datetime.now().strftime(\"%d-%m-%Y %H:%M:%S\")\n",
    "    }\n",
    "]\n",
    "\n",
    "# Insertar los datos en la colección\n",
    "collection.insert_many(datos)"
   ]
  },
  {
   "cell_type": "code",
   "execution_count": 11,
   "id": "311d4ba1",
   "metadata": {},
   "outputs": [
    {
     "name": "stdout",
     "output_type": "stream",
     "text": [
      "{'_id': ObjectId('64799a65502770b7e22075ea'), 'nombre': 'Pedro López', 'edad': 25, 'email': 'pedro@eip.com', 'nota': 5.2, 'fecha': '02-06-2023 07:29:41'}\n",
      "{'_id': ObjectId('64799a65502770b7e22075eb'), 'nombre': 'Julia García', 'edad': 22, 'email': 'julia@eip.com', 'nota': 7.3, 'fecha': '02-06-2023 07:29:41'}\n",
      "{'_id': ObjectId('64799a65502770b7e22075ec'), 'nombre': 'Amparo Mayoral', 'edad': 28, 'email': 'amparo@eip.com', 'nota': 8.4, 'fecha': '02-06-2023 07:29:41'}\n",
      "{'_id': ObjectId('64799a65502770b7e22075ed'), 'nombre': 'Juan Martínez', 'edad': 30, 'email': 'juan@eip.com', 'nota': 6.8, 'fecha': '02-06-2023 07:29:41'}\n"
     ]
    }
   ],
   "source": [
    "# Mostramos los datos para comprobar que todo es correcto\n",
    "resultado = db.notas.find({})\n",
    "for docum in resultado:\n",
    "    print(docum)"
   ]
  },
  {
   "cell_type": "code",
   "execution_count": 12,
   "id": "a01f76aa",
   "metadata": {},
   "outputs": [
    {
     "name": "stdout",
     "output_type": "stream",
     "text": [
      "{'_id': ObjectId('64799a65502770b7e22075ea'), 'nombre': 'Pedro López', 'edad': 25, 'email': 'pedro@eip.com', 'nota': 5.2, 'fecha': '02-06-2023 07:29:41'}\n",
      "{'_id': ObjectId('64799a65502770b7e22075eb'), 'nombre': 'Julia García', 'edad': 22, 'email': 'julia@eip.com', 'nota': 7.3, 'fecha': '02-06-2023 07:29:41'}\n",
      "{'_id': ObjectId('64799a65502770b7e22075ec'), 'nombre': 'Amparo Mayoral', 'edad': 28, 'email': 'amparo@eip.com', 'nota': 9.3, 'fecha': '02-06-2023 07:29:41'}\n",
      "{'_id': ObjectId('64799a65502770b7e22075ed'), 'nombre': 'Juan Martínez', 'edad': 30, 'email': 'juan@eip.com', 'nota': 7.2, 'fecha': '02-06-2023 07:29:41'}\n"
     ]
    }
   ],
   "source": [
    "# 2 - Actualizar valores\n",
    "\n",
    "actualizaciones = [\n",
    "    {\n",
    "        \"nombre\": \"Amparo Mayoral\",\n",
    "        \"nota\": 9.3\n",
    "    },\n",
    "    {\n",
    "        \"nombre\": \"Juan Martínez\",\n",
    "        \"nota\": 7.2\n",
    "    }\n",
    "]\n",
    "\n",
    "for actualizacion in actualizaciones:\n",
    "    filtro = {\"nombre\": actualizacion[\"nombre\"]}\n",
    "    nuevo_valor = {\"$set\": {\"nota\": actualizacion[\"nota\"]}}\n",
    "    collection.update_one(filtro, nuevo_valor)\n",
    "\n",
    "# 3 - Mostramos datos\n",
    "resultado = db.notas.find({})\n",
    "for docum in resultado:\n",
    "    print(docum)"
   ]
  },
  {
   "cell_type": "code",
   "execution_count": 13,
   "id": "edeb0c40",
   "metadata": {},
   "outputs": [
    {
     "name": "stdout",
     "output_type": "stream",
     "text": [
      "{'_id': ObjectId('64799a65502770b7e22075eb'), 'nombre': 'Julia García', 'edad': 22, 'email': 'julia@eip.com', 'nota': 7.3, 'fecha': '02-06-2023 07:29:41'}\n",
      "{'_id': ObjectId('64799a65502770b7e22075ed'), 'nombre': 'Juan Martínez', 'edad': 30, 'email': 'juan@eip.com', 'nota': 7.2, 'fecha': '02-06-2023 07:29:41'}\n"
     ]
    }
   ],
   "source": [
    "# 4 Busqueda con filtro\n",
    "nota_min = 7\n",
    "nota_max = 7.5\n",
    "\n",
    "query = {\"nota\": {\"$gte\": nota_min, \"$lte\": nota_max}}\n",
    "resultados = collection.find(query)\n",
    "\n",
    "# Mostramos datos\n",
    "for resultado in resultados:\n",
    "    print(resultado)"
   ]
  },
  {
   "cell_type": "code",
   "execution_count": 14,
   "id": "c2241b78",
   "metadata": {},
   "outputs": [],
   "source": [
    "# 5 - Eliminar alumno\n",
    "filtro = {\"nombre\": \"Pedro López\"}\n",
    "\n",
    "\n",
    "result = collection.delete_many(filtro)"
   ]
  },
  {
   "cell_type": "code",
   "execution_count": 18,
   "id": "eddc5081",
   "metadata": {},
   "outputs": [
    {
     "name": "stdout",
     "output_type": "stream",
     "text": [
      "{'_id': ObjectId('64799a65502770b7e22075eb'), 'nombre': 'Julia García', 'edad': 22, 'email': 'julia@eip.com', 'nota': 7.3, 'fecha': '02-06-2023 07:29:41'}\n",
      "{'_id': ObjectId('64799a65502770b7e22075ec'), 'nombre': 'Amparo Mayoral', 'edad': 28, 'email': 'amparo@eip.com', 'nota': 9.3, 'fecha': '02-06-2023 07:29:41'}\n",
      "{'_id': ObjectId('64799a65502770b7e22075ed'), 'nombre': 'Juan Martínez', 'edad': 30, 'email': 'juan@eip.com', 'nota': 7.2, 'fecha': '02-06-2023 07:29:41'}\n"
     ]
    }
   ],
   "source": [
    "# Mostramos datos\n",
    "resultado = db.notas.find({})\n",
    "for docum in resultado:\n",
    "    print(docum)"
   ]
  },
  {
   "cell_type": "code",
   "execution_count": null,
   "id": "e509df8a",
   "metadata": {},
   "outputs": [],
   "source": [
    "# Importante cerrar la conexion, esto lo olvide en la practica anterior\n",
    "client.close()"
   ]
  }
 ],
 "metadata": {
  "kernelspec": {
   "display_name": "Python 3",
   "language": "python",
   "name": "python3"
  },
  "language_info": {
   "codemirror_mode": {
    "name": "ipython",
    "version": 3
   },
   "file_extension": ".py",
   "mimetype": "text/x-python",
   "name": "python",
   "nbconvert_exporter": "python",
   "pygments_lexer": "ipython3",
   "version": "3.9.2"
  }
 },
 "nbformat": 4,
 "nbformat_minor": 5
}
