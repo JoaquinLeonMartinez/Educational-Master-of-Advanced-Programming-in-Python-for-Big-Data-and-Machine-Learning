{
 "cells": [
  {
   "cell_type": "code",
   "execution_count": 2,
   "id": "a4f86c3e",
   "metadata": {},
   "outputs": [
    {
     "name": "stdout",
     "output_type": "stream",
     "text": [
      "Clase 9\n"
     ]
    }
   ],
   "source": [
    "# Clase 9: Jupyter\n",
    "\n",
    "print(\"Clase 9\")"
   ]
  },
  {
   "cell_type": "markdown",
   "id": "51aa599a",
   "metadata": {},
   "source": [
    "hello este es mi informe "
   ]
  },
  {
   "cell_type": "code",
   "execution_count": null,
   "id": "cdc70807",
   "metadata": {},
   "outputs": [],
   "source": [
    "print(\"Deberias buscar info en la docu de markdown :)\")"
   ]
  },
  {
   "cell_type": "code",
   "execution_count": null,
   "id": "3c50628c",
   "metadata": {},
   "outputs": [],
   "source": [
    "# Mirar ejemplos en los otros ficheros"
   ]
  }
 ],
 "metadata": {
  "kernelspec": {
   "display_name": "Python 3 (ipykernel)",
   "language": "python",
   "name": "python3"
  },
  "language_info": {
   "codemirror_mode": {
    "name": "ipython",
    "version": 3
   },
   "file_extension": ".py",
   "mimetype": "text/x-python",
   "name": "python",
   "nbconvert_exporter": "python",
   "pygments_lexer": "ipython3",
   "version": "3.10.2"
  }
 },
 "nbformat": 4,
 "nbformat_minor": 5
}
