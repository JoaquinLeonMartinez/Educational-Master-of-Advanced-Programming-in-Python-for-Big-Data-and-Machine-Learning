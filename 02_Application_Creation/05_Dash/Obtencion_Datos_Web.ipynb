{
 "cells": [
  {
   "cell_type": "markdown",
   "id": "06a51186",
   "metadata": {},
   "source": [
    "# 1 - Intro de la clase que no voy a copiar"
   ]
  },
  {
   "cell_type": "markdown",
   "id": "8d197a50",
   "metadata": {},
   "source": [
    "# 2 - Obtencion de datos mediante \"qandl\""
   ]
  },
  {
   "cell_type": "code",
   "execution_count": 19,
   "id": "12a57786",
   "metadata": {},
   "outputs": [],
   "source": [
    "# Documentacion qandl: https://data.nasdaq.com/tools/python\n",
    "import quandl"
   ]
  },
  {
   "cell_type": "code",
   "execution_count": 3,
   "id": "ff52adf0",
   "metadata": {},
   "outputs": [],
   "source": [
    "# Vamos a extraer las cotizaciones de google de los años 2015 a 2018\n",
    "# Formato AÑO-MES-DIA"
   ]
  },
  {
   "cell_type": "code",
   "execution_count": 20,
   "id": "15eb1596",
   "metadata": {},
   "outputs": [],
   "source": [
    "data = quandl.get(\"WIKI/GOOGL\", start_date=\"2015-1-1\", end_date=\"2018-12-31\")"
   ]
  },
  {
   "cell_type": "code",
   "execution_count": 21,
   "id": "50f0c8ff",
   "metadata": {},
   "outputs": [
    {
     "data": {
      "text/html": [
       "<div>\n",
       "<style scoped>\n",
       "    .dataframe tbody tr th:only-of-type {\n",
       "        vertical-align: middle;\n",
       "    }\n",
       "\n",
       "    .dataframe tbody tr th {\n",
       "        vertical-align: top;\n",
       "    }\n",
       "\n",
       "    .dataframe thead th {\n",
       "        text-align: right;\n",
       "    }\n",
       "</style>\n",
       "<table border=\"1\" class=\"dataframe\">\n",
       "  <thead>\n",
       "    <tr style=\"text-align: right;\">\n",
       "      <th></th>\n",
       "      <th>Open</th>\n",
       "      <th>High</th>\n",
       "      <th>Low</th>\n",
       "      <th>Close</th>\n",
       "      <th>Volume</th>\n",
       "      <th>Ex-Dividend</th>\n",
       "      <th>Split Ratio</th>\n",
       "      <th>Adj. Open</th>\n",
       "      <th>Adj. High</th>\n",
       "      <th>Adj. Low</th>\n",
       "      <th>Adj. Close</th>\n",
       "      <th>Adj. Volume</th>\n",
       "    </tr>\n",
       "    <tr>\n",
       "      <th>Date</th>\n",
       "      <th></th>\n",
       "      <th></th>\n",
       "      <th></th>\n",
       "      <th></th>\n",
       "      <th></th>\n",
       "      <th></th>\n",
       "      <th></th>\n",
       "      <th></th>\n",
       "      <th></th>\n",
       "      <th></th>\n",
       "      <th></th>\n",
       "      <th></th>\n",
       "    </tr>\n",
       "  </thead>\n",
       "  <tbody>\n",
       "    <tr>\n",
       "      <th>2015-01-02</th>\n",
       "      <td>532.60</td>\n",
       "      <td>535.8000</td>\n",
       "      <td>527.88</td>\n",
       "      <td>529.55</td>\n",
       "      <td>1327870.0</td>\n",
       "      <td>0.0</td>\n",
       "      <td>1.0</td>\n",
       "      <td>532.60</td>\n",
       "      <td>535.8000</td>\n",
       "      <td>527.88</td>\n",
       "      <td>529.55</td>\n",
       "      <td>1327870.0</td>\n",
       "    </tr>\n",
       "    <tr>\n",
       "      <th>2015-01-05</th>\n",
       "      <td>527.15</td>\n",
       "      <td>527.9899</td>\n",
       "      <td>517.75</td>\n",
       "      <td>519.46</td>\n",
       "      <td>2059119.0</td>\n",
       "      <td>0.0</td>\n",
       "      <td>1.0</td>\n",
       "      <td>527.15</td>\n",
       "      <td>527.9899</td>\n",
       "      <td>517.75</td>\n",
       "      <td>519.46</td>\n",
       "      <td>2059119.0</td>\n",
       "    </tr>\n",
       "    <tr>\n",
       "      <th>2015-01-06</th>\n",
       "      <td>520.50</td>\n",
       "      <td>521.2100</td>\n",
       "      <td>505.55</td>\n",
       "      <td>506.64</td>\n",
       "      <td>2731813.0</td>\n",
       "      <td>0.0</td>\n",
       "      <td>1.0</td>\n",
       "      <td>520.50</td>\n",
       "      <td>521.2100</td>\n",
       "      <td>505.55</td>\n",
       "      <td>506.64</td>\n",
       "      <td>2731813.0</td>\n",
       "    </tr>\n",
       "    <tr>\n",
       "      <th>2015-01-07</th>\n",
       "      <td>510.95</td>\n",
       "      <td>511.4900</td>\n",
       "      <td>503.65</td>\n",
       "      <td>505.15</td>\n",
       "      <td>2345875.0</td>\n",
       "      <td>0.0</td>\n",
       "      <td>1.0</td>\n",
       "      <td>510.95</td>\n",
       "      <td>511.4900</td>\n",
       "      <td>503.65</td>\n",
       "      <td>505.15</td>\n",
       "      <td>2345875.0</td>\n",
       "    </tr>\n",
       "    <tr>\n",
       "      <th>2015-01-08</th>\n",
       "      <td>501.51</td>\n",
       "      <td>507.5000</td>\n",
       "      <td>495.02</td>\n",
       "      <td>506.91</td>\n",
       "      <td>3662224.0</td>\n",
       "      <td>0.0</td>\n",
       "      <td>1.0</td>\n",
       "      <td>501.51</td>\n",
       "      <td>507.5000</td>\n",
       "      <td>495.02</td>\n",
       "      <td>506.91</td>\n",
       "      <td>3662224.0</td>\n",
       "    </tr>\n",
       "  </tbody>\n",
       "</table>\n",
       "</div>"
      ],
      "text/plain": [
       "              Open      High     Low   Close     Volume  Ex-Dividend  \\\n",
       "Date                                                                   \n",
       "2015-01-02  532.60  535.8000  527.88  529.55  1327870.0          0.0   \n",
       "2015-01-05  527.15  527.9899  517.75  519.46  2059119.0          0.0   \n",
       "2015-01-06  520.50  521.2100  505.55  506.64  2731813.0          0.0   \n",
       "2015-01-07  510.95  511.4900  503.65  505.15  2345875.0          0.0   \n",
       "2015-01-08  501.51  507.5000  495.02  506.91  3662224.0          0.0   \n",
       "\n",
       "            Split Ratio  Adj. Open  Adj. High  Adj. Low  Adj. Close  \\\n",
       "Date                                                                  \n",
       "2015-01-02          1.0     532.60   535.8000    527.88      529.55   \n",
       "2015-01-05          1.0     527.15   527.9899    517.75      519.46   \n",
       "2015-01-06          1.0     520.50   521.2100    505.55      506.64   \n",
       "2015-01-07          1.0     510.95   511.4900    503.65      505.15   \n",
       "2015-01-08          1.0     501.51   507.5000    495.02      506.91   \n",
       "\n",
       "            Adj. Volume  \n",
       "Date                     \n",
       "2015-01-02    1327870.0  \n",
       "2015-01-05    2059119.0  \n",
       "2015-01-06    2731813.0  \n",
       "2015-01-07    2345875.0  \n",
       "2015-01-08    3662224.0  "
      ]
     },
     "execution_count": 21,
     "metadata": {},
     "output_type": "execute_result"
    }
   ],
   "source": [
    "data.head()"
   ]
  },
  {
   "cell_type": "code",
   "execution_count": 22,
   "id": "72971d68",
   "metadata": {},
   "outputs": [
    {
     "data": {
      "text/html": [
       "<div>\n",
       "<style scoped>\n",
       "    .dataframe tbody tr th:only-of-type {\n",
       "        vertical-align: middle;\n",
       "    }\n",
       "\n",
       "    .dataframe tbody tr th {\n",
       "        vertical-align: top;\n",
       "    }\n",
       "\n",
       "    .dataframe thead th {\n",
       "        text-align: right;\n",
       "    }\n",
       "</style>\n",
       "<table border=\"1\" class=\"dataframe\">\n",
       "  <thead>\n",
       "    <tr style=\"text-align: right;\">\n",
       "      <th></th>\n",
       "      <th>Open</th>\n",
       "      <th>High</th>\n",
       "      <th>Low</th>\n",
       "      <th>Close</th>\n",
       "      <th>Volume</th>\n",
       "      <th>Ex-Dividend</th>\n",
       "      <th>Split Ratio</th>\n",
       "      <th>Adj. Open</th>\n",
       "      <th>Adj. High</th>\n",
       "      <th>Adj. Low</th>\n",
       "      <th>Adj. Close</th>\n",
       "      <th>Adj. Volume</th>\n",
       "    </tr>\n",
       "    <tr>\n",
       "      <th>Date</th>\n",
       "      <th></th>\n",
       "      <th></th>\n",
       "      <th></th>\n",
       "      <th></th>\n",
       "      <th></th>\n",
       "      <th></th>\n",
       "      <th></th>\n",
       "      <th></th>\n",
       "      <th></th>\n",
       "      <th></th>\n",
       "      <th></th>\n",
       "      <th></th>\n",
       "    </tr>\n",
       "  </thead>\n",
       "  <tbody>\n",
       "    <tr>\n",
       "      <th>2018-03-21</th>\n",
       "      <td>1092.57</td>\n",
       "      <td>1108.70</td>\n",
       "      <td>1087.21</td>\n",
       "      <td>1094.00</td>\n",
       "      <td>1990515.0</td>\n",
       "      <td>0.0</td>\n",
       "      <td>1.0</td>\n",
       "      <td>1092.57</td>\n",
       "      <td>1108.70</td>\n",
       "      <td>1087.21</td>\n",
       "      <td>1094.00</td>\n",
       "      <td>1990515.0</td>\n",
       "    </tr>\n",
       "    <tr>\n",
       "      <th>2018-03-22</th>\n",
       "      <td>1080.01</td>\n",
       "      <td>1083.92</td>\n",
       "      <td>1049.64</td>\n",
       "      <td>1053.15</td>\n",
       "      <td>3418154.0</td>\n",
       "      <td>0.0</td>\n",
       "      <td>1.0</td>\n",
       "      <td>1080.01</td>\n",
       "      <td>1083.92</td>\n",
       "      <td>1049.64</td>\n",
       "      <td>1053.15</td>\n",
       "      <td>3418154.0</td>\n",
       "    </tr>\n",
       "    <tr>\n",
       "      <th>2018-03-23</th>\n",
       "      <td>1051.37</td>\n",
       "      <td>1066.78</td>\n",
       "      <td>1024.87</td>\n",
       "      <td>1026.55</td>\n",
       "      <td>2413517.0</td>\n",
       "      <td>0.0</td>\n",
       "      <td>1.0</td>\n",
       "      <td>1051.37</td>\n",
       "      <td>1066.78</td>\n",
       "      <td>1024.87</td>\n",
       "      <td>1026.55</td>\n",
       "      <td>2413517.0</td>\n",
       "    </tr>\n",
       "    <tr>\n",
       "      <th>2018-03-26</th>\n",
       "      <td>1050.60</td>\n",
       "      <td>1059.27</td>\n",
       "      <td>1010.58</td>\n",
       "      <td>1054.09</td>\n",
       "      <td>3272409.0</td>\n",
       "      <td>0.0</td>\n",
       "      <td>1.0</td>\n",
       "      <td>1050.60</td>\n",
       "      <td>1059.27</td>\n",
       "      <td>1010.58</td>\n",
       "      <td>1054.09</td>\n",
       "      <td>3272409.0</td>\n",
       "    </tr>\n",
       "    <tr>\n",
       "      <th>2018-03-27</th>\n",
       "      <td>1063.90</td>\n",
       "      <td>1064.54</td>\n",
       "      <td>997.62</td>\n",
       "      <td>1006.94</td>\n",
       "      <td>2940957.0</td>\n",
       "      <td>0.0</td>\n",
       "      <td>1.0</td>\n",
       "      <td>1063.90</td>\n",
       "      <td>1064.54</td>\n",
       "      <td>997.62</td>\n",
       "      <td>1006.94</td>\n",
       "      <td>2940957.0</td>\n",
       "    </tr>\n",
       "  </tbody>\n",
       "</table>\n",
       "</div>"
      ],
      "text/plain": [
       "               Open     High      Low    Close     Volume  Ex-Dividend  \\\n",
       "Date                                                                     \n",
       "2018-03-21  1092.57  1108.70  1087.21  1094.00  1990515.0          0.0   \n",
       "2018-03-22  1080.01  1083.92  1049.64  1053.15  3418154.0          0.0   \n",
       "2018-03-23  1051.37  1066.78  1024.87  1026.55  2413517.0          0.0   \n",
       "2018-03-26  1050.60  1059.27  1010.58  1054.09  3272409.0          0.0   \n",
       "2018-03-27  1063.90  1064.54   997.62  1006.94  2940957.0          0.0   \n",
       "\n",
       "            Split Ratio  Adj. Open  Adj. High  Adj. Low  Adj. Close  \\\n",
       "Date                                                                  \n",
       "2018-03-21          1.0    1092.57    1108.70   1087.21     1094.00   \n",
       "2018-03-22          1.0    1080.01    1083.92   1049.64     1053.15   \n",
       "2018-03-23          1.0    1051.37    1066.78   1024.87     1026.55   \n",
       "2018-03-26          1.0    1050.60    1059.27   1010.58     1054.09   \n",
       "2018-03-27          1.0    1063.90    1064.54    997.62     1006.94   \n",
       "\n",
       "            Adj. Volume  \n",
       "Date                     \n",
       "2018-03-21    1990515.0  \n",
       "2018-03-22    3418154.0  \n",
       "2018-03-23    2413517.0  \n",
       "2018-03-26    3272409.0  \n",
       "2018-03-27    2940957.0  "
      ]
     },
     "execution_count": 22,
     "metadata": {},
     "output_type": "execute_result"
    }
   ],
   "source": [
    "data.tail()"
   ]
  },
  {
   "cell_type": "code",
   "execution_count": 23,
   "id": "3d6de08c",
   "metadata": {},
   "outputs": [
    {
     "name": "stdout",
     "output_type": "stream",
     "text": [
      "              Close\n",
      "Date               \n",
      "2015-01-02   529.55\n",
      "2015-01-05   519.46\n",
      "2015-01-06   506.64\n",
      "2015-01-07   505.15\n",
      "2015-01-08   506.91\n",
      "...             ...\n",
      "2018-03-21  1094.00\n",
      "2018-03-22  1053.15\n",
      "2018-03-23  1026.55\n",
      "2018-03-26  1054.09\n",
      "2018-03-27  1006.94\n",
      "\n",
      "[813 rows x 1 columns]\n"
     ]
    }
   ],
   "source": [
    "data = data[[\"Close\"]]\n",
    "print(data)"
   ]
  },
  {
   "cell_type": "code",
   "execution_count": 24,
   "id": "c5faee57",
   "metadata": {},
   "outputs": [
    {
     "name": "stdout",
     "output_type": "stream",
     "text": [
      "              Close\n",
      "Date               \n",
      "2015-01-02   529.55\n",
      "2015-01-05   519.46\n",
      "2015-01-06   506.64\n",
      "2015-01-07   505.15\n",
      "2015-01-08   506.91\n",
      "...             ...\n",
      "2018-03-21  1094.00\n",
      "2018-03-22  1053.15\n",
      "2018-03-23  1026.55\n",
      "2018-03-26  1054.09\n",
      "2018-03-27  1006.94\n",
      "\n",
      "[813 rows x 1 columns]\n"
     ]
    }
   ],
   "source": [
    "df = quandl.get(\"WIKI/GOOGL.4\", start_date=\"2015-1-1\", end_date=\"2018-12-31\")\n",
    "print(df) # En este ejmplo hemos pillado solo la columna 4"
   ]
  },
  {
   "cell_type": "code",
   "execution_count": 12,
   "id": "64739404",
   "metadata": {},
   "outputs": [
    {
     "data": {
      "text/plain": [
       "pandas.core.frame.DataFrame"
      ]
     },
     "execution_count": 12,
     "metadata": {},
     "output_type": "execute_result"
    }
   ],
   "source": [
    "type(df)"
   ]
  },
  {
   "cell_type": "code",
   "execution_count": 25,
   "id": "45662dc2",
   "metadata": {},
   "outputs": [
    {
     "data": {
      "text/plain": [
       "<AxesSubplot:xlabel='Date'>"
      ]
     },
     "execution_count": 25,
     "metadata": {},
     "output_type": "execute_result"
    },
    {
     "data": {
      "image/png": "[encoded data removed]",
      "text/plain": [
       "<Figure size 432x288 with 1 Axes>"
      ]
     },
     "metadata": {
      "needs_background": "light"
     },
     "output_type": "display_data"
    }
   ],
   "source": [
    "# pip insatll matplotlib\n",
    "data.plot()"
   ]
  },
  {
   "cell_type": "code",
   "execution_count": 26,
   "id": "de0a08eb",
   "metadata": {
    "scrolled": true
   },
   "outputs": [
    {
     "data": {
      "image/png": "[encoded data removed]",
      "text/plain": [
       "<Figure size 432x288 with 1 Axes>"
      ]
     },
     "metadata": {
      "needs_background": "light"
     },
     "output_type": "display_data"
    }
   ],
   "source": [
    "import matplotlib.pyplot as plt\n",
    "\n",
    "data.plot()\n",
    "plt.show()"
   ]
  },
  {
   "cell_type": "markdown",
   "id": "3aa18eaa",
   "metadata": {},
   "source": [
    "# 3 - Obtencion mediante \"yfinance\""
   ]
  },
  {
   "cell_type": "code",
   "execution_count": 27,
   "id": "96fbb5c8",
   "metadata": {},
   "outputs": [],
   "source": [
    "# pip install yfinance\n",
    "\n",
    "import yfinance as yf"
   ]
  },
  {
   "cell_type": "code",
   "execution_count": 28,
   "id": "401a9e4a",
   "metadata": {},
   "outputs": [
    {
     "name": "stdout",
     "output_type": "stream",
     "text": [
      "[*********************100%***********************]  1 of 1 completed\n"
     ]
    }
   ],
   "source": [
    "df2 = yf.download(\"GOOGL\", \"2015-1-1\", \"2018-12-31\")"
   ]
  },
  {
   "cell_type": "code",
   "execution_count": 4,
   "id": "3c786a77",
   "metadata": {},
   "outputs": [
    {
     "data": {
      "text/plain": [
       "pandas.core.frame.DataFrame"
      ]
     },
     "execution_count": 4,
     "metadata": {},
     "output_type": "execute_result"
    }
   ],
   "source": [
    "type(df2)"
   ]
  },
  {
   "cell_type": "code",
   "execution_count": 5,
   "id": "e2e27178",
   "metadata": {},
   "outputs": [
    {
     "data": {
      "text/html": [
       "<div>\n",
       "<style scoped>\n",
       "    .dataframe tbody tr th:only-of-type {\n",
       "        vertical-align: middle;\n",
       "    }\n",
       "\n",
       "    .dataframe tbody tr th {\n",
       "        vertical-align: top;\n",
       "    }\n",
       "\n",
       "    .dataframe thead th {\n",
       "        text-align: right;\n",
       "    }\n",
       "</style>\n",
       "<table border=\"1\" class=\"dataframe\">\n",
       "  <thead>\n",
       "    <tr style=\"text-align: right;\">\n",
       "      <th></th>\n",
       "      <th>Open</th>\n",
       "      <th>High</th>\n",
       "      <th>Low</th>\n",
       "      <th>Close</th>\n",
       "      <th>Adj Close</th>\n",
       "      <th>Volume</th>\n",
       "    </tr>\n",
       "    <tr>\n",
       "      <th>Date</th>\n",
       "      <th></th>\n",
       "      <th></th>\n",
       "      <th></th>\n",
       "      <th></th>\n",
       "      <th></th>\n",
       "      <th></th>\n",
       "    </tr>\n",
       "  </thead>\n",
       "  <tbody>\n",
       "    <tr>\n",
       "      <th>2015-01-02</th>\n",
       "      <td>26.629999</td>\n",
       "      <td>26.790001</td>\n",
       "      <td>26.393999</td>\n",
       "      <td>26.477501</td>\n",
       "      <td>26.477501</td>\n",
       "      <td>26480000</td>\n",
       "    </tr>\n",
       "    <tr>\n",
       "      <th>2015-01-05</th>\n",
       "      <td>26.357500</td>\n",
       "      <td>26.399500</td>\n",
       "      <td>25.887501</td>\n",
       "      <td>25.973000</td>\n",
       "      <td>25.973000</td>\n",
       "      <td>41182000</td>\n",
       "    </tr>\n",
       "    <tr>\n",
       "      <th>2015-01-06</th>\n",
       "      <td>26.025000</td>\n",
       "      <td>26.060499</td>\n",
       "      <td>25.277500</td>\n",
       "      <td>25.332001</td>\n",
       "      <td>25.332001</td>\n",
       "      <td>54456000</td>\n",
       "    </tr>\n",
       "    <tr>\n",
       "      <th>2015-01-07</th>\n",
       "      <td>25.547501</td>\n",
       "      <td>25.574499</td>\n",
       "      <td>25.182501</td>\n",
       "      <td>25.257500</td>\n",
       "      <td>25.257500</td>\n",
       "      <td>46918000</td>\n",
       "    </tr>\n",
       "    <tr>\n",
       "      <th>2015-01-08</th>\n",
       "      <td>25.075500</td>\n",
       "      <td>25.375000</td>\n",
       "      <td>24.750999</td>\n",
       "      <td>25.345501</td>\n",
       "      <td>25.345501</td>\n",
       "      <td>73054000</td>\n",
       "    </tr>\n",
       "  </tbody>\n",
       "</table>\n",
       "</div>"
      ],
      "text/plain": [
       "                 Open       High        Low      Close  Adj Close    Volume\n",
       "Date                                                                       \n",
       "2015-01-02  26.629999  26.790001  26.393999  26.477501  26.477501  26480000\n",
       "2015-01-05  26.357500  26.399500  25.887501  25.973000  25.973000  41182000\n",
       "2015-01-06  26.025000  26.060499  25.277500  25.332001  25.332001  54456000\n",
       "2015-01-07  25.547501  25.574499  25.182501  25.257500  25.257500  46918000\n",
       "2015-01-08  25.075500  25.375000  24.750999  25.345501  25.345501  73054000"
      ]
     },
     "execution_count": 5,
     "metadata": {},
     "output_type": "execute_result"
    }
   ],
   "source": [
    "df2.head()"
   ]
  },
  {
   "cell_type": "code",
   "execution_count": 30,
   "id": "9ca8e7a9",
   "metadata": {},
   "outputs": [
    {
     "data": {
      "text/html": [
       "<div>\n",
       "<style scoped>\n",
       "    .dataframe tbody tr th:only-of-type {\n",
       "        vertical-align: middle;\n",
       "    }\n",
       "\n",
       "    .dataframe tbody tr th {\n",
       "        vertical-align: top;\n",
       "    }\n",
       "\n",
       "    .dataframe thead th {\n",
       "        text-align: right;\n",
       "    }\n",
       "</style>\n",
       "<table border=\"1\" class=\"dataframe\">\n",
       "  <thead>\n",
       "    <tr style=\"text-align: right;\">\n",
       "      <th></th>\n",
       "      <th>Open</th>\n",
       "      <th>High</th>\n",
       "      <th>Low</th>\n",
       "      <th>Close</th>\n",
       "      <th>Adj Close</th>\n",
       "      <th>Volume</th>\n",
       "    </tr>\n",
       "    <tr>\n",
       "      <th>Date</th>\n",
       "      <th></th>\n",
       "      <th></th>\n",
       "      <th></th>\n",
       "      <th></th>\n",
       "      <th></th>\n",
       "      <th></th>\n",
       "    </tr>\n",
       "  </thead>\n",
       "  <tbody>\n",
       "    <tr>\n",
       "      <th>2018-12-21</th>\n",
       "      <td>51.602001</td>\n",
       "      <td>51.883499</td>\n",
       "      <td>49.059502</td>\n",
       "      <td>49.562500</td>\n",
       "      <td>49.562500</td>\n",
       "      <td>104656000</td>\n",
       "    </tr>\n",
       "    <tr>\n",
       "      <th>2018-12-24</th>\n",
       "      <td>49.216000</td>\n",
       "      <td>50.605999</td>\n",
       "      <td>48.882999</td>\n",
       "      <td>49.233501</td>\n",
       "      <td>49.233501</td>\n",
       "      <td>36360000</td>\n",
       "    </tr>\n",
       "    <tr>\n",
       "      <th>2018-12-26</th>\n",
       "      <td>49.899502</td>\n",
       "      <td>52.422501</td>\n",
       "      <td>49.632500</td>\n",
       "      <td>52.392502</td>\n",
       "      <td>52.392502</td>\n",
       "      <td>46318000</td>\n",
       "    </tr>\n",
       "    <tr>\n",
       "      <th>2018-12-27</th>\n",
       "      <td>51.310001</td>\n",
       "      <td>52.667000</td>\n",
       "      <td>50.349998</td>\n",
       "      <td>52.645000</td>\n",
       "      <td>52.645000</td>\n",
       "      <td>45996000</td>\n",
       "    </tr>\n",
       "    <tr>\n",
       "      <th>2018-12-28</th>\n",
       "      <td>52.974998</td>\n",
       "      <td>53.211498</td>\n",
       "      <td>52.099998</td>\n",
       "      <td>52.334000</td>\n",
       "      <td>52.334000</td>\n",
       "      <td>34398000</td>\n",
       "    </tr>\n",
       "  </tbody>\n",
       "</table>\n",
       "</div>"
      ],
      "text/plain": [
       "                 Open       High        Low      Close  Adj Close     Volume\n",
       "Date                                                                        \n",
       "2018-12-21  51.602001  51.883499  49.059502  49.562500  49.562500  104656000\n",
       "2018-12-24  49.216000  50.605999  48.882999  49.233501  49.233501   36360000\n",
       "2018-12-26  49.899502  52.422501  49.632500  52.392502  52.392502   46318000\n",
       "2018-12-27  51.310001  52.667000  50.349998  52.645000  52.645000   45996000\n",
       "2018-12-28  52.974998  53.211498  52.099998  52.334000  52.334000   34398000"
      ]
     },
     "execution_count": 30,
     "metadata": {},
     "output_type": "execute_result"
    }
   ],
   "source": [
    "df2.tail()"
   ]
  },
  {
   "cell_type": "code",
   "execution_count": 33,
   "id": "d9a53549",
   "metadata": {},
   "outputs": [
    {
     "data": {
      "text/html": [
       "<div>\n",
       "<style scoped>\n",
       "    .dataframe tbody tr th:only-of-type {\n",
       "        vertical-align: middle;\n",
       "    }\n",
       "\n",
       "    .dataframe tbody tr th {\n",
       "        vertical-align: top;\n",
       "    }\n",
       "\n",
       "    .dataframe thead th {\n",
       "        text-align: right;\n",
       "    }\n",
       "</style>\n",
       "<table border=\"1\" class=\"dataframe\">\n",
       "  <thead>\n",
       "    <tr style=\"text-align: right;\">\n",
       "      <th></th>\n",
       "      <th>Close</th>\n",
       "    </tr>\n",
       "    <tr>\n",
       "      <th>Date</th>\n",
       "      <th></th>\n",
       "    </tr>\n",
       "  </thead>\n",
       "  <tbody>\n",
       "    <tr>\n",
       "      <th>2015-01-02</th>\n",
       "      <td>529.55</td>\n",
       "    </tr>\n",
       "    <tr>\n",
       "      <th>2015-01-05</th>\n",
       "      <td>519.46</td>\n",
       "    </tr>\n",
       "    <tr>\n",
       "      <th>2015-01-06</th>\n",
       "      <td>506.64</td>\n",
       "    </tr>\n",
       "    <tr>\n",
       "      <th>2015-01-07</th>\n",
       "      <td>505.15</td>\n",
       "    </tr>\n",
       "    <tr>\n",
       "      <th>2015-01-08</th>\n",
       "      <td>506.91</td>\n",
       "    </tr>\n",
       "  </tbody>\n",
       "</table>\n",
       "</div>"
      ],
      "text/plain": [
       "             Close\n",
       "Date              \n",
       "2015-01-02  529.55\n",
       "2015-01-05  519.46\n",
       "2015-01-06  506.64\n",
       "2015-01-07  505.15\n",
       "2015-01-08  506.91"
      ]
     },
     "execution_count": 33,
     "metadata": {},
     "output_type": "execute_result"
    }
   ],
   "source": [
    "df2 = data[[\"Close\"]]\n",
    "df2.head()"
   ]
  },
  {
   "cell_type": "code",
   "execution_count": 34,
   "id": "c759a7c9",
   "metadata": {},
   "outputs": [
    {
     "data": {
      "image/png": "[encoded data removed]",
      "text/plain": [
       "<Figure size 432x288 with 1 Axes>"
      ]
     },
     "metadata": {
      "needs_background": "light"
     },
     "output_type": "display_data"
    }
   ],
   "source": [
    "df2.plot(title = \"Google Stock Quotes from yfinance\",\n",
    "        xlabel = \"2015-2018\",\n",
    "        ylabel= \"Stock Quotes in USD\")\n",
    "\n",
    "plt.show()"
   ]
  },
  {
   "cell_type": "code",
   "execution_count": 31,
   "id": "27fa1e2c",
   "metadata": {},
   "outputs": [
    {
     "data": {
      "image/png": "[encoded data removed]",
      "text/plain": [
       "<Figure size 432x288 with 1 Axes>"
      ]
     },
     "metadata": {
      "needs_background": "light"
     },
     "output_type": "display_data"
    }
   ],
   "source": [
    "data.plot(title = \"Google Stock Quotes from yfinance\",\n",
    "        xlabel = \"2015-2018\",\n",
    "        ylabel= \"Stock Quotes in USD\")\n",
    "\n",
    "plt.show()"
   ]
  },
  {
   "cell_type": "code",
   "execution_count": 35,
   "id": "9a277ba9",
   "metadata": {},
   "outputs": [],
   "source": [
    "# pip install jupyter-dash"
   ]
  },
  {
   "cell_type": "code",
   "execution_count": 40,
   "id": "b9bede3f",
   "metadata": {},
   "outputs": [],
   "source": [
    "from jupyter_dash import JupyterDash\n",
    "from dash import dcc # dash core components (dcc)\n",
    "from dash import html # dash html components (html)\n",
    "from dash.dependencies import Input, Output\n",
    "import plotly.express as px\n",
    "\n",
    "df = quandl.get(\"WIKI/GOOGL.4\", start_date=\"2015-1-1\", end_date=\"2018-12-31\")\n",
    "figure1 = px.line(df, title= \"Google Stock Quotes (2015-2018)\")\n"
   ]
  },
  {
   "cell_type": "code",
   "execution_count": 41,
   "id": "6b936cbb",
   "metadata": {},
   "outputs": [
    {
     "data": {
      "text/html": [
       "\n",
       "        <iframe\n",
       "            width=\"100%\"\n",
       "            height=\"650\"\n",
       "            src=\"http://127.0.0.1:8050/\"\n",
       "            frameborder=\"0\"\n",
       "            allowfullscreen\n",
       "            \n",
       "        ></iframe>\n",
       "        "
      ],
      "text/plain": [
       "<IPython.lib.display.IFrame at 0x26dafb94940>"
      ]
     },
     "metadata": {},
     "output_type": "display_data"
    }
   ],
   "source": [
    "app = JupyterDash(__name__)\n",
    "app.layout = html.Div(children=[\n",
    "    html.H1(children=\"DASH APP FOR FINANCIAL MARKETS\"),\n",
    "    dcc.Graph(figure=figure1)])\n",
    "\n",
    "if __name__ == \"__main__\":\n",
    "    app.run_server(mode=\"inline\")"
   ]
  },
  {
   "cell_type": "code",
   "execution_count": null,
   "id": "1a6e6099",
   "metadata": {},
   "outputs": [],
   "source": []
  }
 ],
 "metadata": {
  "kernelspec": {
   "display_name": "Python 3 (ipykernel)",
   "language": "python",
   "name": "python3"
  },
  "language_info": {
   "codemirror_mode": {
    "name": "ipython",
    "version": 3
   },
   "file_extension": ".py",
   "mimetype": "text/x-python",
   "name": "python",
   "nbconvert_exporter": "python",
   "pygments_lexer": "ipython3",
   "version": "3.10.2"
  }
 },
 "nbformat": 4,
 "nbformat_minor": 5
}
